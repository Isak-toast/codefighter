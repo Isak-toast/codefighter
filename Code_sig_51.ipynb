{
  "nbformat": 4,
  "nbformat_minor": 0,
  "metadata": {
    "colab": {
      "name": "Code_sig_51",
      "provenance": [],
      "collapsed_sections": [],
      "authorship_tag": "ABX9TyP/jmwJJzEU97va+M0r+HnU",
      "include_colab_link": true
    },
    "kernelspec": {
      "name": "python3",
      "display_name": "Python 3"
    },
    "accelerator": "GPU"
  },
  "cells": [
    {
      "cell_type": "markdown",
      "metadata": {
        "id": "view-in-github",
        "colab_type": "text"
      },
      "source": [
        "<a href=\"https://colab.research.google.com/github/Isak-toast/codefighter/blob/master/Code_sig_51.ipynb\" target=\"_parent\"><img src=\"https://colab.research.google.com/assets/colab-badge.svg\" alt=\"Open In Colab\"/></a>"
      ]
    },
    {
      "cell_type": "markdown",
      "metadata": {
        "id": "TICLwKqpdIFf",
        "colab_type": "text"
      },
      "source": [
        "#**[51] Given some integer, find the maximal number you can obtain by deleting exactly one digit of the given number.**"
      ]
    },
    {
      "cell_type": "markdown",
      "metadata": {
        "id": "P-D02mOQdQD5",
        "colab_type": "text"
      },
      "source": [
        "Input/Output\n",
        "\n",
        "[execution time limit] 4 seconds (py3)\n",
        "\n",
        "[input] integer n\n",
        "\n",
        "Guaranteed constraints:\n",
        "10 ≤ n ≤ 106.\n",
        "\n",
        "[output] integer"
      ]
    },
    {
      "cell_type": "code",
      "metadata": {
        "id": "wAa0VK9ydSeR",
        "colab_type": "code",
        "colab": {}
      },
      "source": [
        "def deleteDigit(n):\n",
        "    sn = list(set(str(n)))\n",
        "    s = []\n",
        "    \n",
        "    for i in sn:\n",
        "        ln = list(str(n))    \n",
        "        ln.remove(i)\n",
        "        s.append(int(\"\".join([str(j) for j in ln])))\n",
        "\n",
        "    return max(s)\n"
      ],
      "execution_count": 0,
      "outputs": []
    },
    {
      "cell_type": "code",
      "metadata": {
        "id": "RMW3kX2KdjQn",
        "colab_type": "code",
        "colab": {
          "base_uri": "https://localhost:8080/",
          "height": 35
        },
        "outputId": "5f30582c-dd95-4e5f-f4ad-4bd6f280a2d6"
      },
      "source": [
        "n = 222250\n",
        "deleteDigit(n)"
      ],
      "execution_count": 29,
      "outputs": [
        {
          "output_type": "execute_result",
          "data": {
            "text/plain": [
              "22250"
            ]
          },
          "metadata": {
            "tags": []
          },
          "execution_count": 29
        }
      ]
    },
    {
      "cell_type": "code",
      "metadata": {
        "id": "f0hp9U6liE67",
        "colab_type": "code",
        "colab": {}
      },
      "source": [
        "# lucky-seven\n",
        "def deleteDigit(n):\n",
        "    n = str(n)\n",
        "    return max(int(''.join(n[:i]+n[i+1:])) for i in range(len(n)))"
      ],
      "execution_count": 0,
      "outputs": []
    }
  ]
}