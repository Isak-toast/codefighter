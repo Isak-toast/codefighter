{
  "nbformat": 4,
  "nbformat_minor": 0,
  "metadata": {
    "colab": {
      "name": "Code_sig_51~52",
      "provenance": [],
      "collapsed_sections": [],
      "authorship_tag": "ABX9TyNw27whUeb+XaTrW7I/lWZr",
      "include_colab_link": true
    },
    "kernelspec": {
      "name": "python3",
      "display_name": "Python 3"
    },
    "accelerator": "GPU"
  },
  "cells": [
    {
      "cell_type": "markdown",
      "metadata": {
        "id": "view-in-github",
        "colab_type": "text"
      },
      "source": [
        "<a href=\"https://colab.research.google.com/github/Isak-toast/codefighter/blob/master/Code_sig_51~52.ipynb\" target=\"_parent\"><img src=\"https://colab.research.google.com/assets/colab-badge.svg\" alt=\"Open In Colab\"/></a>"
      ]
    },
    {
      "cell_type": "markdown",
      "metadata": {
        "id": "TICLwKqpdIFf",
        "colab_type": "text"
      },
      "source": [
        "#**[51] Given some integer, find the maximal number you can obtain by deleting exactly one digit of the given number.**"
      ]
    },
    {
      "cell_type": "markdown",
      "metadata": {
        "id": "P-D02mOQdQD5",
        "colab_type": "text"
      },
      "source": [
        "Input/Output\n",
        "\n",
        "[execution time limit] 4 seconds (py3)\n",
        "\n",
        "[input] integer n\n",
        "\n",
        "Guaranteed constraints:\n",
        "10 ≤ n ≤ 106.\n",
        "\n",
        "[output] integer"
      ]
    },
    {
      "cell_type": "code",
      "metadata": {
        "id": "wAa0VK9ydSeR",
        "colab_type": "code",
        "colab": {}
      },
      "source": [
        "def deleteDigit(n):\n",
        "    sn = list(set(str(n)))\n",
        "    s = []\n",
        "    \n",
        "    for i in sn:\n",
        "        ln = list(str(n))    \n",
        "        ln.remove(i)\n",
        "        s.append(int(\"\".join([str(j) for j in ln])))\n",
        "\n",
        "    return max(s)\n"
      ],
      "execution_count": 0,
      "outputs": []
    },
    {
      "cell_type": "code",
      "metadata": {
        "id": "RMW3kX2KdjQn",
        "colab_type": "code",
        "outputId": "5f30582c-dd95-4e5f-f4ad-4bd6f280a2d6",
        "colab": {
          "base_uri": "https://localhost:8080/",
          "height": 35
        }
      },
      "source": [
        "n = 222250\n",
        "deleteDigit(n)"
      ],
      "execution_count": 0,
      "outputs": [
        {
          "output_type": "execute_result",
          "data": {
            "text/plain": [
              "22250"
            ]
          },
          "metadata": {
            "tags": []
          },
          "execution_count": 29
        }
      ]
    },
    {
      "cell_type": "code",
      "metadata": {
        "id": "f0hp9U6liE67",
        "colab_type": "code",
        "colab": {}
      },
      "source": [
        "# lucky-seven\n",
        "def deleteDigit(n):\n",
        "    n = str(n)\n",
        "    return max(int(''.join(n[:i]+n[i+1:])) for i in range(len(n)))"
      ],
      "execution_count": 0,
      "outputs": []
    },
    {
      "cell_type": "markdown",
      "metadata": {
        "id": "Hd6PI8NBgYYp",
        "colab_type": "text"
      },
      "source": [
        "#**[52] Define a word as a sequence of consecutive English letters. Find the longest word from the given string.**"
      ]
    },
    {
      "cell_type": "markdown",
      "metadata": {
        "id": "EfZDDLmahbh3",
        "colab_type": "text"
      },
      "source": [
        "Input/Output\n",
        "\n",
        "[execution time limit] 4 seconds (py3)\n",
        "\n",
        "[input] string text\n",
        "\n",
        "Guaranteed constraints:\n",
        "4 ≤ text.length ≤ 50.\n",
        "\n",
        "[output] string\n",
        "\n",
        "The longest word from text. It's guaranteed that there is a unique output."
      ]
    },
    {
      "cell_type": "code",
      "metadata": {
        "id": "YIs615oJM0lm",
        "colab_type": "code",
        "colab": {}
      },
      "source": [
        "# incorrect\n",
        "def longestWord(text):\n",
        "    t = re.split('[, ]', text)\n",
        "    ts = [re.sub(r\"[![]\",\"\",i) for i in t]\n",
        "    tm = max(len(i) for i in ts)\n",
        "\n",
        "    for i in ts:\n",
        "        if len(i) == tm:\n",
        "            return i\n"
      ],
      "execution_count": 0,
      "outputs": []
    },
    {
      "cell_type": "code",
      "metadata": {
        "id": "WZjERYlnNdal",
        "colab_type": "code",
        "colab": {
          "base_uri": "https://localhost:8080/",
          "height": 35
        },
        "outputId": "4d30bc28-5fd6-4239-ba7d-8c8b51f25007"
      },
      "source": [
        "text = \"To be or not to be\"\n",
        "longestWord(text)\n"
      ],
      "execution_count": 42,
      "outputs": [
        {
          "output_type": "execute_result",
          "data": {
            "text/plain": [
              "'not'"
            ]
          },
          "metadata": {
            "tags": []
          },
          "execution_count": 42
        }
      ]
    },
    {
      "cell_type": "code",
      "metadata": {
        "id": "SivQlTu7RXYm",
        "colab_type": "code",
        "colab": {}
      },
      "source": [
        "# dnl-blkv\n",
        "def longestWord(text):\n",
        "    return max(re.split('[^a-zA-Z]', text), key=len)\n"
      ],
      "execution_count": 0,
      "outputs": []
    }
  ]
}