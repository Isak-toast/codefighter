{
  "nbformat": 4,
  "nbformat_minor": 0,
  "metadata": {
    "colab": {
      "name": "Code_sig_41",
      "provenance": [],
      "authorship_tag": "ABX9TyN0yWI1g1xZFksypBaqTx+r",
      "include_colab_link": true
    },
    "kernelspec": {
      "name": "python3",
      "display_name": "Python 3"
    },
    "accelerator": "GPU"
  },
  "cells": [
    {
      "cell_type": "markdown",
      "metadata": {
        "id": "view-in-github",
        "colab_type": "text"
      },
      "source": [
        "<a href=\"https://colab.research.google.com/github/Isak-toast/codefighter/blob/master/Code_sig_41.ipynb\" target=\"_parent\"><img src=\"https://colab.research.google.com/assets/colab-badge.svg\" alt=\"Open In Colab\"/></a>"
      ]
    },
    {
      "cell_type": "markdown",
      "metadata": {
        "id": "TajeZK9olwtg",
        "colab_type": "text"
      },
      "source": [
        "#**[41] Let's define digit degree of some positive integer as the number of times we need to replace this number with the sum of its digits until we get to a one digit number.**\n",
        "\n",
        "#**Given an integer, find its digit degree.**"
      ]
    },
    {
      "cell_type": "markdown",
      "metadata": {
        "id": "HuCqQ6fJl4VB",
        "colab_type": "text"
      },
      "source": [
        "Input/Output\n",
        "\n",
        "[execution time limit] 4 seconds (py3)\n",
        "\n",
        "[input] integer n\n",
        "\n",
        "Guaranteed constraints:\n",
        "5 ≤ n ≤ 109.\n",
        "\n",
        "[output] integer"
      ]
    },
    {
      "cell_type": "code",
      "metadata": {
        "id": "EgGGVKITl-nC",
        "colab_type": "code",
        "colab": {}
      },
      "source": [
        "def digitDegree(n):\n",
        "    cnt = 0\n",
        "    while(len(str(n)) is not 1):\n",
        "        cnt+=1\n",
        "        n = sum(int(i) for i in list(str(n)))\n",
        "        \n",
        "        if(len(str(n)) is 1):\n",
        "            return cnt\n",
        "    return 0"
      ],
      "execution_count": 0,
      "outputs": []
    },
    {
      "cell_type": "code",
      "metadata": {
        "id": "NSf34d9pC2Fo",
        "colab_type": "code",
        "colab": {
          "base_uri": "https://localhost:8080/",
          "height": 35
        },
        "outputId": "0f0cc048-6e30-4ed7-9346-49ba2bd4005b"
      },
      "source": [
        "n = 99\n",
        "digitDegree(n)"
      ],
      "execution_count": 34,
      "outputs": [
        {
          "output_type": "execute_result",
          "data": {
            "text/plain": [
              "2"
            ]
          },
          "metadata": {
            "tags": []
          },
          "execution_count": 34
        }
      ]
    },
    {
      "cell_type": "code",
      "metadata": {
        "id": "-Vp-2b2nD1Bs",
        "colab_type": "code",
        "colab": {}
      },
      "source": [
        "# scraphead\n",
        "def digitDegree(n):\n",
        "    \n",
        "    if n < 10:\n",
        "        return 0\n",
        "    sumOfDigits = sum([int(i) for i in str(n)])\n",
        "    \n",
        "    return digitDegree(sumOfDigits) + 1"
      ],
      "execution_count": 0,
      "outputs": []
    }
  ]
}