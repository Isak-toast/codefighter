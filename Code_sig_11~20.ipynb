{
  "nbformat": 4,
  "nbformat_minor": 0,
  "metadata": {
    "colab": {
      "name": "Code_sig_11~20.ipynb",
      "provenance": [],
      "collapsed_sections": [],
      "include_colab_link": true
    },
    "kernelspec": {
      "name": "python3",
      "display_name": "Python 3"
    },
    "accelerator": "GPU"
  },
  "cells": [
    {
      "cell_type": "markdown",
      "metadata": {
        "id": "view-in-github",
        "colab_type": "text"
      },
      "source": [
        "<a href=\"https://colab.research.google.com/github/Isak-toast/codefighter/blob/master/Code_sig_11~20.ipynb\" target=\"_parent\"><img src=\"https://colab.research.google.com/assets/colab-badge.svg\" alt=\"Open In Colab\"/></a>"
      ]
    },
    {
      "cell_type": "markdown",
      "metadata": {
        "id": "9qhOD4FqtzxG",
        "colab_type": "text"
      },
      "source": [
        "#**[11] Ticket numbers usually consist of an even number of digits. A ticket number is considered lucky if the sum of the first half of the digits is equal to the sum of the second half.**"
      ]
    },
    {
      "cell_type": "markdown",
      "metadata": {
        "id": "egnLlgjKt6VV",
        "colab_type": "text"
      },
      "source": [
        "Input/Output\n",
        "\n",
        "[execution time limit] 4 seconds (py3)\n",
        "\n",
        "[input] integer n\n",
        "\n",
        "A ticket number represented as a positive integer with an even number of digits.\n",
        "\n",
        "Guaranteed constraints:\n",
        "10 ≤ n < 106.\n",
        "\n",
        "[output] boolean\n",
        "\n",
        "true if n is a lucky ticket number, false otherwise."
      ]
    },
    {
      "cell_type": "code",
      "metadata": {
        "id": "pfHq0mo7xLWC",
        "colab_type": "code",
        "colab": {}
      },
      "source": [
        "def isLucky(n):\n",
        "    a = list(str(n))\n",
        "    limit = int(len(a)//2)\n",
        "    b = a[:limit]\n",
        "    newlist = []\n",
        "    newhalflist = []\n",
        "    for i in a:\n",
        "         newlist.append(int(i))\n",
        "    for i in b:\n",
        "        newhalflist.append(int(i))\n",
        "    return sum(newlist) == (2*sum(newhalflist))\n"
      ],
      "execution_count": 0,
      "outputs": []
    },
    {
      "cell_type": "code",
      "metadata": {
        "id": "8DfggMPKupwG",
        "colab_type": "code",
        "outputId": "b58846a4-a9c6-4d63-a630-e8ac3c41717d",
        "colab": {
          "base_uri": "https://localhost:8080/",
          "height": 34
        }
      },
      "source": [
        "n = 1230\n",
        "isLucky(n)"
      ],
      "execution_count": 0,
      "outputs": [
        {
          "output_type": "execute_result",
          "data": {
            "text/plain": [
              "True"
            ]
          },
          "metadata": {
            "tags": []
          },
          "execution_count": 4
        }
      ]
    },
    {
      "cell_type": "code",
      "metadata": {
        "id": "9vLC-dHBusjx",
        "colab_type": "code",
        "outputId": "7643ca49-27c7-4bce-9d91-d154c1e108da",
        "colab": {
          "base_uri": "https://localhost:8080/",
          "height": 34
        }
      },
      "source": [
        "#andyman1337\n",
        "def isLucky(n):\n",
        "    s = str(n)\n",
        "    pivot = len(s)//2\n",
        "    left, right = s[:pivot], s[pivot:]\n",
        "    return sum(map(int, left)) == sum(map(int, right))\n"
      ],
      "execution_count": 0,
      "outputs": [
        {
          "output_type": "execute_result",
          "data": {
            "text/plain": [
              "6"
            ]
          },
          "metadata": {
            "tags": []
          },
          "execution_count": 20
        }
      ]
    },
    {
      "cell_type": "markdown",
      "metadata": {
        "id": "8tHqgj4JyldH",
        "colab_type": "text"
      },
      "source": [
        "#**[12] Some people are standing in a row in a park. There are trees between them which cannot be moved. Your task is to rearrange the people by their heights in a non-descending order without moving the trees. People can be very tall!**"
      ]
    },
    {
      "cell_type": "markdown",
      "metadata": {
        "id": "R32GkKScypq8",
        "colab_type": "text"
      },
      "source": [
        "Input/Output\n",
        "\n",
        "[execution time limit] 4 seconds (py3)\n",
        "\n",
        "[input] array.integer a\n",
        "\n",
        "If a[i] = -1, then the ith position is occupied by a tree. Otherwise a[i] is the height of a person standing in the ith position.\n",
        "\n",
        "Guaranteed constraints:\n",
        "1 ≤ a.length ≤ 1000,\n",
        "-1 ≤ a[i] ≤ 1000.\n",
        "\n",
        "[output] array.integer\n",
        "\n",
        "Sorted array a with all the trees untouched."
      ]
    },
    {
      "cell_type": "code",
      "metadata": {
        "id": "HDU0_PITyskU",
        "colab_type": "code",
        "colab": {}
      },
      "source": [
        "def sortByHeight(a):\n",
        "    idx_list = []\n",
        "    num_list = []\n",
        "    for idx, num in enumerate(a):\n",
        "        if -1 == num :\n",
        "            continue\n",
        "        else :\n",
        "            idx_list.append(idx)\n",
        "            num_list.append(num)\n",
        "\n",
        "    num_list = sorted(num_list)\n",
        "\n",
        "    for i in range(len(idx_list)):\n",
        "        a[idx_list[i]] = num_list[i]\n",
        "\n",
        "    return a"
      ],
      "execution_count": 0,
      "outputs": []
    },
    {
      "cell_type": "code",
      "metadata": {
        "id": "ohctSpgM5QQg",
        "colab_type": "code",
        "outputId": "76176cf7-205d-464d-871a-94d696e9be84",
        "colab": {
          "base_uri": "https://localhost:8080/",
          "height": 34
        }
      },
      "source": [
        "a = [-1, 150, 190, 170, -1, -1, 160, 180]\n",
        "sortByHeight(a)"
      ],
      "execution_count": 0,
      "outputs": [
        {
          "output_type": "execute_result",
          "data": {
            "text/plain": [
              "[-1, 150, 160, 170, -1, -1, 180, 190]"
            ]
          },
          "metadata": {
            "tags": []
          },
          "execution_count": 9
        }
      ]
    },
    {
      "cell_type": "code",
      "metadata": {
        "id": "5SxLEmixzCax",
        "colab_type": "code",
        "colab": {}
      },
      "source": [
        "# andrew_pudge\n",
        "def sortByHeight(a):\n",
        "    sorted_list = sorted([i for i in a if i > 0])\n",
        "    for idx, val in enumerate(a):\n",
        "        if val==-1:\n",
        "            sorted_list.insert(idx, val)\n",
        "    return sorted_list\n",
        "        "
      ],
      "execution_count": 0,
      "outputs": []
    },
    {
      "cell_type": "markdown",
      "metadata": {
        "id": "2hlKiRefQgFw",
        "colab_type": "text"
      },
      "source": [
        "#**[13] Write a function that reverses characters in (possibly nested) parentheses in the input string.**\n",
        "\n",
        "**Input strings will always be well-formed with matching ()s.**"
      ]
    },
    {
      "cell_type": "markdown",
      "metadata": {
        "id": "8lHJ35T9QgQB",
        "colab_type": "text"
      },
      "source": [
        "Input/Output\n",
        "\n",
        "[execution time limit] 4 seconds (py3)\n",
        "\n",
        "[input] string inputString\n",
        "\n",
        "A string consisting of lowercase English letters and the characters ( and ). It is guaranteed that all parentheses in inputString form a regular bracket sequence.\n",
        "\n",
        "Guaranteed constraints:\n",
        "0 ≤ inputString.length ≤ 50.\n",
        "\n",
        "[output] string\n",
        "\n",
        "Return inputString, with all the characters that were in parentheses reversed."
      ]
    },
    {
      "cell_type": "code",
      "metadata": {
        "id": "uHyeGa5oQv7O",
        "colab_type": "code",
        "colab": {}
      },
      "source": [
        "#실패 \n",
        "def reverseInParentheses(inputString):\n",
        "    for idx, ch in enumerate(inputString):\n",
        "        if ch == '(' :\n",
        "            start = idx\n",
        "            print(start)\n",
        "        elif ch == ')':\n",
        "            end = idx\n",
        "            inputString = inputString.replace(inputString[start:end+1], inputString[end-1:start:-1])    \n",
        "    return inputString"
      ],
      "execution_count": 0,
      "outputs": []
    },
    {
      "cell_type": "code",
      "metadata": {
        "id": "5KcTNngjRaWu",
        "colab_type": "code",
        "outputId": "3c261fcf-15fb-4c66-8448-2df82b6234d2",
        "colab": {
          "base_uri": "https://localhost:8080/",
          "height": 34
        }
      },
      "source": [
        "inputString = \"(bar)\"\n",
        "reverseInParentheses(inputString)"
      ],
      "execution_count": 0,
      "outputs": [
        {
          "output_type": "execute_result",
          "data": {
            "text/plain": [
              "'rab'"
            ]
          },
          "metadata": {
            "tags": []
          },
          "execution_count": 141
        }
      ]
    },
    {
      "cell_type": "code",
      "metadata": {
        "id": "NKA26cvvcwoJ",
        "colab_type": "code",
        "colab": {}
      },
      "source": [
        "# props to vanpet90 for his genious idea to use eval in the previous version of this task\n",
        "def reverseInParentheses(s):\n",
        "    return eval('\"' + s.replace('(', '\"+(\"').replace(')', '\")[::-1]+\"') + '\"') # s = \"asdfd\"+(\"bar\")[::-1]+\"asdfasfd\"\n",
        "\n",
        "    "
      ],
      "execution_count": 0,
      "outputs": []
    },
    {
      "cell_type": "code",
      "metadata": {
        "id": "il_ra-VCofSx",
        "colab_type": "code",
        "colab": {}
      },
      "source": [
        "#dubrov\n",
        "def reverseInParentheses(s):\n",
        "    for i in range(len(s)):\n",
        "        if s[i] == \"(\":\n",
        "            start = i\n",
        "        if s[i] == \")\":\n",
        "            end = i\n",
        "            return reverseInParentheses(s[:start] + s[start+1:end][::-1] + s[end+1:])\n",
        "    return s\n"
      ],
      "execution_count": 0,
      "outputs": []
    },
    {
      "cell_type": "markdown",
      "metadata": {
        "id": "WAysvdjYLGK8",
        "colab_type": "text"
      },
      "source": [
        "#**[14] Several people are standing in a row and need to be divided into two teams. The first person goes into team 1, the second goes into team 2, the third goes into team 1 again, the fourth into team 2, and so on.**\n",
        "\n",
        "**You are given an array of positive integers - the weights of the people. Return an array of two integers, where the first element is the total weight of team 1, and the second element is the total weight of team 2 after the division is complete.**"
      ]
    },
    {
      "cell_type": "markdown",
      "metadata": {
        "id": "jaK2jZW9LGaD",
        "colab_type": "text"
      },
      "source": [
        "Input/Output\n",
        "\n",
        "[execution time limit] 4 seconds (py3)\n",
        "\n",
        "[input] array.integer a\n",
        "\n",
        "Guaranteed constraints:\n",
        "1 ≤ a.length ≤ 105,\n",
        "45 ≤ a[i] ≤ 100.\n",
        "\n",
        "[output] array.integer"
      ]
    },
    {
      "cell_type": "code",
      "metadata": {
        "id": "3C8te8PzcjP7",
        "colab_type": "code",
        "colab": {}
      },
      "source": [
        "def alternatingSums(a):\n",
        "    t_list = []; t1 = 0; t2 = 0\n",
        "    for idx, num in enumerate(a):\n",
        "        if idx % 2 == 0:\n",
        "            t1 += num\n",
        "        else:\n",
        "            t2 += num\n",
        "\n",
        "    t_list.append(t1); t_list.append(t2)\n",
        "\n",
        "    return t_list\n"
      ],
      "execution_count": 0,
      "outputs": []
    },
    {
      "cell_type": "code",
      "metadata": {
        "id": "WPmc6UVRgka9",
        "colab_type": "code",
        "outputId": "51b9bcd6-500a-433d-df5e-8ab9a2536538",
        "colab": {
          "base_uri": "https://localhost:8080/",
          "height": 34
        }
      },
      "source": [
        "a = [50, 60, 60, 45, 70]\n",
        "alternatingSums(a)"
      ],
      "execution_count": 0,
      "outputs": [
        {
          "output_type": "execute_result",
          "data": {
            "text/plain": [
              "[180, 105]"
            ]
          },
          "metadata": {
            "tags": []
          },
          "execution_count": 38
        }
      ]
    },
    {
      "cell_type": "code",
      "metadata": {
        "id": "q3bXasvwgsRJ",
        "colab_type": "code",
        "colab": {}
      },
      "source": [
        "# andrew_pudge\n",
        "def alternatingSums(a):\n",
        "    return [sum(a[::2]),sum(a[1::2])]"
      ],
      "execution_count": 0,
      "outputs": []
    },
    {
      "cell_type": "markdown",
      "metadata": {
        "id": "yYsyTwh-MDt6",
        "colab_type": "text"
      },
      "source": [
        ""
      ]
    },
    {
      "cell_type": "markdown",
      "metadata": {
        "id": "y0gY9l75MD4T",
        "colab_type": "text"
      },
      "source": [
        "#**[15] Given a rectangular matrix of characters, add a border of asterisks(*) to it.**"
      ]
    },
    {
      "cell_type": "markdown",
      "metadata": {
        "id": "d_3msEyiMRwB",
        "colab_type": "text"
      },
      "source": [
        "Input/Output\n",
        "\n",
        "[execution time limit] 4 seconds (py3)\n",
        "\n",
        "[input] array.string picture\n",
        "\n",
        "A non-empty array of non-empty equal-length strings.\n",
        "\n",
        "Guaranteed constraints:\n",
        "1 ≤ picture.length ≤ 100,\n",
        "1 ≤ picture[i].length ≤ 100.\n",
        "\n",
        "[output] array.string\n",
        "\n",
        "The same matrix of characters, framed with a border of asterisks of width 1."
      ]
    },
    {
      "cell_type": "code",
      "metadata": {
        "id": "RjemN8hjMScE",
        "colab_type": "code",
        "colab": {}
      },
      "source": [
        "def addBorder(picture):\n",
        "    for i in range(len(picture)):\n",
        "        picture[i] = '*' + picture[i] + '*'\n",
        "        \n",
        "    picture.insert(0,'*'*len(picture[0]))\n",
        "    picture.insert(len(picture)+1,'*'*len(picture[0]))\n",
        "\n",
        "    return picture"
      ],
      "execution_count": 0,
      "outputs": []
    },
    {
      "cell_type": "code",
      "metadata": {
        "id": "i2lPZCZKOUoQ",
        "colab_type": "code",
        "outputId": "45179fc1-7d01-4c38-9721-6aaa5a189bf7",
        "colab": {
          "base_uri": "https://localhost:8080/",
          "height": 34
        }
      },
      "source": [
        "picture = [\"aa\",  \"**\",  \"zz\"]\n",
        "addBorder(picture)"
      ],
      "execution_count": 0,
      "outputs": [
        {
          "output_type": "execute_result",
          "data": {
            "text/plain": [
              "['****', '*aa*', '****', '*zz*', '****']"
            ]
          },
          "metadata": {
            "tags": []
          },
          "execution_count": 37
        }
      ]
    },
    {
      "cell_type": "code",
      "metadata": {
        "id": "pzzE4JU7SqwW",
        "colab_type": "code",
        "colab": {}
      },
      "source": [
        "# simone_pglr\n",
        "def addBorder(picture):\n",
        "    Border_len = len(picture[0])+2\n",
        "    return ['*'*Border_len] + [x.center(Border_len, '*') for x in picture] + ['*'*Border_len]"
      ],
      "execution_count": 0,
      "outputs": []
    },
    {
      "cell_type": "markdown",
      "metadata": {
        "id": "qI3RXqdRTXZj",
        "colab_type": "text"
      },
      "source": [
        "#**[16] Two arrays are called similar if one can be obtained from another by swapping at most one pair of elements in one of the arrays.**\n",
        "\n",
        "**Given two arrays a and b, check whether they are similar.**"
      ]
    },
    {
      "cell_type": "markdown",
      "metadata": {
        "id": "OtEavavQ5t6X",
        "colab_type": "text"
      },
      "source": [
        "Input/Output\n",
        "\n",
        "[execution time limit] 4 seconds (py3)\n",
        "\n",
        "[input] array.integer a\n",
        "\n",
        "Array of integers.\n",
        "\n",
        "Guaranteed constraints:\n",
        "3 ≤ a.length ≤ 105,\n",
        "1 ≤ a[i] ≤ 1000.\n",
        "\n",
        "[input] array.integer b\n",
        "\n",
        "Array of integers of the same length as a.\n",
        "\n",
        "Guaranteed constraints:\n",
        "b.length = a.length,\n",
        "1 ≤ b[i] ≤ 1000.\n",
        "\n",
        "[output] boolean\n",
        "\n",
        "true if a and b are similar, false otherwise."
      ]
    },
    {
      "cell_type": "code",
      "metadata": {
        "id": "iQv-ATms6_av",
        "colab_type": "code",
        "colab": {}
      },
      "source": [
        "# dnl-blkv\n",
        "from collections import Counter as C\n",
        "\n",
        "def areSimilar(A, B):\n",
        "    return C(A) == C(B) and sum(a != b for a, b in zip(A, B)) < 3\n"
      ],
      "execution_count": 0,
      "outputs": []
    },
    {
      "cell_type": "code",
      "metadata": {
        "id": "2VJXJ7ec7B3U",
        "colab_type": "code",
        "outputId": "ec7d0a04-cb7b-4b53-c641-1af4d664ebb5",
        "colab": {
          "base_uri": "https://localhost:8080/",
          "height": 34
        }
      },
      "source": [
        "a = [832, 998, 148, 570, 533, 561, 894, 147, 455, 279]\n",
        "b = [832, 570, 148, 998, 533, 561, 455, 147, 894, 279]\n",
        "areSimilar(a, b)"
      ],
      "execution_count": 0,
      "outputs": [
        {
          "output_type": "execute_result",
          "data": {
            "text/plain": [
              "False"
            ]
          },
          "metadata": {
            "tags": []
          },
          "execution_count": 13
        }
      ]
    },
    {
      "cell_type": "code",
      "metadata": {
        "id": "P9QRcYHfnp3u",
        "colab_type": "code",
        "colab": {}
      },
      "source": [
        "def areSimilar(a, b):\n",
        "    return sorted(a) == sorted(b) and sum( A!=B for A, B in zip(a,b)) < 3"
      ],
      "execution_count": 0,
      "outputs": []
    },
    {
      "cell_type": "markdown",
      "metadata": {
        "id": "Z5B15uTlgsZc",
        "colab_type": "text"
      },
      "source": [
        "#**[17] You are given an array of integers. On each move you are allowed to increase exactly one of its element by one. Find the minimal number of moves required to obtain a strictly increasing sequence from the input.**"
      ]
    },
    {
      "cell_type": "markdown",
      "metadata": {
        "id": "0CJQDkQ8gsnE",
        "colab_type": "text"
      },
      "source": [
        "Input/Output\n",
        "\n",
        "[execution time limit] 4 seconds (py3)\n",
        "\n",
        "[input] array.integer inputArray\n",
        "\n",
        "Guaranteed constraints:\n",
        "3 ≤ inputArray.length ≤ 105,\n",
        "-105 ≤ inputArray[i] ≤ 105.\n",
        "\n",
        "[output] integer\n",
        "\n",
        "The minimal number of moves needed to obtain a strictly increasing sequence from inputArray.\n",
        "It's guaranteed that for the given test cases the answer always fits signed 32-bit integer type."
      ]
    },
    {
      "cell_type": "code",
      "metadata": {
        "id": "tsIfePnmCNvz",
        "colab_type": "code",
        "colab": {}
      },
      "source": [
        "def arrayChange(inputArray):\n",
        "    diff_sum = 0\n",
        "    prev_val = inputArray[0]\n",
        "\n",
        "    for recent_val in inputArray[1:]:\n",
        "        if(prev_val >= recent_val):\n",
        "            diff_sum += prev_val - recent_val + 1\n",
        "            prev_val = prev_val + 1\n",
        "        elif(prev_val < recent_val):\n",
        "            prev_val = recent_val\n",
        "    \n",
        "    return diff_sum"
      ],
      "execution_count": 0,
      "outputs": []
    },
    {
      "cell_type": "code",
      "metadata": {
        "id": "X3hKYSK5QnZJ",
        "colab_type": "code",
        "outputId": "f4f4b36e-b767-4452-a21b-1b7f756e989d",
        "colab": {
          "base_uri": "https://localhost:8080/",
          "height": 34
        }
      },
      "source": [
        "inputArray = [-787, -773, -93, 867, -28, 118, 372, 255, 355, 598, -179, -752, 794, 961, -84, 296, -714, 14, 666, -265, -905, 942, -691, -379, -698, -650, 637, 523, 709, -674, 574, -239, 805, -434, 597, -677, 664, 384, 726, -389, -387, 772, -603, 685, 249, 446, -631, 454, 983, 867, -158, 932, -440, 891, -12, 400, -916, 503, 185, -802, -255, 207, -952, -506, -689, 425, 747, -907, -30, 102, 553, 981, -664, 75, -957, -42, 99, -750, -277, 686, -884, -972, 470, 32, 439, 163, 887, 895, -555, -654, 793, 333, 143, 73, 181, -512, -915, -68, 542, 799]\n",
        "arrayChange(inputArray)"
      ],
      "execution_count": 0,
      "outputs": [
        {
          "output_type": "execute_result",
          "data": {
            "text/plain": [
              "89510"
            ]
          },
          "metadata": {
            "tags": []
          },
          "execution_count": 7
        }
      ]
    },
    {
      "cell_type": "markdown",
      "metadata": {
        "id": "k8UfqR-jZGAb",
        "colab_type": "text"
      },
      "source": [
        "#**[18] Given a string, find out if its characters can be rearranged to form a palindrome.**"
      ]
    },
    {
      "cell_type": "markdown",
      "metadata": {
        "id": "pVGLmn8eZMPy",
        "colab_type": "text"
      },
      "source": [
        "Input/Output\n",
        "\n",
        "[execution time limit] 4 seconds (py3)\n",
        "\n",
        "[input] string inputString\n",
        "\n",
        "A string consisting of lowercase English letters.\n",
        "\n",
        "Guaranteed constraints:\n",
        "1 ≤ inputString.length ≤ 50.\n",
        "\n",
        "[output] boolean\n",
        "\n",
        "true if the characters of the inputString can be rearranged to form a palindrome, false otherwise."
      ]
    },
    {
      "cell_type": "code",
      "metadata": {
        "id": "pZbV4yEbZZqZ",
        "colab_type": "code",
        "colab": {}
      },
      "source": [
        "# andrew_pudge\n",
        "def palindromeRearranging(inputString):\n",
        "\n",
        "    return sum([inputString.count(i)%2 for i in set(inputString)]) <= 1"
      ],
      "execution_count": 0,
      "outputs": []
    },
    {
      "cell_type": "code",
      "metadata": {
        "id": "L5ZIyjq0Zfl_",
        "colab_type": "code",
        "outputId": "27e7df20-c3ce-42dc-bc2e-67701d836eb2",
        "colab": {
          "base_uri": "https://localhost:8080/",
          "height": 35
        }
      },
      "source": [
        "inputString = \"abbcabb\"\n",
        "palindromeRearranging(inputString)"
      ],
      "execution_count": 0,
      "outputs": [
        {
          "output_type": "execute_result",
          "data": {
            "text/plain": [
              "True"
            ]
          },
          "metadata": {
            "tags": []
          },
          "execution_count": 2
        }
      ]
    },
    {
      "cell_type": "code",
      "metadata": {
        "id": "oODY1KlRg5KA",
        "colab_type": "code",
        "colab": {}
      },
      "source": [
        "def palindromeRearranging(inputString):\n",
        "\n",
        "    return sum([inputString.count(i)%2 for i in  set(inputString)]) <= 1"
      ],
      "execution_count": 0,
      "outputs": []
    },
    {
      "cell_type": "markdown",
      "metadata": {
        "id": "fllPg_-L6DMG",
        "colab_type": "text"
      },
      "source": [
        "#**[19] Call two arms equally strong if the heaviest weights they each are able to lift are equal.**\n",
        "\n",
        "#**Call two people equally strong if their strongest arms are equally strong (the strongest arm can be both the right and the left), and so are their weakest arms.**\n",
        "\n",
        "#**Given your and your friend's arms' lifting capabilities find out if you two are equally strong.**"
      ]
    },
    {
      "cell_type": "markdown",
      "metadata": {
        "id": "lRZsP9196Udw",
        "colab_type": "text"
      },
      "source": [
        "Input/Output\n",
        "\n",
        "[execution time limit] 4 seconds (py3)\n",
        "\n",
        "[input] integer yourLeft\n",
        "\n",
        "A non-negative integer representing the heaviest weight you can lift with your left arm.\n",
        "\n",
        "Guaranteed constraints:\n",
        "0 ≤ yourLeft ≤ 20.\n",
        "\n",
        "[input] integer yourRight\n",
        "\n",
        "A non-negative integer representing the heaviest weight you can lift with your right arm.\n",
        "\n",
        "Guaranteed constraints:\n",
        "0 ≤ yourRight ≤ 20.\n",
        "\n",
        "[input] integer friendsLeft\n",
        "\n",
        "A non-negative integer representing the heaviest weight your friend can lift with his or her left arm.\n",
        "\n",
        "Guaranteed constraints:\n",
        "0 ≤ friendsLeft ≤ 20.\n",
        "\n",
        "[input] integer friendsRight\n",
        "\n",
        "A non-negative integer representing the heaviest weight your friend can lift with his or her right arm.\n",
        "\n",
        "Guaranteed constraints:\n",
        "0 ≤ friendsRight ≤ 20.\n",
        "\n",
        "[output] boolean\n",
        "\n",
        "true if you and your friend are equally strong, false otherwise."
      ]
    },
    {
      "cell_type": "code",
      "metadata": {
        "id": "nssBRDZV6V22",
        "colab_type": "code",
        "colab": {}
      },
      "source": [
        "def areEquallyStrong(yourLeft, yourRight, friendsLeft, friendsRight):\n",
        "    if(yourLeft == friendsLeft):\n",
        "        if(yourRight == friendsRight):\n",
        "            return True\n",
        "    if(yourLeft == friendsRight):\n",
        "        if(yourRight == friendsLeft):\n",
        "            return True\n",
        "    return False\n"
      ],
      "execution_count": 0,
      "outputs": []
    },
    {
      "cell_type": "code",
      "metadata": {
        "id": "rzEjgiQaGwmb",
        "colab_type": "code",
        "outputId": "e5d27d89-8a7e-416b-ec56-dc953386c4b7",
        "colab": {
          "base_uri": "https://localhost:8080/",
          "height": 34
        }
      },
      "source": [
        "yourLeft = 10\n",
        "yourRight = 11\n",
        "friendsLeft = 11\n",
        "friendsRight = 10\n",
        "areEquallyStrong(yourLeft, yourRight, friendsLeft, friendsRight)\n"
      ],
      "execution_count": 0,
      "outputs": [
        {
          "output_type": "execute_result",
          "data": {
            "text/plain": [
              "True"
            ]
          },
          "metadata": {
            "tags": []
          },
          "execution_count": 13
        }
      ]
    },
    {
      "cell_type": "code",
      "metadata": {
        "id": "ru5nW4KWG32u",
        "colab_type": "code",
        "colab": {}
      },
      "source": [
        "# chris_l65\n",
        "def areEquallyStrong(yourLeft, yourRight, friendsLeft, friendsRight):\n",
        "    return {yourLeft, yourRight} == {friendsLeft, friendsRight} # 2개 사전에서 동일한 원소를 확인\n"
      ],
      "execution_count": 0,
      "outputs": []
    },
    {
      "cell_type": "markdown",
      "metadata": {
        "id": "wZOWMVHIOHVE",
        "colab_type": "text"
      },
      "source": [
        "#**[20] Given an array of integers, find the maximal absolute difference between any two of its adjacent elements.**"
      ]
    },
    {
      "cell_type": "markdown",
      "metadata": {
        "id": "7QbbKXtBb3u1",
        "colab_type": "text"
      },
      "source": [
        "Input/Output\n",
        "\n",
        "[execution time limit] 4 seconds (py3)\n",
        "\n",
        "[input] array.integer inputArray\n",
        "\n",
        "Guaranteed constraints:\n",
        "3 ≤ inputArray.length ≤ 10,\n",
        "-15 ≤ inputArray[i] ≤ 15.\n",
        "\n",
        "[output] integer\n",
        "\n",
        "The maximal absolute difference."
      ]
    },
    {
      "cell_type": "code",
      "metadata": {
        "id": "Ws6BxRfub1kg",
        "colab_type": "code",
        "colab": {}
      },
      "source": [
        "def arrayMaximalAdjacentDifference(inputArray):\n",
        "    return max([abs(inputArray[i]-inputArray[i+1]) for i in range(len(inputArray)-1)])\n"
      ],
      "execution_count": 0,
      "outputs": []
    },
    {
      "cell_type": "code",
      "metadata": {
        "id": "zZ3FmPBeb_BI",
        "colab_type": "code",
        "colab": {
          "base_uri": "https://localhost:8080/",
          "height": 35
        },
        "outputId": "cfe0cceb-e4de-4898-ce77-30634149861c"
      },
      "source": [
        "inputArray = [-1, 4, 10, 3, -2]\n",
        "arrayMaximalAdjacentDifference(inputArray)"
      ],
      "execution_count": 7,
      "outputs": [
        {
          "output_type": "execute_result",
          "data": {
            "text/plain": [
              "7"
            ]
          },
          "metadata": {
            "tags": []
          },
          "execution_count": 7
        }
      ]
    },
    {
      "cell_type": "code",
      "metadata": {
        "id": "oVLXP_vKcsKn",
        "colab_type": "code",
        "colab": {}
      },
      "source": [
        "# bandorthild\n",
        "def arrayMaximalAdjacentDifference(inputArray):\n",
        "    return max([abs(i - j) for i, j in zip(inputArray, inputArray[1:])])"
      ],
      "execution_count": 0,
      "outputs": []
    }
  ]
}