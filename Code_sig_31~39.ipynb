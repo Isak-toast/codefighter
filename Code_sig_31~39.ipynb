{
  "nbformat": 4,
  "nbformat_minor": 0,
  "metadata": {
    "colab": {
      "name": "Code_sig_31~39",
      "provenance": [],
      "collapsed_sections": [],
      "authorship_tag": "ABX9TyPGbWPGUnVmA/z7rUSV5yCV",
      "include_colab_link": true
    },
    "kernelspec": {
      "name": "python3",
      "display_name": "Python 3"
    },
    "accelerator": "GPU"
  },
  "cells": [
    {
      "cell_type": "markdown",
      "metadata": {
        "id": "view-in-github",
        "colab_type": "text"
      },
      "source": [
        "<a href=\"https://colab.research.google.com/github/Isak-toast/codefighter/blob/master/Code_sig_31~39.ipynb\" target=\"_parent\"><img src=\"https://colab.research.google.com/assets/colab-badge.svg\" alt=\"Open In Colab\"/></a>"
      ]
    },
    {
      "cell_type": "markdown",
      "metadata": {
        "id": "HIQr033oadNM",
        "colab_type": "text"
      },
      "source": [
        "#**[31] You have deposited a specific amount of money into your bank account. Each year your balance increases at the same growth rate. With the assumption that you don't make any additional deposits, find out how long it would take for your balance to pass a specific threshold.**"
      ]
    },
    {
      "cell_type": "markdown",
      "metadata": {
        "id": "wErUSg21aozY",
        "colab_type": "text"
      },
      "source": [
        "Input/Output\n",
        "\n",
        "[execution time limit] 4 seconds (py3)\n",
        "\n",
        "[input] integer deposit\n",
        "\n",
        "The initial deposit, guaranteed to be a positive integer.\n",
        "\n",
        "Guaranteed constraints:\n",
        "1 ≤ deposit ≤ 100.\n",
        "\n",
        "[input] integer rate\n",
        "\n",
        "The rate of increase. Each year the balance increases by the rate percent of the current sum.\n",
        "\n",
        "Guaranteed constraints:\n",
        "1 ≤ rate ≤ 100.\n",
        "\n",
        "[input] integer threshold\n",
        "\n",
        "The target balance.\n",
        "\n",
        "Guaranteed constraints:\n",
        "deposit < threshold ≤ 200.\n",
        "\n",
        "[output] integer\n",
        "\n",
        "The number of years it would take to hit the threshold."
      ]
    },
    {
      "cell_type": "code",
      "metadata": {
        "id": "Mn9TUA1raoBq",
        "colab_type": "code",
        "colab": {}
      },
      "source": [
        "def depositProfit(deposit, rate, threshold):\n",
        "    year = 0\n",
        "    \n",
        "    while(True):\n",
        "        if(deposit >= threshold):\n",
        "            break\n",
        "        deposit = deposit * (1 + (rate / 100))\n",
        "        year += 1\n",
        "    \n",
        "    return year"
      ],
      "execution_count": 0,
      "outputs": []
    },
    {
      "cell_type": "code",
      "metadata": {
        "id": "zLLB9MSMchat",
        "colab_type": "code",
        "colab": {}
      },
      "source": [
        "deposit = 100\n",
        "rate = 1\n",
        "threshold = 101\n",
        "#depositProfit(deposit, rate, threshold)\n"
      ],
      "execution_count": 0,
      "outputs": []
    },
    {
      "cell_type": "code",
      "metadata": {
        "id": "9e_9BZnJclK6",
        "colab_type": "code",
        "colab": {}
      },
      "source": [
        "# andrew_pudge\n",
        "def depositProfit(deposit, rate, threshold):\n",
        "\n",
        "    return math.ceil(math.log(threshold/deposit, 1+rate/100))"
      ],
      "execution_count": 0,
      "outputs": []
    },
    {
      "cell_type": "markdown",
      "metadata": {
        "id": "9yYwnvA73A9n",
        "colab_type": "text"
      },
      "source": [
        "#**[32] Given a sorted array of integers a, your task is to determine which element of a is closest to all other values of a. In other words, find the element x in a, which minimizes the following sum:**\n",
        "\n",
        "#**abs(a[0] - x) + abs(a[1] - x) + ... + abs(a[a.length - 1] - x)**\n",
        "**(where abs denotes the absolute value)**\n",
        "\n",
        "#**If there are several possible answers, output the smallest one.**"
      ]
    },
    {
      "cell_type": "markdown",
      "metadata": {
        "id": "SvvImDmh3EMu",
        "colab_type": "text"
      },
      "source": [
        "Input/Output\n",
        "\n",
        "[execution time limit] 4 seconds (py3)\n",
        "\n",
        "[input] array.integer a\n",
        "\n",
        "A non-empty array of integers, sorted in ascending order.\n",
        "\n",
        "Guaranteed constraints:\n",
        "1 ≤ a.length ≤ 1000,\n",
        "-106 ≤ a[i] ≤ 106.\n",
        "\n",
        "[output] integer\n",
        "\n",
        "An integer representing the element from a that minimizes the sum of its absolute differences with all other elements."
      ]
    },
    {
      "cell_type": "code",
      "metadata": {
        "id": "NUYuX-2R3itQ",
        "colab_type": "code",
        "colab": {}
      },
      "source": [
        "def absoluteValuesSumMinimization(a):\n",
        "    abs_list = []\n",
        "    tot_list = []\n",
        "    \n",
        "    for x in a:\n",
        "        for y in a:\n",
        "            abs_list.append(abs(y-x))\n",
        "        tot_list.append(sum(abs_list))\n",
        "        abs_list = []\n",
        "\n",
        "    return a[tot_list.index(min(tot_list))]\n",
        "\n"
      ],
      "execution_count": 0,
      "outputs": []
    },
    {
      "cell_type": "code",
      "metadata": {
        "id": "qjXPjlkq5BNi",
        "colab_type": "code",
        "outputId": "941eb9b7-fb75-413c-bdf1-1e68dd2a79f2",
        "colab": {
          "base_uri": "https://localhost:8080/",
          "height": 35
        }
      },
      "source": [
        "a = [-10, -10, -10, -10, -10, -9, -9, -9, -8, -8, -7, -6, -5, -4, -3, -2, -1, 0, 0, 0, 0, 1, 2, 3, 4, 5, 6, 7, 8, 9, 10, 11, 12, 13, 14, 15, 16, 17, 18, 19, 20, 21, 22, 23, 24, 25, 26, 27, 28, 29, 30, 31, 32, 33, 34, 35, 36, 37, 38, 39, 40, 41, 42, 43, 44, 45, 46, 47, 48, 49, 50]\n",
        "absoluteValuesSumMinimization(a)\n"
      ],
      "execution_count": 0,
      "outputs": [
        {
          "output_type": "execute_result",
          "data": {
            "text/plain": [
              "71"
            ]
          },
          "metadata": {
            "tags": []
          },
          "execution_count": 29
        }
      ]
    },
    {
      "cell_type": "code",
      "metadata": {
        "id": "VE5zbK7T8SiX",
        "colab_type": "code",
        "colab": {}
      },
      "source": [
        "# andrew_pudge\n",
        "def absoluteValuesSumMinimization(A):\n",
        "    return A[(len(A)-1)//2]\n"
      ],
      "execution_count": 0,
      "outputs": []
    },
    {
      "cell_type": "markdown",
      "metadata": {
        "id": "Lspx46kVEJo7",
        "colab_type": "text"
      },
      "source": [
        "#**[33] Given an array of equal-length strings, you'd like to know if it's possible to rearrange the order of the elements in such a way that each consecutive pair of strings differ by exactly one character. Return true if it's possible, and false if not.**\n",
        "\n",
        "**Note: You're only rearranging the order of the strings, not the order of the letters within the strings!**"
      ]
    },
    {
      "cell_type": "markdown",
      "metadata": {
        "id": "9AyQNkytE167",
        "colab_type": "text"
      },
      "source": [
        "Input/Output\n",
        "\n",
        "[execution time limit] 4 seconds (py3)\n",
        "\n",
        "[input] array.string inputArray\n",
        "\n",
        "A non-empty array of strings of lowercase letters.\n",
        "\n",
        "Guaranteed constraints:\n",
        "2 ≤ inputArray.length ≤ 10,\n",
        "1 ≤ inputArray[i].length ≤ 15."
      ]
    },
    {
      "cell_type": "code",
      "metadata": {
        "id": "jEglG-G3E1Pw",
        "colab_type": "code",
        "colab": {}
      },
      "source": [
        "from itertools import permutations\n",
        "\n",
        "def stringsRearrangement(inputArray):\n",
        "    a = 0\n",
        "    for i in permutations(inputArray):\n",
        "        for idx in range(len(i)-1):\n",
        "            for s in range(len(i[idx])):\n",
        "                if i[idx][s] == i[idx+1][s]:\n",
        "                    a += 1        \n",
        "\n",
        "            if len(i[idx])-1 != a:\n",
        "                a = 0\n",
        "                break\n",
        "            if len(i[idx])-1 == a and len(i)-2 == idx:\n",
        "                return True\n",
        "            a = 0\n",
        "                \n",
        "    return False"
      ],
      "execution_count": 0,
      "outputs": []
    },
    {
      "cell_type": "code",
      "metadata": {
        "id": "n9LfsqCaMrPY",
        "colab_type": "code",
        "outputId": "9a8c4434-52f7-4df3-ffd1-5f28d8e0134a",
        "colab": {
          "base_uri": "https://localhost:8080/",
          "height": 35
        }
      },
      "source": [
        "z =[\"ff\",  \"gf\",  \"af\",  \"ar\",  \"hf\"]\n",
        "stringsRearrangement(inputArray)\n"
      ],
      "execution_count": 0,
      "outputs": [
        {
          "output_type": "execute_result",
          "data": {
            "text/plain": [
              "True"
            ]
          },
          "metadata": {
            "tags": []
          },
          "execution_count": 50
        }
      ]
    },
    {
      "cell_type": "code",
      "metadata": {
        "id": "tFH-OyWdZzzc",
        "colab_type": "code",
        "colab": {}
      },
      "source": [
        "# needmoarcode\n",
        "from itertools import permutations\n",
        "\n",
        "def diff(w1, w2):\n",
        "    return sum([a[0] != a[1] for a in zip(w1, w2)]) == 1\n",
        "\n",
        "def stringsRearrangement(inputArray):\n",
        "    for z in permutations(inputArray):\n",
        "        if sum([diff(*x) for x in zip(z, z[1:])]) == len(inputArray) - 1:\n",
        "            return True\n",
        "    return False\n"
      ],
      "execution_count": 0,
      "outputs": []
    },
    {
      "cell_type": "markdown",
      "metadata": {
        "id": "hnhTi2O0OEQw",
        "colab_type": "text"
      },
      "source": [
        "#**[34] Given array of integers, remove each kth element from it.**"
      ]
    },
    {
      "cell_type": "markdown",
      "metadata": {
        "id": "naqsAmoqOKOm",
        "colab_type": "text"
      },
      "source": [
        "Input/Output\n",
        "\n",
        "[execution time limit] 4 seconds (py3)\n",
        "\n",
        "[input] array.integer inputArray\n",
        "\n",
        "Guaranteed constraints:\n",
        "5 ≤ inputArray.length ≤ 15,\n",
        "-20 ≤ inputArray[i] ≤ 20.\n",
        "\n",
        "[input] integer k\n",
        "\n",
        "Guaranteed constraints:\n",
        "1 ≤ k ≤ 10.\n",
        "\n",
        "[output] array.integer\n",
        "\n",
        "inputArray without elements k - 1, 2k - 1, 3k - 1 etc."
      ]
    },
    {
      "cell_type": "code",
      "metadata": {
        "id": "-Q_G4ZrWEkCh",
        "colab_type": "code",
        "colab": {}
      },
      "source": [
        "# ben_m26\n",
        "def extractEachKth(inputArray, k):\n",
        "    del inputArray[k-1::k] # 배수를 나타내는 리스트\n",
        "    return inputArray\n"
      ],
      "execution_count": 0,
      "outputs": []
    },
    {
      "cell_type": "code",
      "metadata": {
        "id": "Pup91Ai4EsYg",
        "colab_type": "code",
        "outputId": "70040af8-e536-449c-ee0f-576c51d26308",
        "colab": {
          "base_uri": "https://localhost:8080/",
          "height": 34
        }
      },
      "source": [
        "inputArray = [1, 2, 3, 4, 5, 6, 7, 8, 9, 10]\n",
        "k = 3\n",
        "extractEachKth(inputArray, k)"
      ],
      "execution_count": 0,
      "outputs": [
        {
          "output_type": "execute_result",
          "data": {
            "text/plain": [
              "[1, 2, 4, 5, 7, 8, 10]"
            ]
          },
          "metadata": {
            "tags": []
          },
          "execution_count": 11
        }
      ]
    },
    {
      "cell_type": "code",
      "metadata": {
        "id": "ABzQRub8HnhS",
        "colab_type": "code",
        "colab": {}
      },
      "source": [
        "def extractEachKth(inputArray, k):\n",
        "    del inputArray[k-1::k]\n",
        "    return inputArray"
      ],
      "execution_count": 0,
      "outputs": []
    },
    {
      "cell_type": "markdown",
      "metadata": {
        "id": "hW1PymJIGXOJ",
        "colab_type": "text"
      },
      "source": [
        "#**[35] Find the leftmost digit that occurs in a given string.**"
      ]
    },
    {
      "cell_type": "markdown",
      "metadata": {
        "id": "8Y8QP5xBGcpm",
        "colab_type": "text"
      },
      "source": [
        "Input/Output\n",
        "\n",
        "[execution time limit] 4 seconds (py3)\n",
        "\n",
        "[input] string inputString\n",
        "\n",
        "A string containing at least one digit.\n",
        "\n",
        "Guaranteed constraints:\n",
        "3 ≤ inputString.length ≤ 10.\n",
        "\n",
        "[output] char"
      ]
    },
    {
      "cell_type": "code",
      "metadata": {
        "id": "ZFFJhCLJGdQm",
        "colab_type": "code",
        "colab": {}
      },
      "source": [
        "def firstDigit(inputString):\n",
        "    for i in inputString:\n",
        "        if i.isdigit():\n",
        "            return i\n"
      ],
      "execution_count": 0,
      "outputs": []
    },
    {
      "cell_type": "code",
      "metadata": {
        "id": "KrHJ_wP1HhH7",
        "colab_type": "code",
        "outputId": "90fe6593-d6f2-4c5f-c324-1e18caedc22d",
        "colab": {
          "base_uri": "https://localhost:8080/",
          "height": 34
        }
      },
      "source": [
        "inputString = \"_Aas_23\"\n",
        "firstDigit(inputString)"
      ],
      "execution_count": 0,
      "outputs": [
        {
          "output_type": "execute_result",
          "data": {
            "text/plain": [
              "'2'"
            ]
          },
          "metadata": {
            "tags": []
          },
          "execution_count": 11
        }
      ]
    },
    {
      "cell_type": "code",
      "metadata": {
        "id": "Y1s95wOQINY2",
        "colab_type": "code",
        "colab": {}
      },
      "source": [
        "# andrew_pudge\n",
        "def firstDigit(inputString):\n",
        "\n",
        "    return re.findall('\\d', inputString)[0]"
      ],
      "execution_count": 0,
      "outputs": []
    },
    {
      "cell_type": "markdown",
      "metadata": {
        "id": "LdfuyNNJd43-",
        "colab_type": "text"
      },
      "source": [
        "#**[36] Given a string, find the number of different characters in it.**"
      ]
    },
    {
      "cell_type": "markdown",
      "metadata": {
        "id": "U4Sril1Ld-Yv",
        "colab_type": "text"
      },
      "source": [
        "Input/Output\n",
        "\n",
        "[execution time limit] 4 seconds (py3)\n",
        "\n",
        "[input] string s\n",
        "\n",
        "A string of lowercase English letters.\n",
        "\n",
        "Guaranteed constraints:\n",
        "3 ≤ s.length ≤ 1000.\n",
        "\n",
        "[output] integer"
      ]
    },
    {
      "cell_type": "code",
      "metadata": {
        "id": "ic13FN5Gerwd",
        "colab_type": "code",
        "colab": {}
      },
      "source": [
        "def differentSymbolsNaive(s):\n",
        "    x = []\n",
        "    for i in s:\n",
        "        if(str(x).find(i) == -1): # 탐색\n",
        "            x.append(i)\n",
        "    return len(x)"
      ],
      "execution_count": 0,
      "outputs": []
    },
    {
      "cell_type": "code",
      "metadata": {
        "id": "FJQGb-0WnFS5",
        "colab_type": "code",
        "outputId": "4bd015d4-b98d-42ed-dc84-6177298ea877",
        "colab": {
          "base_uri": "https://localhost:8080/",
          "height": 35
        }
      },
      "source": [
        "s = \"cabca\"\n",
        "set(s)\n",
        "#differentSymbolsNaive(s)"
      ],
      "execution_count": 0,
      "outputs": [
        {
          "output_type": "execute_result",
          "data": {
            "text/plain": [
              "{'a', 'b', 'c'}"
            ]
          },
          "metadata": {
            "tags": []
          },
          "execution_count": 15
        }
      ]
    },
    {
      "cell_type": "code",
      "metadata": {
        "id": "0FwowDAIoNsr",
        "colab_type": "code",
        "colab": {}
      },
      "source": [
        "# thienbui\n",
        "def differentSymbolsNaive(s):\n",
        "    return len(set(s)) # set(s) - 집합 자료형(중복을 허용하지 않는다, 순서가 없다)"
      ],
      "execution_count": 0,
      "outputs": []
    },
    {
      "cell_type": "markdown",
      "metadata": {
        "id": "1tX7rAf1vkHU",
        "colab_type": "text"
      },
      "source": [
        "#**[37] Given array of integers, find the maximal possible sum of some of its k consecutive elements.**"
      ]
    },
    {
      "cell_type": "markdown",
      "metadata": {
        "id": "XiPCaCD9vq-e",
        "colab_type": "text"
      },
      "source": [
        "Input/Output\n",
        "\n",
        "[execution time limit] 4 seconds (py3)\n",
        "\n",
        "[input] array.integer inputArray\n",
        "\n",
        "Array of positive integers.\n",
        "\n",
        "Guaranteed constraints:\n",
        "3 ≤ inputArray.length ≤ 105,\n",
        "1 ≤ inputArray[i] ≤ 1000.\n",
        "\n",
        "[input] integer k\n",
        "\n",
        "An integer (not greater than the length of inputArray).\n",
        "\n",
        "Guaranteed constraints:\n",
        "1 ≤ k ≤ inputArray.length.\n",
        "\n",
        "[output] integer\n",
        "\n",
        "The maximal possible sum."
      ]
    },
    {
      "cell_type": "code",
      "metadata": {
        "id": "m9gbxe71vtoM",
        "colab_type": "code",
        "outputId": "4356fb40-52ed-4ec2-9126-4485790e1e47",
        "colab": {
          "base_uri": "https://localhost:8080/",
          "height": 35
        }
      },
      "source": [
        "def arrayMaxConsecutiveSum(inputArray, k):\n",
        "    return max([sum(inputArray[i:i+k]) for i in range(len(inputArray)-(k-1))])\n",
        "# too slow, but work / not work 20 test\n"
      ],
      "execution_count": 0,
      "outputs": [
        {
          "output_type": "execute_result",
          "data": {
            "text/plain": [
              "8"
            ]
          },
          "metadata": {
            "tags": []
          },
          "execution_count": 8
        }
      ]
    },
    {
      "cell_type": "code",
      "metadata": {
        "id": "eDbnWGUPw1Y_",
        "colab_type": "code",
        "outputId": "ca073fd4-53e5-4d69-d5bd-d6ec8e7545a8",
        "colab": {
          "base_uri": "https://localhost:8080/",
          "height": 35
        }
      },
      "source": [
        "inputArray = [2, 3, 5, 1, 6]\n",
        "k = 2\n",
        "\n",
        "arrayMaxConsecutiveSum(inputArray, k)"
      ],
      "execution_count": 0,
      "outputs": [
        {
          "output_type": "execute_result",
          "data": {
            "text/plain": [
              "8"
            ]
          },
          "metadata": {
            "tags": []
          },
          "execution_count": 12
        }
      ]
    },
    {
      "cell_type": "code",
      "metadata": {
        "id": "8DFIW0gX1LK4",
        "colab_type": "code",
        "colab": {}
      },
      "source": [
        "# bandorthild\n",
        "def arrayMaxConsecutiveSum(inputArray, k):\n",
        "    # return max([sum(inputArray[i:k+i]) for i in range(len(inputArray) - k + 1)])\n",
        "    # too slow, but works\n",
        "    s = m = sum(inputArray[:k])\n",
        "    for i in range(k, len(inputArray)):\n",
        "        s += inputArray[i] - inputArray[i-k]\n",
        "        if s > m: m = s\n",
        "    return m"
      ],
      "execution_count": 0,
      "outputs": []
    },
    {
      "cell_type": "markdown",
      "metadata": {
        "id": "DU_uFFhP87po",
        "colab_type": "text"
      },
      "source": [
        "#**[38] Caring for a plant can be hard work, but since you tend to it regularly, you have a plant that grows consistently. Each day, its height increases by a fixed amount represented by the integer upSpeed. But due to lack of sunlight, the plant decreases in height every night, by an amount represented by downSpeed.**\n",
        "\n",
        "#**Since you grew the plant from a seed, it started at height 0 initially. Given an integer desiredHeight, your task is to find how many days it'll take for the plant to reach this height.**"
      ]
    },
    {
      "cell_type": "markdown",
      "metadata": {
        "id": "WUstY8eh9CN-",
        "colab_type": "text"
      },
      "source": [
        "Input/Output\n",
        "\n",
        "[execution time limit] 4 seconds (py3)\n",
        "\n",
        "[input] integer upSpeed\n",
        "\n",
        "A positive integer representing the daily growth of the plant.\n",
        "\n",
        "Guaranteed constraints:\n",
        "3 ≤ upSpeed ≤ 100.\n",
        "\n",
        "[input] integer downSpeed\n",
        "\n",
        "A positive integer representing the nightly decline of the plant.\n",
        "\n",
        "Guaranteed constraints:\n",
        "2 ≤ downSpeed < upSpeed.\n",
        "\n",
        "[input] integer desiredHeight\n",
        "\n",
        "A positive integer representing the goal height.\n",
        "\n",
        "Guaranteed constraints:\n",
        "4 ≤ desiredHeight ≤ 1000.\n",
        "\n",
        "[output] integer\n",
        "\n",
        "The number of days that it will take for the plant to reach / pass desiredHeight."
      ]
    },
    {
      "cell_type": "code",
      "metadata": {
        "id": "7omn8K7m-L1V",
        "colab_type": "code",
        "colab": {}
      },
      "source": [
        "def growingPlant(upSpeed, downSpeed, desiredHeight):\n",
        "    n = 0; s = 0\n",
        "    while(True):\n",
        "        n += 1\n",
        "        s += upSpeed\n",
        "        if(s >= desiredHeight):\n",
        "            break\n",
        "        s -= downSpeed\n",
        "    return n"
      ],
      "execution_count": 0,
      "outputs": []
    },
    {
      "cell_type": "code",
      "metadata": {
        "id": "lwe5XOB0-_va",
        "colab_type": "code",
        "outputId": "c2b3e8a9-07a0-45e5-97e7-1b0237cfa946",
        "colab": {
          "base_uri": "https://localhost:8080/",
          "height": 34
        }
      },
      "source": [
        "upSpeed = 100\n",
        "downSpeed = 10\n",
        "desiredHeight = 910\n",
        "\n",
        "growingPlant(upSpeed, downSpeed, desiredHeight)"
      ],
      "execution_count": 0,
      "outputs": [
        {
          "output_type": "execute_result",
          "data": {
            "text/plain": [
              "10"
            ]
          },
          "metadata": {
            "tags": []
          },
          "execution_count": 8
        }
      ]
    },
    {
      "cell_type": "code",
      "metadata": {
        "id": "GCBz7yI5_biY",
        "colab_type": "code",
        "colab": {}
      },
      "source": [
        "# andrew_pudge\n",
        "def growingPlant(upSpeed, downSpeed, desiredHeight):\n",
        "    if desiredHeight <= upSpeed:\n",
        "        return 1\n",
        "    return math.ceil((desiredHeight - upSpeed) / (upSpeed - downSpeed) + 1)"
      ],
      "execution_count": 0,
      "outputs": []
    },
    {
      "cell_type": "markdown",
      "metadata": {
        "id": "u81QkvfJAu6Q",
        "colab_type": "text"
      },
      "source": [
        "#**[39] You found two items in a treasure chest! The first item weighs weight1 and is worth value1, and the second item weighs weight2 and is worth value2. What is the total maximum value of the items you can take with you, assuming that your max weight capacity is maxW and you can't come back for the items later?**\n",
        "\n",
        "#**Note that there are only two items and you can't bring more than one item of each type, i.e. you can't take two first items or two second items.**"
      ]
    },
    {
      "cell_type": "markdown",
      "metadata": {
        "id": "B3zEMmPDBKwQ",
        "colab_type": "text"
      },
      "source": [
        "Input/Output\n",
        "\n",
        "[execution time limit] 4 seconds (py3)\n",
        "\n",
        "[input] integer value1\n",
        "\n",
        "Guaranteed constraints:\n",
        "2 ≤ value1 ≤ 20.\n",
        "\n",
        "[input] integer weight1\n",
        "\n",
        "Guaranteed constraints:\n",
        "2 ≤ weight1 ≤ 10.\n",
        "\n",
        "[input] integer value2\n",
        "\n",
        "Guaranteed constraints:\n",
        "2 ≤ value2 ≤ 20.\n",
        "\n",
        "[input] integer weight2\n",
        "\n",
        "Guaranteed constraints:\n",
        "2 ≤ weight2 ≤ 10.\n",
        "\n",
        "[input] integer maxW\n",
        "\n",
        "Guaranteed constraints:\n",
        "1 ≤ maxW ≤ 20.\n",
        "\n",
        "[output] integer"
      ]
    },
    {
      "cell_type": "code",
      "metadata": {
        "id": "Q85U0h2CBOi9",
        "colab_type": "code",
        "colab": {}
      },
      "source": [
        "def knapsackLight(v1, w1, v2, w2, W):\n",
        "    return max(int(w1<=W)*v1, int(w2<=W)*v2, int(w1+w2<=W)*(v1+v2))"
      ],
      "execution_count": 0,
      "outputs": []
    },
    {
      "cell_type": "code",
      "metadata": {
        "id": "9wRwm40bBRHH",
        "colab_type": "code",
        "colab": {
          "base_uri": "https://localhost:8080/",
          "height": 34
        },
        "outputId": "6d2cd152-1121-4ed2-d45d-1f514c32b418"
      },
      "source": [
        "v1 = 10\n",
        "w1 =  5\n",
        "v2 = 6\n",
        "w2 = 4\n",
        "W = 8\n",
        "\n",
        "knapsackLight(v1, w1, v2, w2, W)"
      ],
      "execution_count": 7,
      "outputs": [
        {
          "output_type": "execute_result",
          "data": {
            "text/plain": [
              "10"
            ]
          },
          "metadata": {
            "tags": []
          },
          "execution_count": 7
        }
      ]
    }
  ]
}