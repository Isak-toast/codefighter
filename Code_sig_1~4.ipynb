{
  "nbformat": 4,
  "nbformat_minor": 0,
  "metadata": {
    "colab": {
      "name": "Code_sig_1~4.ipynb",
      "provenance": [],
      "toc_visible": true,
      "include_colab_link": true
    },
    "kernelspec": {
      "name": "python3",
      "display_name": "Python 3"
    },
    "accelerator": "GPU"
  },
  "cells": [
    {
      "cell_type": "markdown",
      "metadata": {
        "id": "view-in-github",
        "colab_type": "text"
      },
      "source": [
        "<a href=\"https://colab.research.google.com/github/Isak-toast/codefighter/blob/master/Code_sig_1~4.ipynb\" target=\"_parent\"><img src=\"https://colab.research.google.com/assets/colab-badge.svg\" alt=\"Open In Colab\"/></a>"
      ]
    },
    {
      "cell_type": "markdown",
      "metadata": {
        "id": "2tTy-RQ5ekz8",
        "colab_type": "text"
      },
      "source": [
        "#**[1] Write a function that returns the sum of two numbers.**\n",
        "\n"
      ]
    },
    {
      "cell_type": "markdown",
      "metadata": {
        "id": "U7mnpRM6hNpk",
        "colab_type": "text"
      },
      "source": [
        "**Input/Output**\n",
        "\n",
        "[execution time limit] 4 seconds (py3)\n",
        "\n",
        "[input] integer param1 // Guaranteed constraints: -1000 ≤ param1 ≤ 1000.\n",
        "\n",
        "[input] integer param2 // Guaranteed constraints: -1000 ≤ param2 ≤ 1000.\n",
        "\n",
        "[output] integer // The sum of the two inputs."
      ]
    },
    {
      "cell_type": "code",
      "metadata": {
        "id": "E8_iBW-GfSka",
        "colab_type": "code",
        "colab": {}
      },
      "source": [
        "def add(param1, param2):\n",
        "    return param1+param2"
      ],
      "execution_count": 0,
      "outputs": []
    },
    {
      "cell_type": "code",
      "metadata": {
        "id": "cSCiB86kgg4r",
        "colab_type": "code",
        "outputId": "04f089e6-a580-45c4-a92a-efffb4cf8e8f",
        "colab": {
          "base_uri": "https://localhost:8080/",
          "height": 35
        }
      },
      "source": [
        "add(2,1)"
      ],
      "execution_count": 0,
      "outputs": [
        {
          "output_type": "execute_result",
          "data": {
            "text/plain": [
              "3"
            ]
          },
          "metadata": {
            "tags": []
          },
          "execution_count": 2
        }
      ]
    },
    {
      "cell_type": "markdown",
      "metadata": {
        "id": "ABbg9uXhhGAs",
        "colab_type": "text"
      },
      "source": [
        "#**[2] Given a year, return the century it is in. The first century spans from the year 1 up to and including the year 100, the second - from the year 101 up to and including the year 200, etc.**"
      ]
    },
    {
      "cell_type": "markdown",
      "metadata": {
        "id": "LMaP9L2ziHSt",
        "colab_type": "text"
      },
      "source": [
        "**Input/Output**\n",
        "\n",
        "[execution time limit] 4 seconds (py3)\n",
        "\n",
        "[input] integer year // A positive integer, designating the year. //\n",
        "Guaranteed constraints:\n",
        "1 ≤ year ≤ 2005.\n",
        "\n",
        "[output] integer // The number of the century the year is in."
      ]
    },
    {
      "cell_type": "code",
      "metadata": {
        "id": "06Ua_YMshGJH",
        "colab_type": "code",
        "colab": {}
      },
      "source": [
        "import math\n",
        "def centuryFromYear(year):\n",
        "    return math.ceil(year/100)\n",
        "\n"
      ],
      "execution_count": 0,
      "outputs": []
    },
    {
      "cell_type": "code",
      "metadata": {
        "id": "XnrrNRIjicvA",
        "colab_type": "code",
        "outputId": "31fa1402-6d06-46ea-b031-4b2b1b940bd0",
        "colab": {
          "base_uri": "https://localhost:8080/",
          "height": 35
        }
      },
      "source": [
        "year = 1700\n",
        "centuryFromYear(year)"
      ],
      "execution_count": 0,
      "outputs": [
        {
          "output_type": "execute_result",
          "data": {
            "text/plain": [
              "17"
            ]
          },
          "metadata": {
            "tags": []
          },
          "execution_count": 6
        }
      ]
    },
    {
      "cell_type": "markdown",
      "metadata": {
        "id": "KT0CEhxpqzpU",
        "colab_type": "text"
      },
      "source": [
        "#**[3] Given the string, check if it is a palindrome.**"
      ]
    },
    {
      "cell_type": "markdown",
      "metadata": {
        "id": "aK95Fxj8s8RD",
        "colab_type": "text"
      },
      "source": [
        "**Input/Output**\n",
        "\n",
        "[execution time limit] 0.5 seconds (cpp)\n",
        "\n",
        "[input] string inputString // A non-empty string consisting of lowercase characters. Guaranteed constraints:\n",
        "1 ≤ inputString.length ≤ 105.\n",
        "\n",
        "[output] boolean // true if inputString is a palindrome, false otherwise."
      ]
    },
    {
      "cell_type": "code",
      "metadata": {
        "id": "UrMdYx_irf2b",
        "colab_type": "code",
        "colab": {}
      },
      "source": [
        "def checkPalindrome(inputString):\n",
        "    return reverse(inputString) == inputString\n",
        "    \n",
        "def reverse(s):\n",
        "    return s[::-1]\n"
      ],
      "execution_count": 0,
      "outputs": []
    },
    {
      "cell_type": "code",
      "metadata": {
        "id": "wN8daU3JsGvO",
        "colab_type": "code",
        "colab": {
          "base_uri": "https://localhost:8080/",
          "height": 52
        },
        "outputId": "60514471-aca7-4779-a6c2-ccd54d4c6fa7"
      },
      "source": [
        "checkPalindrome(\"aaabbdddkk\")"
      ],
      "execution_count": 5,
      "outputs": [
        {
          "output_type": "stream",
          "text": [
            "aaabbdddkk kkdddbbaaa\n"
          ],
          "name": "stdout"
        },
        {
          "output_type": "execute_result",
          "data": {
            "text/plain": [
              "False"
            ]
          },
          "metadata": {
            "tags": []
          },
          "execution_count": 5
        }
      ]
    },
    {
      "cell_type": "markdown",
      "metadata": {
        "id": "uzXbLzDCuqPx",
        "colab_type": "text"
      },
      "source": [
        "#**[4] Given an array of integers, find the pair of adjacent elements that has the largest product and return that product.**\n"
      ]
    },
    {
      "cell_type": "code",
      "metadata": {
        "id": "UTLy_qBEsLrX",
        "colab_type": "code",
        "colab": {}
      },
      "source": [
        "def adjacentElementsProduct(inputArray):\n",
        "    \n",
        "    length = len(inputArray) \n",
        "     \n",
        "    sum = []\n",
        "     \n",
        "    for i in range(length-1):\n",
        "        \n",
        "        sum.append(inputArray[i] * inputArray[i+1]) #append all the values of the product into the array\n",
        "        \n",
        "    return max(sum)\n",
        "\n"
      ],
      "execution_count": 0,
      "outputs": []
    },
    {
      "cell_type": "code",
      "metadata": {
        "id": "kf0jUZ8dxJo4",
        "colab_type": "code",
        "colab": {}
      },
      "source": [
        "# salevin code - for 반복을 뒤에서 진행\n",
        "def adjacentElementsProduct(inputArray):\n",
        "    return max([inputArray[i] * inputArray[i+1] for i in range(len(inputArray)-1)])\n"
      ],
      "execution_count": 0,
      "outputs": []
    },
    {
      "cell_type": "code",
      "metadata": {
        "id": "tths2qd9qj6h",
        "colab_type": "code",
        "colab": {
          "base_uri": "https://localhost:8080/",
          "height": 34
        },
        "outputId": "540b206f-b665-4eb6-c913-00d223d692f5"
      },
      "source": [
        "inputArray = [3, 6, -2, -5, 7, 3]\n",
        "adjacentElementsProduct(inputArray)"
      ],
      "execution_count": 22,
      "outputs": [
        {
          "output_type": "execute_result",
          "data": {
            "text/plain": [
              "21"
            ]
          },
          "metadata": {
            "tags": []
          },
          "execution_count": 22
        }
      ]
    },
    {
      "cell_type": "markdown",
      "metadata": {
        "id": "e5RljufMxo9M",
        "colab_type": "text"
      },
      "source": [
        "#**[5] Below we will define an n-interesting polygon. Your task is to find the area of a polygon for a given n.**\n",
        "\n",
        "A 1-interesting polygon is just a square with a side of length 1. An n-interesting polygon is obtained by taking the n - 1-interesting polygon and appending 1-interesting polygons to its rim, side by side. You can see the 1-, 2-, 3- and 4-interesting polygons in the picture below.\n",
        "\n"
      ]
    },
    {
      "cell_type": "code",
      "metadata": {
        "id": "bxv2rSJixpsc",
        "colab_type": "code",
        "colab": {}
      },
      "source": [
        ""
      ],
      "execution_count": 0,
      "outputs": []
    },
    {
      "cell_type": "code",
      "metadata": {
        "id": "OX2FZukIwTpa",
        "colab_type": "code",
        "colab": {}
      },
      "source": [
        ""
      ],
      "execution_count": 0,
      "outputs": []
    }
  ]
}