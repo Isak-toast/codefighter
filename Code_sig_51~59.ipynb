{
  "nbformat": 4,
  "nbformat_minor": 0,
  "metadata": {
    "colab": {
      "name": "Code_sig_51~59",
      "provenance": [],
      "collapsed_sections": [],
      "authorship_tag": "ABX9TyMtrbgUQdqISYeAYhWTDLbf",
      "include_colab_link": true
    },
    "kernelspec": {
      "name": "python3",
      "display_name": "Python 3"
    },
    "accelerator": "GPU"
  },
  "cells": [
    {
      "cell_type": "markdown",
      "metadata": {
        "id": "view-in-github",
        "colab_type": "text"
      },
      "source": [
        "<a href=\"https://colab.research.google.com/github/Isak-toast/codefighter/blob/master/Code_sig_51~59.ipynb\" target=\"_parent\"><img src=\"https://colab.research.google.com/assets/colab-badge.svg\" alt=\"Open In Colab\"/></a>"
      ]
    },
    {
      "cell_type": "markdown",
      "metadata": {
        "id": "TICLwKqpdIFf",
        "colab_type": "text"
      },
      "source": [
        "#**[51] Given some integer, find the maximal number you can obtain by deleting exactly one digit of the given number.**"
      ]
    },
    {
      "cell_type": "markdown",
      "metadata": {
        "id": "P-D02mOQdQD5",
        "colab_type": "text"
      },
      "source": [
        "Input/Output\n",
        "\n",
        "[execution time limit] 4 seconds (py3)\n",
        "\n",
        "[input] integer n\n",
        "\n",
        "Guaranteed constraints:\n",
        "10 ≤ n ≤ 106.\n",
        "\n",
        "[output] integer"
      ]
    },
    {
      "cell_type": "code",
      "metadata": {
        "id": "wAa0VK9ydSeR",
        "colab_type": "code",
        "colab": {}
      },
      "source": [
        "def deleteDigit(n):\n",
        "    sn = list(set(str(n)))\n",
        "    s = []\n",
        "    \n",
        "    for i in sn:\n",
        "        ln = list(str(n))    \n",
        "        ln.remove(i)\n",
        "        s.append(int(\"\".join([str(j) for j in ln])))\n",
        "\n",
        "    return max(s)\n"
      ],
      "execution_count": 0,
      "outputs": []
    },
    {
      "cell_type": "code",
      "metadata": {
        "id": "RMW3kX2KdjQn",
        "colab_type": "code",
        "outputId": "5f30582c-dd95-4e5f-f4ad-4bd6f280a2d6",
        "colab": {
          "base_uri": "https://localhost:8080/",
          "height": 35
        }
      },
      "source": [
        "n = 222250\n",
        "deleteDigit(n)"
      ],
      "execution_count": 0,
      "outputs": [
        {
          "output_type": "execute_result",
          "data": {
            "text/plain": [
              "22250"
            ]
          },
          "metadata": {
            "tags": []
          },
          "execution_count": 29
        }
      ]
    },
    {
      "cell_type": "code",
      "metadata": {
        "id": "f0hp9U6liE67",
        "colab_type": "code",
        "colab": {}
      },
      "source": [
        "# lucky-seven\n",
        "def deleteDigit(n):\n",
        "    n = str(n)\n",
        "    return max(int(''.join(n[:i]+n[i+1:])) for i in range(len(n)))"
      ],
      "execution_count": 0,
      "outputs": []
    },
    {
      "cell_type": "markdown",
      "metadata": {
        "id": "Hd6PI8NBgYYp",
        "colab_type": "text"
      },
      "source": [
        "#**[52] Define a word as a sequence of consecutive English letters. Find the longest word from the given string.**"
      ]
    },
    {
      "cell_type": "markdown",
      "metadata": {
        "id": "EfZDDLmahbh3",
        "colab_type": "text"
      },
      "source": [
        "Input/Output\n",
        "\n",
        "[execution time limit] 4 seconds (py3)\n",
        "\n",
        "[input] string text\n",
        "\n",
        "Guaranteed constraints:\n",
        "4 ≤ text.length ≤ 50.\n",
        "\n",
        "[output] string\n",
        "\n",
        "The longest word from text. It's guaranteed that there is a unique output."
      ]
    },
    {
      "cell_type": "code",
      "metadata": {
        "id": "YIs615oJM0lm",
        "colab_type": "code",
        "colab": {}
      },
      "source": [
        "# incorrect\n",
        "def longestWord(text):\n",
        "    t = re.split('[, ]', text)\n",
        "    ts = [re.sub(r\"[![]\",\"\",i) for i in t]\n",
        "    tm = max(len(i) for i in ts)\n",
        "\n",
        "    for i in ts:\n",
        "        if len(i) == tm:\n",
        "            return i\n"
      ],
      "execution_count": 0,
      "outputs": []
    },
    {
      "cell_type": "code",
      "metadata": {
        "id": "WZjERYlnNdal",
        "colab_type": "code",
        "outputId": "4d30bc28-5fd6-4239-ba7d-8c8b51f25007",
        "colab": {
          "base_uri": "https://localhost:8080/",
          "height": 35
        }
      },
      "source": [
        "text = \"To be or not to be\"\n",
        "longestWord(text)\n"
      ],
      "execution_count": 0,
      "outputs": [
        {
          "output_type": "execute_result",
          "data": {
            "text/plain": [
              "'not'"
            ]
          },
          "metadata": {
            "tags": []
          },
          "execution_count": 42
        }
      ]
    },
    {
      "cell_type": "code",
      "metadata": {
        "id": "SivQlTu7RXYm",
        "colab_type": "code",
        "colab": {}
      },
      "source": [
        "# dnl-blkv\n",
        "def longestWord(text):\n",
        "    return max(re.split('[^a-zA-Z]', text), key=len)\n"
      ],
      "execution_count": 0,
      "outputs": []
    },
    {
      "cell_type": "markdown",
      "metadata": {
        "id": "str0XQp_xDLu",
        "colab_type": "text"
      },
      "source": [
        "#**[53] Check if the given string is a correct time representation of the 24-hour clock.**\n",
        "\n"
      ]
    },
    {
      "cell_type": "markdown",
      "metadata": {
        "id": "w05__P1wxG4N",
        "colab_type": "text"
      },
      "source": [
        "Input/Output\n",
        "\n",
        "[execution time limit] 4 seconds (py3)\n",
        "\n",
        "[input] string time\n",
        "\n",
        "A string representing time in HH:MM format. It is guaranteed that the first two characters, as well as the last two characters, are digits.\n",
        "\n",
        "[output] boolean\n",
        "\n",
        "true if the given representation is correct, false otherwise."
      ]
    },
    {
      "cell_type": "code",
      "metadata": {
        "id": "EUmGcovjxKD_",
        "colab_type": "code",
        "colab": {}
      },
      "source": [
        "def validTime(time):\n",
        "    ts = time.split(':')\n",
        "    return 0 <= int(ts[0]) and 23 >= int(ts[0]) and 0 <= int(ts[1]) and 59 >= int(ts[1])\n"
      ],
      "execution_count": 0,
      "outputs": []
    },
    {
      "cell_type": "code",
      "metadata": {
        "id": "OYyLzrxkZi7I",
        "colab_type": "code",
        "outputId": "303a873b-7363-4208-9fed-4e0b399b7875",
        "colab": {
          "base_uri": "https://localhost:8080/",
          "height": 35
        }
      },
      "source": [
        "time = \"13:58\"\n",
        "validTime(time)"
      ],
      "execution_count": 0,
      "outputs": [
        {
          "output_type": "execute_result",
          "data": {
            "text/plain": [
              "True"
            ]
          },
          "metadata": {
            "tags": []
          },
          "execution_count": 10
        }
      ]
    },
    {
      "cell_type": "code",
      "metadata": {
        "id": "UJPV49H3y1TZ",
        "colab_type": "code",
        "colab": {}
      },
      "source": [
        "def validTime(time):\n",
        "    h,m=map(int,time.split(\":\"))\n",
        "    return 0<=h<24 and 0<=m<60"
      ],
      "execution_count": 0,
      "outputs": []
    },
    {
      "cell_type": "markdown",
      "metadata": {
        "id": "WFkUSsoFaELt",
        "colab_type": "text"
      },
      "source": [
        "#**[54] CodeMaster has just returned from shopping. He scanned the check of the items he bought and gave the resulting string to Ratiorg to figure out the total number of purchased items. Since Ratiorg is a bot he is definitely going to automate it, so he needs a program that sums up all the numbers which appear in the given input.**\n",
        "\n",
        "#**Help Ratiorg by writing a function that returns the sum of numbers that appear in the given inputString.**"
      ]
    },
    {
      "cell_type": "markdown",
      "metadata": {
        "id": "IuJvVIMSaKlr",
        "colab_type": "text"
      },
      "source": [
        "Input/Output\n",
        "\n",
        "[execution time limit] 4 seconds (py3)\n",
        "\n",
        "[input] string inputString\n",
        "\n",
        "Guaranteed constraints:\n",
        "0 ≤ inputString.length ≤ 105.\n",
        "\n",
        "[output] integer"
      ]
    },
    {
      "cell_type": "code",
      "metadata": {
        "id": "_NW-FhvjaOp-",
        "colab_type": "code",
        "colab": {}
      },
      "source": [
        "def sumUpNumbers(inputString):\n",
        "    return sum(map(int,re.findall(r\"\\d+\", inputString)))    \n"
      ],
      "execution_count": 0,
      "outputs": []
    },
    {
      "cell_type": "code",
      "metadata": {
        "id": "xvQRBjL3aNkK",
        "colab_type": "code",
        "outputId": "3181fa69-20fb-48e0-beec-0102e8f13b84",
        "colab": {
          "base_uri": "https://localhost:8080/",
          "height": 35
        }
      },
      "source": [
        "inputString = \"2 apples, 12 oranges\"\n",
        "sumUpNumbers(inputString)"
      ],
      "execution_count": 0,
      "outputs": [
        {
          "output_type": "execute_result",
          "data": {
            "text/plain": [
              "14"
            ]
          },
          "metadata": {
            "tags": []
          },
          "execution_count": 21
        }
      ]
    },
    {
      "cell_type": "code",
      "metadata": {
        "id": "X1AO6C_BbvJ7",
        "colab_type": "code",
        "colab": {}
      },
      "source": [
        "# bandorthild\n",
        "def sumUpNumbers(s):\n",
        "    return sum(map(int,\"\".join([i if i.isdigit() else \" \" for i in s]).split()))"
      ],
      "execution_count": 0,
      "outputs": []
    },
    {
      "cell_type": "markdown",
      "metadata": {
        "id": "ezyFpfInXMpg",
        "colab_type": "text"
      },
      "source": [
        "#**[55] Given a rectangular matrix containing only digits, calculate the number of different 2 × 2 squares in it.**"
      ]
    },
    {
      "cell_type": "markdown",
      "metadata": {
        "id": "wAhNwVYyXrmB",
        "colab_type": "text"
      },
      "source": [
        "Input/Output\n",
        "\n",
        "[execution time limit] 4 seconds (py3)\n",
        "\n",
        "[input] array.array.integer matrix\n",
        "\n",
        "Guaranteed constraints:\n",
        "1 ≤ matrix.length ≤ 100,\n",
        "1 ≤ matrix[i].length ≤ 100,\n",
        "0 ≤ matrix[i][j] ≤ 9.\n",
        "\n",
        "[output] integer\n",
        "\n",
        "The number of different 2 × 2 squares in matrix."
      ]
    },
    {
      "cell_type": "code",
      "metadata": {
        "id": "2mbkhMfvXqbB",
        "colab_type": "code",
        "colab": {}
      },
      "source": [
        "import numpy \n",
        "def differentSquares(matrix):\n",
        "    # array 변환을 해야 matrix를 추출 가능\n",
        "    m = numpy.array(matrix)\n",
        "    marr = []\n",
        "\n",
        "    # matrix 추출\n",
        "    for i in range(len(m)-1):\n",
        "        for j in range(len(m[0])-1):\n",
        "            marr.append(m[i:i+2, j:j+2])\n",
        "\n",
        "    # set하기 위한 tuple 변환\n",
        "    mx = [tuple(i.flatten()) for i in marr]\n",
        "\n",
        "    return len(set(mx)) # 중복 matrix 생략\n"
      ],
      "execution_count": 0,
      "outputs": []
    },
    {
      "cell_type": "code",
      "metadata": {
        "id": "9JXOHCUbZzYO",
        "colab_type": "code",
        "outputId": "2c2a0d86-c96d-4800-8bed-f00e395ba608",
        "colab": {
          "base_uri": "https://localhost:8080/",
          "height": 35
        }
      },
      "source": [
        "matrix = [[1,2,1], [2,2,2], [2,2,2], [1,2,3], [2,2,1]]\n",
        "differentSquares(matrix)"
      ],
      "execution_count": 0,
      "outputs": [
        {
          "output_type": "execute_result",
          "data": {
            "text/plain": [
              "6"
            ]
          },
          "metadata": {
            "tags": []
          },
          "execution_count": 90
        }
      ]
    },
    {
      "cell_type": "code",
      "metadata": {
        "id": "RmfFefr9jW99",
        "colab_type": "code",
        "colab": {}
      },
      "source": [
        "# bandorthild\n",
        "def differentSquares(matrix):\n",
        "    s = set()\n",
        "    for i in range(len(matrix) - 1):\n",
        "        for j in range(len(matrix[i]) - 1):\n",
        "                s.add((matrix[i][j], matrix[i][j+1], matrix[i+1][j], matrix[i+1][j+1]))\n",
        "    return len(s)"
      ],
      "execution_count": 0,
      "outputs": []
    },
    {
      "cell_type": "markdown",
      "metadata": {
        "id": "4Te9yo2LlEuW",
        "colab_type": "text"
      },
      "source": [
        "#**[56] Given an integer product, find the smallest positive (i.e. greater than 0) integer the product of whose digits is equal to product. If there is no such integer, return -1 instead.**"
      ]
    },
    {
      "cell_type": "markdown",
      "metadata": {
        "id": "VXFLf0zmlIcI",
        "colab_type": "text"
      },
      "source": [
        "Input/Output\n",
        "\n",
        "[execution time limit] 4 seconds (py3)\n",
        "\n",
        "[input] integer product\n",
        "\n",
        "Guaranteed constraints:\n",
        "0 ≤ product ≤ 600.\n",
        "\n",
        "[output] integer"
      ]
    },
    {
      "cell_type": "code",
      "metadata": {
        "id": "eVaVQ2zjlhWS",
        "colab_type": "code",
        "colab": {}
      },
      "source": [
        "# warning\n",
        "def digitsProduct(product):\n",
        "    q = product # 몫\n",
        "    d = 9 # 약분할 정수\n",
        "\n",
        "    l = []\n",
        "    while(True):\n",
        "        \n",
        "        if product==0:\n",
        "            return 10\n",
        "        elif product==1:\n",
        "            return 1\n",
        "        elif d==1:\n",
        "            break\n",
        "\n",
        "        if q%d != 0:\n",
        "            d -= 1\n",
        "        else:\n",
        "            q //= d\n",
        "            l.append(d)\n",
        "\n",
        "    if len(l) == 0:\n",
        "            return -1\n",
        "    \n",
        "    return int(\"\".join(map(str,sorted(l))))\n"
      ],
      "execution_count": 0,
      "outputs": []
    },
    {
      "cell_type": "code",
      "metadata": {
        "id": "Fs7CoEV9x7Cp",
        "colab_type": "code",
        "outputId": "b329f199-0a19-46d6-e781-2ca422ec17d4",
        "colab": {
          "base_uri": "https://localhost:8080/",
          "height": 35
        }
      },
      "source": [
        "product = 1\n",
        "digitsProduct(product)"
      ],
      "execution_count": 0,
      "outputs": [
        {
          "output_type": "execute_result",
          "data": {
            "text/plain": [
              "1"
            ]
          },
          "metadata": {
            "tags": []
          },
          "execution_count": 26
        }
      ]
    },
    {
      "cell_type": "code",
      "metadata": {
        "id": "5af6TW6J9JFe",
        "colab_type": "code",
        "colab": {}
      },
      "source": [
        "# dnl-blkv\n",
        "def digitsProduct(p):\n",
        "    if p == 0:\n",
        "        return 10\n",
        "    elif p == 1:\n",
        "        return 1\n",
        "    \n",
        "    n = []\n",
        "\n",
        "    while 1 < p:\n",
        "        # for ~ else\n",
        "        for d in range(9, 1, -1):\n",
        "            if p % d == 0:\n",
        "                p /= d\n",
        "                n.append(d)\n",
        "                break\n",
        "        else:\n",
        "            return -1\n",
        "\n",
        "    return int(''.join(map(str, sorted(n))))"
      ],
      "execution_count": 0,
      "outputs": []
    },
    {
      "cell_type": "markdown",
      "metadata": {
        "id": "wykRG5-VA1Q3",
        "colab_type": "text"
      },
      "source": [
        "#**[57] You are given an array of desired filenames in the order of their creation. Since two files cannot have equal names, the one which comes later will have an addition to its name in a form of (k), where k is the smallest positive integer such that the obtained name is not used yet.**\n",
        "\n",
        "#**Return an array of names that will be given to the files.**"
      ]
    },
    {
      "cell_type": "markdown",
      "metadata": {
        "id": "YJGdpApFB106",
        "colab_type": "text"
      },
      "source": [
        "Input/Output\n",
        "\n",
        "[execution time limit] 4 seconds (py3)\n",
        "\n",
        "[input] array.string names\n",
        "\n",
        "Guaranteed constraints:\n",
        "5 ≤ names.length ≤ 1000,\n",
        "1 ≤ names[i].length ≤ 15.\n",
        "\n",
        "[output] array.string"
      ]
    },
    {
      "cell_type": "code",
      "metadata": {
        "id": "4NsyXPW-IAzy",
        "colab_type": "code",
        "colab": {}
      },
      "source": [
        "def fileNaming(names):\n",
        "    for i in range(len(names)):\n",
        "        # i 원소부터 그 전에 동일한 값이 존재하는지\n",
        "        if names[i] in names[:i]:\n",
        "            j = 1\n",
        "            # filenaming에 따라서 변경한 값이 동일하게 존재하는지\n",
        "            while names[i]+\"(\"+str(j)+\")\" in names[:i]:\n",
        "                j += 1\n",
        "            # 리스트 내의 문자열 원소 변경\n",
        "            names[i]+=\"(\"+str(j)+\")\"\n",
        "    return names"
      ],
      "execution_count": 0,
      "outputs": []
    },
    {
      "cell_type": "code",
      "metadata": {
        "id": "EabXinb5Uh-x",
        "colab_type": "code",
        "outputId": "f7060acb-81ec-43bd-d9c7-235b9e00875d",
        "colab": {
          "base_uri": "https://localhost:8080/",
          "height": 230
        }
      },
      "source": [
        "names = [\"a(1)\",  \"a(6)\",  \"a\",  \"a\",  \"a\",  \"a\",  \"a\",  \"a\",  \"a\",  \"a\",  \"a\",  \"a\"]\n",
        "fileNaming(names)"
      ],
      "execution_count": 0,
      "outputs": [
        {
          "output_type": "execute_result",
          "data": {
            "text/plain": [
              "['a(1)',\n",
              " 'a(6)',\n",
              " 'a',\n",
              " 'a(2)',\n",
              " 'a(3)',\n",
              " 'a(4)',\n",
              " 'a(5)',\n",
              " 'a(7)',\n",
              " 'a(8)',\n",
              " 'a(9)',\n",
              " 'a(10)',\n",
              " 'a(11)']"
            ]
          },
          "metadata": {
            "tags": []
          },
          "execution_count": 36
        }
      ]
    },
    {
      "cell_type": "code",
      "metadata": {
        "id": "KNpqad_BM5xT",
        "colab_type": "code",
        "colab": {}
      },
      "source": [
        "# keeping_it_leal\n",
        "def fileNaming(names):\n",
        "    for i in range(len(names)):\n",
        "        if names[i] in names[:i]:\n",
        "            j=1\n",
        "            while names[i]+\"(\"+str(j)+\")\" in names[:i]:\n",
        "                j+=1\n",
        "            names[i]+=\"(\"+str(j)+\")\"\n",
        "    return names"
      ],
      "execution_count": 0,
      "outputs": []
    },
    {
      "cell_type": "markdown",
      "metadata": {
        "id": "rgXD-52mhQmq",
        "colab_type": "text"
      },
      "source": [
        "#**[58] You are taking part in an Escape Room challenge designed specifically for programmers. In your efforts to find a clue, you've found a binary code written on the wall behind a vase, and realized that it must be an encrypted message. After some thought, your first guess is that each consecutive 8 bits of the code stand for the character with the corresponding extended ASCII code.**\n",
        "\n",
        "#**Assuming that your hunch is correct, decode the message.**"
      ]
    },
    {
      "cell_type": "markdown",
      "metadata": {
        "id": "lBtqswCKhX3o",
        "colab_type": "text"
      },
      "source": [
        "Input/Output\n",
        "\n",
        "[execution time limit] 4 seconds (py3)\n",
        "\n",
        "[input] string code\n",
        "\n",
        "A string, the encrypted message consisting of characters '0' and '1'.\n",
        "\n",
        "Guaranteed constraints:\n",
        "0 < code.length < 800.\n",
        "\n",
        "[output] string\n",
        "\n",
        "The decrypted message."
      ]
    },
    {
      "cell_type": "code",
      "metadata": {
        "id": "DAjG6a0jh4tK",
        "colab_type": "code",
        "colab": {}
      },
      "source": [
        "def messageFromBinaryCode(code):\n",
        "    l = [] \n",
        "\n",
        "    for i in range(len(code)//8):\n",
        "        l.append(code[8*i:8*(i+1)])\n",
        "\n",
        "    for j in range(len(l)):\n",
        "        l[j] = chr(int(l[j], base = 2))\n",
        "\n",
        "    return \"\".join(l)\n"
      ],
      "execution_count": 0,
      "outputs": []
    },
    {
      "cell_type": "code",
      "metadata": {
        "id": "VkGUqa98r67u",
        "colab_type": "code",
        "outputId": "16f3c535-f811-4d5e-8b09-263a74ca2d38",
        "colab": {
          "base_uri": "https://localhost:8080/",
          "height": 35
        }
      },
      "source": [
        "code = \"010010000110010101101100011011000110111100100001\"\n",
        "messageFromBinaryCode(code)"
      ],
      "execution_count": 0,
      "outputs": [
        {
          "output_type": "execute_result",
          "data": {
            "text/plain": [
              "'Hello!'"
            ]
          },
          "metadata": {
            "tags": []
          },
          "execution_count": 49
        }
      ]
    },
    {
      "cell_type": "code",
      "metadata": {
        "id": "mc8qYZsRh-yo",
        "colab_type": "code",
        "colab": {}
      },
      "source": [
        "# keeping_it_leal\n",
        "def messageFromBinaryCode(code):\n",
        "    return \"\".join([chr(int(code[8*i:8*i+8],2)) for i in range(len(code)//8)])"
      ],
      "execution_count": 0,
      "outputs": []
    },
    {
      "cell_type": "markdown",
      "metadata": {
        "id": "9-Az9Q7HrfWm",
        "colab_type": "text"
      },
      "source": [
        "#**[59] Construct a square matrix with a size N × N containing integers from 1 to N * N in a spiral order, starting from top-left and in clockwise direction.**"
      ]
    },
    {
      "cell_type": "markdown",
      "metadata": {
        "id": "RWPlpiAGroDk",
        "colab_type": "text"
      },
      "source": [
        "Input/Output\n",
        "\n",
        "[execution time limit] 4 seconds (py3)\n",
        "\n",
        "[input] integer n\n",
        "\n",
        "Matrix size, a positive integer.\n",
        "\n",
        "Guaranteed constraints:\n",
        "3 ≤ n ≤ 100.\n",
        "\n",
        "[output] array.array.integer"
      ]
    },
    {
      "cell_type": "code",
      "metadata": {
        "id": "El823ZFSrq8n",
        "colab_type": "code",
        "colab": {}
      },
      "source": [
        "def spiralNumbers(n):\n",
        "    l = [[0 for i in range(n)] for j in range(n)]\n",
        "    cnt, dir, x, y = 0, 1, 0, -1\n",
        "    \n",
        "    while(True):\n",
        "        for i in range(n):\n",
        "            cnt += 1\n",
        "            y += dir\n",
        "            l[x][y] = cnt\n",
        "        n -= 1\n",
        "        if(n==0):\n",
        "            break\n",
        "        for j in range(n):\n",
        "            cnt += 1\n",
        "            x += dir\n",
        "            l[x][y] = cnt\n",
        "        dir = -dir\n",
        "    return l"
      ],
      "execution_count": 0,
      "outputs": []
    },
    {
      "cell_type": "code",
      "metadata": {
        "id": "EnuTeaTCVVCj",
        "colab_type": "code",
        "outputId": "39313a0e-fb71-48c9-d7a2-f598d691f32f",
        "colab": {
          "base_uri": "https://localhost:8080/",
          "height": 35
        }
      },
      "source": [
        "n = 3\n",
        "spiralNumbers(n)"
      ],
      "execution_count": 0,
      "outputs": [
        {
          "output_type": "execute_result",
          "data": {
            "text/plain": [
              "[[1, 2, 3], [8, 9, 4], [7, 6, 5]]"
            ]
          },
          "metadata": {
            "tags": []
          },
          "execution_count": 14
        }
      ]
    },
    {
      "cell_type": "code",
      "metadata": {
        "id": "IOCWn5syY1N1",
        "colab_type": "code",
        "colab": {}
      },
      "source": [
        "# nemoy\n",
        "def spiralNumbers(n,m=0,s=1):\n",
        "    \n",
        "    if m==0:m=n\n",
        "    if n==1==m:\n",
        "        return [[s]]\n",
        "    \n",
        "    #Calculate spiral numbers without first row\n",
        "    S=spiralNumbers(m-1,n,s+n)\n",
        "    \n",
        "    #Create first row and add the transpose of the rest\n",
        "    return [range(s,s+n)]+zip(*S[::-1]) # * -> unpacking\n",
        "\n"
      ],
      "execution_count": 0,
      "outputs": []
    },
    {
      "cell_type": "markdown",
      "metadata": {
        "id": "kgQP6js0Xjm-",
        "colab_type": "text"
      },
      "source": [
        "#**[60] Sudoku is a number-placement puzzle. The objective is to fill a 9 × 9 grid with digits so that each column, each row, and each of the nine 3 × 3 sub-grids that compose the grid contains all of the digits from 1 to 9.**\n",
        "\n",
        "#**This algorithm should check if the given grid of numbers represents a correct solution to Sudoku.**"
      ]
    },
    {
      "cell_type": "markdown",
      "metadata": {
        "id": "MHa3bb3ibO7P",
        "colab_type": "text"
      },
      "source": [
        ""
      ]
    },
    {
      "cell_type": "code",
      "metadata": {
        "id": "yOMg7u-1bPoF",
        "colab_type": "code",
        "colab": {}
      },
      "source": [
        "grid = [[1,3,2,5,4,6,9,8,7], \n",
        "        [4,6,5,8,7,9,3,2,1], \n",
        "        [7,9,8,2,1,3,6,5,4], \n",
        "        [9,2,1,4,3,5,8,7,6], \n",
        "        [3,5,4,7,6,8,2,1,9], \n",
        "        [6,8,7,1,9,2,5,4,3], \n",
        "        [5,7,6,9,8,1,4,3,2], \n",
        "        [2,4,3,6,5,7,1,9,8], \n",
        "        [8,1,9,3,2,4,7,6,5]]\n",
        "    \n",
        "    "
      ],
      "execution_count": 0,
      "outputs": []
    }
  ]
}