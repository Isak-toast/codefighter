{
  "nbformat": 4,
  "nbformat_minor": 0,
  "metadata": {
    "colab": {
      "name": "Code_sig_1~2.ipynb",
      "provenance": [],
      "toc_visible": true,
      "include_colab_link": true
    },
    "kernelspec": {
      "name": "python3",
      "display_name": "Python 3"
    },
    "accelerator": "GPU"
  },
  "cells": [
    {
      "cell_type": "markdown",
      "metadata": {
        "id": "view-in-github",
        "colab_type": "text"
      },
      "source": [
        "<a href=\"https://colab.research.google.com/github/Isak-toast/codefighter/blob/master/Code_sig_1~2.ipynb\" target=\"_parent\"><img src=\"https://colab.research.google.com/assets/colab-badge.svg\" alt=\"Open In Colab\"/></a>"
      ]
    },
    {
      "cell_type": "markdown",
      "metadata": {
        "id": "2tTy-RQ5ekz8",
        "colab_type": "text"
      },
      "source": [
        "#**[1] Write a function that returns the sum of two numbers.**\n",
        "\n"
      ]
    },
    {
      "cell_type": "markdown",
      "metadata": {
        "id": "U7mnpRM6hNpk",
        "colab_type": "text"
      },
      "source": [
        "**Input/Output**\n",
        "\n",
        "[execution time limit] 4 seconds (py3)\n",
        "\n",
        "[input] integer param1 // Guaranteed constraints: -1000 ≤ param1 ≤ 1000.\n",
        "\n",
        "[input] integer param2 // Guaranteed constraints: -1000 ≤ param2 ≤ 1000.\n",
        "\n",
        "[output] integer // The sum of the two inputs."
      ]
    },
    {
      "cell_type": "code",
      "metadata": {
        "id": "E8_iBW-GfSka",
        "colab_type": "code",
        "colab": {}
      },
      "source": [
        "def add(param1, param2):\n",
        "    return param1+param2"
      ],
      "execution_count": 0,
      "outputs": []
    },
    {
      "cell_type": "code",
      "metadata": {
        "id": "cSCiB86kgg4r",
        "colab_type": "code",
        "outputId": "04f089e6-a580-45c4-a92a-efffb4cf8e8f",
        "colab": {
          "base_uri": "https://localhost:8080/",
          "height": 35
        }
      },
      "source": [
        "add(2,1)"
      ],
      "execution_count": 0,
      "outputs": [
        {
          "output_type": "execute_result",
          "data": {
            "text/plain": [
              "3"
            ]
          },
          "metadata": {
            "tags": []
          },
          "execution_count": 2
        }
      ]
    },
    {
      "cell_type": "markdown",
      "metadata": {
        "id": "ABbg9uXhhGAs",
        "colab_type": "text"
      },
      "source": [
        "#**[2] Given a year, return the century it is in. The first century spans from the year 1 up to and including the year 100, the second - from the year 101 up to and including the year 200, etc.**"
      ]
    },
    {
      "cell_type": "markdown",
      "metadata": {
        "id": "LMaP9L2ziHSt",
        "colab_type": "text"
      },
      "source": [
        "**Input/Output**\n",
        "\n",
        "[execution time limit] 4 seconds (py3)\n",
        "\n",
        "[input] integer year // A positive integer, designating the year. //\n",
        "Guaranteed constraints:\n",
        "1 ≤ year ≤ 2005.\n",
        "\n",
        "[output] integer // The number of the century the year is in."
      ]
    },
    {
      "cell_type": "code",
      "metadata": {
        "id": "06Ua_YMshGJH",
        "colab_type": "code",
        "colab": {}
      },
      "source": [
        "import math\n",
        "def centuryFromYear(year):\n",
        "    return math.ceil(year/100)\n",
        "\n"
      ],
      "execution_count": 0,
      "outputs": []
    },
    {
      "cell_type": "code",
      "metadata": {
        "id": "XnrrNRIjicvA",
        "colab_type": "code",
        "colab": {
          "base_uri": "https://localhost:8080/",
          "height": 35
        },
        "outputId": "31fa1402-6d06-46ea-b031-4b2b1b940bd0"
      },
      "source": [
        "year = 1700\n",
        "centuryFromYear(year)"
      ],
      "execution_count": 6,
      "outputs": [
        {
          "output_type": "execute_result",
          "data": {
            "text/plain": [
              "17"
            ]
          },
          "metadata": {
            "tags": []
          },
          "execution_count": 6
        }
      ]
    },
    {
      "cell_type": "code",
      "metadata": {
        "id": "64M6w1NfPpUu",
        "colab_type": "code",
        "colab": {}
      },
      "source": [
        ""
      ],
      "execution_count": 0,
      "outputs": []
    }
  ]
}