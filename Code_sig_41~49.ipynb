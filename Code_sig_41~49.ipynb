{
  "nbformat": 4,
  "nbformat_minor": 0,
  "metadata": {
    "colab": {
      "name": "Code_sig_41~49",
      "provenance": [],
      "collapsed_sections": [],
      "authorship_tag": "ABX9TyObKdXKElgN8Xh1+PI4ERdN",
      "include_colab_link": true
    },
    "kernelspec": {
      "name": "python3",
      "display_name": "Python 3"
    },
    "accelerator": "GPU"
  },
  "cells": [
    {
      "cell_type": "markdown",
      "metadata": {
        "id": "view-in-github",
        "colab_type": "text"
      },
      "source": [
        "<a href=\"https://colab.research.google.com/github/Isak-toast/codefighter/blob/master/Code_sig_41~49.ipynb\" target=\"_parent\"><img src=\"https://colab.research.google.com/assets/colab-badge.svg\" alt=\"Open In Colab\"/></a>"
      ]
    },
    {
      "cell_type": "markdown",
      "metadata": {
        "id": "TajeZK9olwtg",
        "colab_type": "text"
      },
      "source": [
        "#**[41] Let's define digit degree of some positive integer as the number of times we need to replace this number with the sum of its digits until we get to a one digit number.**\n",
        "\n",
        "#**Given an integer, find its digit degree.**"
      ]
    },
    {
      "cell_type": "markdown",
      "metadata": {
        "id": "HuCqQ6fJl4VB",
        "colab_type": "text"
      },
      "source": [
        "Input/Output\n",
        "\n",
        "[execution time limit] 4 seconds (py3)\n",
        "\n",
        "[input] integer n\n",
        "\n",
        "Guaranteed constraints:\n",
        "5 ≤ n ≤ 109.\n",
        "\n",
        "[output] integer"
      ]
    },
    {
      "cell_type": "code",
      "metadata": {
        "id": "EgGGVKITl-nC",
        "colab_type": "code",
        "colab": {}
      },
      "source": [
        "def digitDegree(n):\n",
        "    cnt = 0\n",
        "    while(len(str(n)) is not 1):\n",
        "        cnt+=1\n",
        "        n = sum(int(i) for i in list(str(n)))\n",
        "        \n",
        "        if(len(str(n)) is 1):\n",
        "            return cnt\n",
        "    return 0"
      ],
      "execution_count": 0,
      "outputs": []
    },
    {
      "cell_type": "code",
      "metadata": {
        "id": "NSf34d9pC2Fo",
        "colab_type": "code",
        "outputId": "0f0cc048-6e30-4ed7-9346-49ba2bd4005b",
        "colab": {
          "base_uri": "https://localhost:8080/",
          "height": 35
        }
      },
      "source": [
        "n = 99\n",
        "digitDegree(n)"
      ],
      "execution_count": 0,
      "outputs": [
        {
          "output_type": "execute_result",
          "data": {
            "text/plain": [
              "2"
            ]
          },
          "metadata": {
            "tags": []
          },
          "execution_count": 34
        }
      ]
    },
    {
      "cell_type": "code",
      "metadata": {
        "id": "-Vp-2b2nD1Bs",
        "colab_type": "code",
        "colab": {}
      },
      "source": [
        "# scraphead\n",
        "def digitDegree(n):\n",
        "    \n",
        "    if n < 10:\n",
        "        return 0\n",
        "    sumOfDigits = sum([int(i) for i in str(n)])\n",
        "    \n",
        "    return digitDegree(sumOfDigits) + 1"
      ],
      "execution_count": 0,
      "outputs": []
    },
    {
      "cell_type": "markdown",
      "metadata": {
        "id": "m1p_qEtUYWtW",
        "colab_type": "text"
      },
      "source": [
        "#**[42] Given the positions of a white bishop and a black pawn on the standard chess board, determine whether the bishop can capture the pawn in one move.**\n",
        "\n",
        "#**The bishop has no restrictions in distance for each move, but is limited to diagonal movement. Check out the example below to see how it can move:**"
      ]
    },
    {
      "cell_type": "markdown",
      "metadata": {
        "id": "5alzUfX-YcFi",
        "colab_type": "text"
      },
      "source": [
        "Input/Output\n",
        "\n",
        "[execution time limit] 4 seconds (py3)\n",
        "\n",
        "[input] string bishop\n",
        "\n",
        "Coordinates of the white bishop in the chess notation.\n",
        "\n",
        "Guaranteed constraints:\n",
        "bishop.length = 2,\n",
        "'a' ≤ bishop[0] ≤ 'h',\n",
        "1 ≤ bishop[1] ≤ 8.\n",
        "\n",
        "[input] string pawn\n",
        "\n",
        "Coordinates of the black pawn in the same notation.\n",
        "\n",
        "Guaranteed constraints:\n",
        "pawn.length = 2,\n",
        "'a' ≤ pawn[0] ≤ 'h',\n",
        "1 ≤ pawn[1] ≤ 8.\n",
        "\n",
        "[output] boolean\n",
        "\n",
        "true if the bishop can capture the pawn, false otherwise."
      ]
    },
    {
      "cell_type": "code",
      "metadata": {
        "id": "WlqwKReIYhwR",
        "colab_type": "code",
        "colab": {}
      },
      "source": [
        "def bishopAndPawn(bishop, pawn):\n",
        "\n",
        "    return abs(ord(list(bishop)[0]) - ord(list(pawn)[0])) == abs(ord(list(bishop)[1]) - ord(list(pawn)[1]))\n"
      ],
      "execution_count": 0,
      "outputs": []
    },
    {
      "cell_type": "code",
      "metadata": {
        "id": "sXN6iJZ1aSqL",
        "colab_type": "code",
        "outputId": "11cfb72d-90e2-4be9-ac4b-c2382f736f06",
        "colab": {
          "base_uri": "https://localhost:8080/",
          "height": 34
        }
      },
      "source": [
        "bishop =  \"e3\"\n",
        "pawn = \"a7\"\n",
        "\n",
        "bishopAndPawn(bishop, pawn)"
      ],
      "execution_count": 0,
      "outputs": [
        {
          "output_type": "execute_result",
          "data": {
            "text/plain": [
              "True"
            ]
          },
          "metadata": {
            "tags": []
          },
          "execution_count": 18
        }
      ]
    },
    {
      "cell_type": "code",
      "metadata": {
        "id": "bCo57o87dUpj",
        "colab_type": "code",
        "colab": {}
      },
      "source": [
        "# bandorthild\n",
        "def bishopAndPawn(bishop, pawn):\n",
        "    return abs(ord(bishop[0])-ord(pawn[0]))==abs(int(pawn[1])-int(bishop[1]))\n"
      ],
      "execution_count": 0,
      "outputs": []
    },
    {
      "cell_type": "markdown",
      "metadata": {
        "id": "J9kQJkSzfKo2",
        "colab_type": "text"
      },
      "source": [
        "#**[43] A string is said to be beautiful if each letter in the string appears at most as many times as the previous letter in the alphabet within the string; ie: b occurs no more times than a; c occurs no more times than b; etc.**\n",
        "\n",
        "#**Given a string, check whether it is beautiful.**"
      ]
    },
    {
      "cell_type": "markdown",
      "metadata": {
        "id": "9d-WxAjRfT_u",
        "colab_type": "text"
      },
      "source": [
        "Input/Output\n",
        "\n",
        "[execution time limit] 4 seconds (py3)\n",
        "\n",
        "[input] string inputString\n",
        "\n",
        "A string of lowercase English letters.\n",
        "\n",
        "Guaranteed constraints:\n",
        "3 ≤ inputString.length ≤ 50.\n",
        "\n",
        "[output] boolean\n",
        "\n",
        "Return true if the string is beautiful, false otherwise."
      ]
    },
    {
      "cell_type": "code",
      "metadata": {
        "id": "T8iR8XdVfSmu",
        "colab_type": "code",
        "colab": {}
      },
      "source": [
        "def isBeautifulString(inputString):\n",
        "    pre_cnt = 100\n",
        "    cnt = 0\n",
        "    alpabet = 97\n",
        "    for i in sorted(inputString):\n",
        "        if ord(i) == alpabet:\n",
        "            cnt+=1\n",
        "        elif ord(i) != alpabet:\n",
        "            alpabet += 1\n",
        "            pre_cnt = cnt\n",
        "            if pre_cnt == 0:\n",
        "                return False\n",
        "            cnt = 0\n",
        "            if ord(i) == alpabet:\n",
        "                cnt += 1\n",
        "            else:\n",
        "                return False\n",
        "        if pre_cnt < cnt:\n",
        "            return False\n",
        "    return True"
      ],
      "execution_count": 0,
      "outputs": []
    },
    {
      "cell_type": "code",
      "metadata": {
        "id": "WGQBmW5dmSvO",
        "colab_type": "code",
        "outputId": "1658e748-4982-443a-e438-b7a7d6129b7b",
        "colab": {
          "base_uri": "https://localhost:8080/",
          "height": 35
        }
      },
      "source": [
        "inputString = \"abcdefghijklmnopqrstuvwxyzqwertuiopasdfghjklxcvbnm\"\n",
        "isBeautifulString(inputString)"
      ],
      "execution_count": 0,
      "outputs": [
        {
          "output_type": "execute_result",
          "data": {
            "text/plain": [
              "True"
            ]
          },
          "metadata": {
            "tags": []
          },
          "execution_count": 13
        }
      ]
    },
    {
      "cell_type": "code",
      "metadata": {
        "id": "qjz-b9ymvXQB",
        "colab_type": "code",
        "colab": {}
      },
      "source": [
        "# andrew_pudge\n",
        "def isBeautifulString(inputString):\n",
        "\n",
        "    r = [inputString.count(i) for i in string.ascii_lowercase]\n",
        "    \n",
        "    return r[::-1] == sorted(r)"
      ],
      "execution_count": 0,
      "outputs": []
    },
    {
      "cell_type": "markdown",
      "metadata": {
        "id": "qRD0gnp9ymBF",
        "colab_type": "text"
      },
      "source": [
        "#**[44] An email address such as \"John.Smith@example.com\" is made up of a local part (\"John.Smith\"), an \"@\" symbol, then a domain part (\"example.com\").**\n",
        "\n",
        "#**The domain name part of an email address may only consist of letters, digits, hyphens and dots. The local part, however, also allows a lot of different special characters. Here you can look at several examples of correct and incorrect email addresses.**\n",
        "\n",
        "#**Given a valid email address, find its domain part.**"
      ]
    },
    {
      "cell_type": "code",
      "metadata": {
        "id": "AmnxMZqMy46D",
        "colab_type": "code",
        "colab": {}
      },
      "source": [
        "def findEmailDomain(address):\n",
        "    return address.split('@')[-1]"
      ],
      "execution_count": 0,
      "outputs": []
    },
    {
      "cell_type": "code",
      "metadata": {
        "id": "Q08oQOQf0Maj",
        "colab_type": "code",
        "outputId": "424acddc-c2c5-4dcb-9369-4a41ffa1d17b",
        "colab": {
          "base_uri": "https://localhost:8080/",
          "height": 34
        }
      },
      "source": [
        "address = \"\\\"very.unusual.@.unusual.com\\\"@usual.com\"\n",
        "findEmailDomain(address)\n"
      ],
      "execution_count": 0,
      "outputs": [
        {
          "output_type": "execute_result",
          "data": {
            "text/plain": [
              "'usual.com'"
            ]
          },
          "metadata": {
            "tags": []
          },
          "execution_count": 8
        }
      ]
    },
    {
      "cell_type": "code",
      "metadata": {
        "id": "3lISHXL8y-VR",
        "colab_type": "code",
        "colab": {}
      },
      "source": [
        "# bandorthild\n",
        "def findEmailDomain(a):\n",
        "    return a[a.rfind(\"@\")+1:]"
      ],
      "execution_count": 0,
      "outputs": []
    },
    {
      "cell_type": "markdown",
      "metadata": {
        "id": "s51RnfM4UUy9",
        "colab_type": "text"
      },
      "source": [
        "#**[45] Given a string, find the shortest possible string which can be achieved by adding characters to the end of initial string to make it a palindrome.**"
      ]
    },
    {
      "cell_type": "markdown",
      "metadata": {
        "id": "9SwnnxHxWhnS",
        "colab_type": "text"
      },
      "source": [
        "Input/Output\n",
        "\n",
        "[execution time limit] 4 seconds (py3)\n",
        "\n",
        "[input] string st\n",
        "\n",
        "A string consisting of lowercase English letters.\n",
        "\n",
        "Guaranteed constraints:\n",
        "3 ≤ st.length ≤ 10.\n",
        "\n",
        "[output] string"
      ]
    },
    {
      "cell_type": "code",
      "metadata": {
        "id": "A-KQzSepUcb0",
        "colab_type": "code",
        "colab": {}
      },
      "source": [
        "# maya_s2\n",
        "def buildPalindrome(st):\n",
        "    for i in range(0,len(st)):\n",
        "        if(st[i:len(st)] == st[i:len(st)][::-1]):\n",
        "            return st[0:i] + st[i:len(st)] + st[0:i][::-1]\n",
        "            "
      ],
      "execution_count": 0,
      "outputs": []
    },
    {
      "cell_type": "code",
      "metadata": {
        "id": "s4cWaEaAZNEu",
        "colab_type": "code",
        "outputId": "1f88c9dd-aa4a-4e10-ba08-074fa36bf9e2",
        "colab": {
          "base_uri": "https://localhost:8080/",
          "height": 35
        }
      },
      "source": [
        "st = \"ababab\"\n",
        "buildPalindrome(st)"
      ],
      "execution_count": 0,
      "outputs": [
        {
          "output_type": "execute_result",
          "data": {
            "text/plain": [
              "'abababa'"
            ]
          },
          "metadata": {
            "tags": []
          },
          "execution_count": 5
        }
      ]
    },
    {
      "cell_type": "code",
      "metadata": {
        "id": "8iBFx66-rUAz",
        "colab_type": "code",
        "colab": {}
      },
      "source": [
        "def buildPalindrome(st):\n",
        "    for i in range(len(st)):\n",
        "        if st[i:len(st)] == st[i:len(st)][::-1]:\n",
        "            return st[:i] + st[i:len(st)] + st[:i][::-1]"
      ],
      "execution_count": 0,
      "outputs": []
    },
    {
      "cell_type": "markdown",
      "metadata": {
        "id": "HeSshx9ZeTRw",
        "colab_type": "text"
      },
      "source": [
        "#**[46] Elections are in progress!**\n",
        "\n",
        "#**Given an array of the numbers of votes given to each of the candidates so far, and an integer k equal to the number of voters who haven't cast their vote yet, find the number of candidates who still have a chance to win the election.**\n",
        "\n",
        "#**The winner of the election must secure strictly more votes than any other candidate. If two or more candidates receive the same (maximum) number of votes, assume there is no winner at all.**"
      ]
    },
    {
      "cell_type": "markdown",
      "metadata": {
        "id": "q6jmll6DgyKY",
        "colab_type": "text"
      },
      "source": [
        "Input/Output\n",
        "\n",
        "[execution time limit] 4 seconds (py3)\n",
        "\n",
        "[input] array.integer votes\n",
        "\n",
        "A non-empty array of non-negative integers. Its ith element denotes the number of votes cast for the ith candidate.\n",
        "\n",
        "Guaranteed constraints:\n",
        "4 ≤ votes.length ≤ 105,\n",
        "0 ≤ votes[i] ≤ 104.\n",
        "\n",
        "[input] integer k\n",
        "\n",
        "The number of voters who haven't cast their vote yet.\n",
        "\n",
        "Guaranteed constraints:\n",
        "0 ≤ k ≤ 105.\n",
        "\n",
        "[output] integer"
      ]
    },
    {
      "cell_type": "code",
      "metadata": {
        "id": "6n-uCsH8i8Yg",
        "colab_type": "code",
        "colab": {}
      },
      "source": [
        "def electionsWinners(votes, k):\n",
        "    m = max(votes)\n",
        "    b = sum(1 for i in votes if m == i)\n",
        "    c = sum(1 for j in votes if m < j+k)\n",
        "    if k==0:\n",
        "        if b==1:\n",
        "            return 1\n",
        "        else:\n",
        "            return 0\n",
        "        \n",
        "    else:\n",
        "        return c\n"
      ],
      "execution_count": 0,
      "outputs": []
    },
    {
      "cell_type": "code",
      "metadata": {
        "id": "sdlMBUdU6RWy",
        "colab_type": "code",
        "outputId": "291848d5-7e81-4c0e-937c-221edf2102c0",
        "colab": {
          "base_uri": "https://localhost:8080/",
          "height": 35
        }
      },
      "source": [
        "votes = [1, 3, 3, 1, 1]\n",
        "k = 0\n",
        "electionsWinners(votes, k)\n"
      ],
      "execution_count": 0,
      "outputs": [
        {
          "output_type": "execute_result",
          "data": {
            "text/plain": [
              "0"
            ]
          },
          "metadata": {
            "tags": []
          },
          "execution_count": 27
        }
      ]
    },
    {
      "cell_type": "code",
      "metadata": {
        "id": "pTrNVaHd_LFf",
        "colab_type": "code",
        "colab": {}
      },
      "source": [
        "# dnl-blkv\n",
        "def electionsWinners(v, k):\n",
        "    m = max(v)\n",
        "    \n",
        "    return int(v.count(m) == 1) if k == 0 else len([n for n in v if m < n + k])\n"
      ],
      "execution_count": 0,
      "outputs": []
    },
    {
      "cell_type": "markdown",
      "metadata": {
        "id": "9m1XD_fr7sFc",
        "colab_type": "text"
      },
      "source": [
        "#**[47] A media access control address (MAC address) is a unique identifier assigned to network interfaces for communications on the physical network segment.**\n",
        "\n",
        "#**The standard (IEEE 802) format for printing MAC-48 addresses in human-friendly form is six groups of two hexadecimal digits (0 to 9 or A to F), separated by hyphens (e.g. 01-23-45-67-89-AB).**\n",
        "\n",
        "#**Your task is to check by given string inputString whether it corresponds to MAC-48 address or not.**"
      ]
    },
    {
      "cell_type": "markdown",
      "metadata": {
        "id": "6fyqbDgs7yiW",
        "colab_type": "text"
      },
      "source": [
        "Input/Output\n",
        "\n",
        "[execution time limit] 4 seconds (py3)\n",
        "\n",
        "[input] string inputString\n",
        "\n",
        "Guaranteed constraints:\n",
        "15 ≤ inputString.length ≤ 20.\n",
        "\n",
        "[output] boolean\n",
        "\n",
        "true if inputString corresponds to MAC-48 address naming rules, false otherwise."
      ]
    },
    {
      "cell_type": "code",
      "metadata": {
        "id": "LGXvEa9Q71se",
        "colab_type": "code",
        "colab": {}
      },
      "source": [
        "# hidden error\n",
        "def isMAC48Address(s):\n",
        "    \n",
        "    sl = list(s)\n",
        "    while '-' in sl[:-1]:\n",
        "        sl.remove('-')\n",
        "\n",
        "    return all(c in string.hexdigits for c in sl)\n"
      ],
      "execution_count": 0,
      "outputs": []
    },
    {
      "cell_type": "code",
      "metadata": {
        "id": "9Cq5iBT6awyZ",
        "colab_type": "code",
        "colab": {}
      },
      "source": [
        "# dnl-blkv\n",
        "def isMAC48Address(s):\n",
        "    return bool(re.match(('^' + '[\\dA-F]{2}-' * 6)[:-1] + '$', s))\n"
      ],
      "execution_count": 0,
      "outputs": []
    },
    {
      "cell_type": "code",
      "metadata": {
        "id": "tuFF3MZib9Vc",
        "colab_type": "code",
        "outputId": "1674ddc1-a2cd-4a1e-9a07-be4e8e8a65fb",
        "colab": {
          "base_uri": "https://localhost:8080/",
          "height": 35
        }
      },
      "source": [
        "s = \"02-03-04-05-06-07-\"\n",
        "isMAC48Address(s)"
      ],
      "execution_count": 0,
      "outputs": [
        {
          "output_type": "execute_result",
          "data": {
            "text/plain": [
              "False"
            ]
          },
          "metadata": {
            "tags": []
          },
          "execution_count": 58
        }
      ]
    },
    {
      "cell_type": "markdown",
      "metadata": {
        "id": "_ZB2Le3elQ9E",
        "colab_type": "text"
      },
      "source": [
        "#**[48] Determine if the given character is a digit or not.**\n",
        "\n"
      ]
    },
    {
      "cell_type": "markdown",
      "metadata": {
        "id": "oP2bRMwgl9OG",
        "colab_type": "text"
      },
      "source": [
        "Input/Output\n",
        "\n",
        "[execution time limit] 4 seconds (py3)\n",
        "\n",
        "[input] char symbol\n",
        "\n",
        "A character which is either a digit or not.\n",
        "\n",
        "Guaranteed constraints:\n",
        "Given symbol is from ASCII table.\n",
        "\n",
        "[output] boolean\n",
        "\n",
        "true if symbol is a digit, false otherwise."
      ]
    },
    {
      "cell_type": "code",
      "metadata": {
        "id": "FBz40kgFl_H9",
        "colab_type": "code",
        "colab": {}
      },
      "source": [
        "def isDigit(symbol):\n",
        "    return symbol.isdigit()\n"
      ],
      "execution_count": 0,
      "outputs": []
    },
    {
      "cell_type": "code",
      "metadata": {
        "id": "w8kPX2lXmn90",
        "colab_type": "code",
        "colab": {
          "base_uri": "https://localhost:8080/",
          "height": 35
        },
        "outputId": "5524fb17-1104-4c2f-e0a4-cfdbd0cd66d3"
      },
      "source": [
        "symbol = \")\"\n",
        "isDigit(symbol)"
      ],
      "execution_count": 4,
      "outputs": [
        {
          "output_type": "execute_result",
          "data": {
            "text/plain": [
              "False"
            ]
          },
          "metadata": {
            "tags": []
          },
          "execution_count": 4
        }
      ]
    },
    {
      "cell_type": "markdown",
      "metadata": {
        "id": "H5GvPeFBmuAk",
        "colab_type": "text"
      },
      "source": [
        "#**[49] Given a string, return its encoding defined as follows:**\n",
        "\n",
        "#**First, the string is divided into the least possible number of disjoint substrings consisting of identical characters**\n",
        "#**for example, \"aabbbc\" is divided into [\"aa\", \"bbb\", \"c\"]**\n",
        "#**Next, each substring with length greater than one is replaced with a concatenation of its length and the repeating character**\n",
        "#**for example, substring \"bbb\" is replaced by \"3b\"**\n",
        "#**Finally, all the new strings are concatenated together in the same order and a new string is returned.**"
      ]
    },
    {
      "cell_type": "markdown",
      "metadata": {
        "id": "ccvU1Dd-nHOE",
        "colab_type": "text"
      },
      "source": [
        "Input/Output\n",
        "\n",
        "[execution time limit] 4 seconds (py3)\n",
        "\n",
        "[input] string s\n",
        "\n",
        "String consisting of lowercase English letters.\n",
        "\n",
        "Guaranteed constraints:\n",
        "4 ≤ s.length ≤ 15.\n",
        "\n",
        "[output] string\n",
        "\n",
        "Encoded version of s."
      ]
    },
    {
      "cell_type": "code",
      "metadata": {
        "id": "VEdjRpn2nIB2",
        "colab_type": "code",
        "colab": {}
      },
      "source": [
        "from itertools import groupby\n",
        "def lineEncoding(s): \n",
        "    x = ''\n",
        "    for k,g in groupby(s):\n",
        "        len_g = len(list(g))\n",
        "        if len_g == 1:\n",
        "            x += k\n",
        "        else:\n",
        "            x += str(len_g)+k\n",
        "\n",
        "    return x"
      ],
      "execution_count": 0,
      "outputs": []
    },
    {
      "cell_type": "code",
      "metadata": {
        "id": "rfPnhKbNnTE2",
        "colab_type": "code",
        "colab": {
          "base_uri": "https://localhost:8080/",
          "height": 35
        },
        "outputId": "15bc396f-65ee-4270-c4bc-9ad84284a887"
      },
      "source": [
        "s = \"ccccccccccccccc\"\n",
        "lineEncoding(s)"
      ],
      "execution_count": 66,
      "outputs": [
        {
          "output_type": "execute_result",
          "data": {
            "text/plain": [
              "'15c'"
            ]
          },
          "metadata": {
            "tags": []
          },
          "execution_count": 66
        }
      ]
    },
    {
      "cell_type": "code",
      "metadata": {
        "id": "ZhDRnAYu5oKG",
        "colab_type": "code",
        "colab": {}
      },
      "source": [
        "# k_lee\n",
        "def lineEncoding(s):\n",
        "    return re.sub(r\"(.)\\1+\", lambda m: str(len(m.group(0))) + m.group(1), s)\n"
      ],
      "execution_count": 0,
      "outputs": []
    }
  ]
}