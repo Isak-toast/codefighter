{
  "nbformat": 4,
  "nbformat_minor": 0,
  "metadata": {
    "colab": {
      "name": "Code_sig_21",
      "provenance": [],
      "collapsed_sections": [],
      "authorship_tag": "ABX9TyPm7o9Wv2b/VUwfNCCpXH/A",
      "include_colab_link": true
    },
    "kernelspec": {
      "name": "python3",
      "display_name": "Python 3"
    }
  },
  "cells": [
    {
      "cell_type": "markdown",
      "metadata": {
        "id": "view-in-github",
        "colab_type": "text"
      },
      "source": [
        "<a href=\"https://colab.research.google.com/github/Isak-toast/codefighter/blob/master/Code_sig_21.ipynb\" target=\"_parent\"><img src=\"https://colab.research.google.com/assets/colab-badge.svg\" alt=\"Open In Colab\"/></a>"
      ]
    },
    {
      "cell_type": "markdown",
      "metadata": {
        "id": "lq_0--P8YmDR",
        "colab_type": "text"
      },
      "source": [
        "#**[21] An IP address is a numerical label assigned to each device (e.g., computer, printer) participating in a computer network that uses the Internet Protocol for communication. There are two versions of the Internet protocol, and thus two versions of addresses. One of them is the IPv4 address.**\n",
        "\n",
        "#**Given a string, find out if it satisfies the IPv4 address naming rules.**"
      ]
    },
    {
      "cell_type": "markdown",
      "metadata": {
        "id": "M5_vzgVaYwmz",
        "colab_type": "text"
      },
      "source": [
        "Input/Output\n",
        "\n",
        "[execution time limit] 4 seconds (py3)\n",
        "\n",
        "[input] string inputString\n",
        "\n",
        "A string consisting of digits, full stops and lowercase English letters.\n",
        "\n",
        "Guaranteed constraints:\n",
        "1 ≤ inputString.length ≤ 30.\n",
        "\n",
        "[output] boolean\n",
        "\n",
        "true if inputString satisfies the IPv4 address naming rules, false otherwise."
      ]
    },
    {
      "cell_type": "code",
      "metadata": {
        "id": "W4PnuDR_ZATw",
        "colab_type": "code",
        "colab": {}
      },
      "source": [
        "def isIPv4Address(inputString):\n",
        "    for i in inputString.split(\".\"):\n",
        "        if not i.isdecimal() or len(inputString.split(\".\")) is not 4 or int(i) // 0x100 >= 1:\n",
        "            return False\n",
        "\n",
        "    return True\n"
      ],
      "execution_count": 0,
      "outputs": []
    },
    {
      "cell_type": "code",
      "metadata": {
        "id": "CHBHCZOPZHPH",
        "colab_type": "code",
        "colab": {
          "base_uri": "https://localhost:8080/",
          "height": 34
        },
        "outputId": "0f58e84f-45f9-40ca-b97b-910236063627"
      },
      "source": [
        "inputString = \".252.254.1\"\n",
        "isIPv4Address(inputString)\n"
      ],
      "execution_count": 44,
      "outputs": [
        {
          "output_type": "execute_result",
          "data": {
            "text/plain": [
              "False"
            ]
          },
          "metadata": {
            "tags": []
          },
          "execution_count": 44
        }
      ]
    },
    {
      "cell_type": "code",
      "metadata": {
        "id": "rLWkqivMcAbX",
        "colab_type": "code",
        "colab": {}
      },
      "source": [
        "# dnl-blkv\n",
        "def isIPv4Address(s):\n",
        "    p = s.split('.')\n",
        "\n",
        "    return len(p) == 4 and all(n.isdigit() and 0 <= int(n) < 256 for n in p)"
      ],
      "execution_count": 0,
      "outputs": []
    }
  ]
}