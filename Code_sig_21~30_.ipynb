{
  "nbformat": 4,
  "nbformat_minor": 0,
  "metadata": {
    "colab": {
      "name": "Code_sig_21~30-",
      "provenance": [],
      "collapsed_sections": [],
      "authorship_tag": "ABX9TyPcxhtsNYyO0UPexI6diEYS",
      "include_colab_link": true
    },
    "kernelspec": {
      "name": "python3",
      "display_name": "Python 3"
    },
    "accelerator": "GPU"
  },
  "cells": [
    {
      "cell_type": "markdown",
      "metadata": {
        "id": "view-in-github",
        "colab_type": "text"
      },
      "source": [
        "<a href=\"https://colab.research.google.com/github/Isak-toast/codefighter/blob/master/Code_sig_21~30_.ipynb\" target=\"_parent\"><img src=\"https://colab.research.google.com/assets/colab-badge.svg\" alt=\"Open In Colab\"/></a>"
      ]
    },
    {
      "cell_type": "markdown",
      "metadata": {
        "id": "lq_0--P8YmDR",
        "colab_type": "text"
      },
      "source": [
        "#**[21] An IP address is a numerical label assigned to each device (e.g., computer, printer) participating in a computer network that uses the Internet Protocol for communication. There are two versions of the Internet protocol, and thus two versions of addresses. One of them is the IPv4 address.**\n",
        "\n",
        "#**Given a string, find out if it satisfies the IPv4 address naming rules.**"
      ]
    },
    {
      "cell_type": "markdown",
      "metadata": {
        "id": "M5_vzgVaYwmz",
        "colab_type": "text"
      },
      "source": [
        "Input/Output\n",
        "\n",
        "[execution time limit] 4 seconds (py3)\n",
        "\n",
        "[input] string inputString\n",
        "\n",
        "A string consisting of digits, full stops and lowercase English letters.\n",
        "\n",
        "Guaranteed constraints:\n",
        "1 ≤ inputString.length ≤ 30.\n",
        "\n",
        "[output] boolean\n",
        "\n",
        "true if inputString satisfies the IPv4 address naming rules, false otherwise."
      ]
    },
    {
      "cell_type": "code",
      "metadata": {
        "id": "W4PnuDR_ZATw",
        "colab_type": "code",
        "colab": {}
      },
      "source": [
        "def isIPv4Address(inputString):\n",
        "    for i in inputString.split(\".\"):\n",
        "        if not i.isdecimal() or len(inputString.split(\".\")) is not 4 or int(i) // 0x100 >= 1:\n",
        "            return False\n",
        "\n",
        "    return True\n"
      ],
      "execution_count": 0,
      "outputs": []
    },
    {
      "cell_type": "code",
      "metadata": {
        "id": "CHBHCZOPZHPH",
        "colab_type": "code",
        "outputId": "0f58e84f-45f9-40ca-b97b-910236063627",
        "colab": {
          "base_uri": "https://localhost:8080/",
          "height": 34
        }
      },
      "source": [
        "inputString = \".252.254.1\"\n",
        "isIPv4Address(inputString)\n"
      ],
      "execution_count": 0,
      "outputs": [
        {
          "output_type": "execute_result",
          "data": {
            "text/plain": [
              "False"
            ]
          },
          "metadata": {
            "tags": []
          },
          "execution_count": 44
        }
      ]
    },
    {
      "cell_type": "code",
      "metadata": {
        "id": "rLWkqivMcAbX",
        "colab_type": "code",
        "colab": {}
      },
      "source": [
        "# dnl-blkv\n",
        "def isIPv4Address(s):\n",
        "    p = s.split('.')\n",
        "\n",
        "    return len(p) == 4 and all(n.isdigit() and 0 <= int(n) < 256 for n in p)"
      ],
      "execution_count": 0,
      "outputs": []
    },
    {
      "cell_type": "markdown",
      "metadata": {
        "id": "cD7zqmd5TGW5",
        "colab_type": "text"
      },
      "source": [
        "#**[22] You are given an array of integers representing coordinates of obstacles situated on a straight line.**\n",
        "\n",
        "#**Assume that you are jumping from the point with coordinate 0 to the right. You are allowed only to make jumps of the same length represented by some integer.**\n",
        "#**Find the minimal length of the jump enough to avoid all the obstacles.**"
      ]
    },
    {
      "cell_type": "markdown",
      "metadata": {
        "id": "AN36koW3Tgvz",
        "colab_type": "text"
      },
      "source": [
        "Input/Output\n",
        "\n",
        "[execution time limit] 4 seconds (py3)\n",
        "\n",
        "[input] array.integer inputArray\n",
        "\n",
        "Non-empty array of positive integers.\n",
        "\n",
        "Guaranteed constraints:\n",
        "2 ≤ inputArray.length ≤ 1000,\n",
        "1 ≤ inputArray[i] ≤ 1000.\n",
        "\n",
        "[output] integer\n",
        "\n",
        "The desired length."
      ]
    },
    {
      "cell_type": "code",
      "metadata": {
        "id": "VABzMxIETaK_",
        "colab_type": "code",
        "colab": {}
      },
      "source": [
        "def avoidObstacles(inputArray):\n",
        "    i = 1\n",
        "    v = 0\n",
        "    while(True):\n",
        "        if inputArray[v]%i != 0:\n",
        "            v += 1\n",
        "            if(len(inputArray) == v):\n",
        "                break\n",
        "        else:\n",
        "            i += 1\n",
        "            v = 0\n",
        "            if(len(inputArray)-1 == v):\n",
        "                break\n",
        "\n",
        "    return i\n"
      ],
      "execution_count": 0,
      "outputs": []
    },
    {
      "cell_type": "code",
      "metadata": {
        "id": "NYumZgYackd1",
        "colab_type": "code",
        "outputId": "2c1f0535-a774-4e2d-dce9-89a0ccaf5208",
        "colab": {
          "base_uri": "https://localhost:8080/",
          "height": 34
        }
      },
      "source": [
        "inputArray = [5, 3, 6, 7, 9]\n",
        "avoidObstacles(inputArray)\n",
        "\n",
        "c=2\n",
        "print(sorted([i%c for i in inputArray])[0])"
      ],
      "execution_count": 0,
      "outputs": [
        {
          "output_type": "stream",
          "text": [
            "0\n"
          ],
          "name": "stdout"
        }
      ]
    },
    {
      "cell_type": "code",
      "metadata": {
        "id": "VySMzNz9VKbU",
        "colab_type": "code",
        "colab": {}
      },
      "source": [
        "# andrew_pudge\n",
        "def avoidObstacles(inputArray):\n",
        "    c = 2\n",
        "    while True:\n",
        "        if sorted([i%c for i in inputArray])[0]>0:\n",
        "            return c\n",
        "        c += 1"
      ],
      "execution_count": 0,
      "outputs": []
    },
    {
      "cell_type": "markdown",
      "metadata": {
        "id": "AStB9TqQ4Fst",
        "colab_type": "text"
      },
      "source": [
        "#**[23] Last night you partied a little too hard. Now there's a black and white photo of you that's about to go viral! You can't let this ruin your reputation, so you want to apply the box blur algorithm to the photo to hide its content.**\n",
        "\n",
        "#**The pixels in the input image are represented as integers. The algorithm distorts the input image in the following way: Every pixel x in the output image has a value equal to the average value of the pixel values from the 3 × 3 square that has its center at x, including x itself. All the pixels on the border of x are then removed.**\n",
        "\n",
        "#**Return the blurred image as an integer, with the fractions rounded down.**"
      ]
    },
    {
      "cell_type": "markdown",
      "metadata": {
        "id": "vlB9QFgM4PEt",
        "colab_type": "text"
      },
      "source": [
        "Input/Output\n",
        "\n",
        "[execution time limit] 4 seconds (py3)\n",
        "\n",
        "[input] array.array.integer image\n",
        "\n",
        "An image, stored as a rectangular matrix of non-negative integers.\n",
        "\n",
        "Guaranteed constraints:\n",
        "3 ≤ image.length ≤ 100,\n",
        "3 ≤ image[0].length ≤ 100,\n",
        "0 ≤ image[i][j] ≤ 255.\n",
        "\n",
        "[output] array.array.integer\n",
        "\n",
        "A blurred image represented as integers, obtained through the process in the description."
      ]
    },
    {
      "cell_type": "code",
      "metadata": {
        "id": "1w_s0tTL4P7V",
        "colab_type": "code",
        "colab": {}
      },
      "source": [
        "# keeping_it_leal\n",
        "def boxBlur(m):\n",
        "    r = len(m)\n",
        "    c = len(m[0])\n",
        "    ans = []\n",
        "    for i in range(1,r-1):\n",
        "        row=[]\n",
        "        for j in range(1,c-1):\n",
        "            row.append(sum([m[i+k][j+l] for k in [-1,0,1] for l in [-1,0,1]])//9)\n",
        "        ans.append(row)\n",
        "    return ans"
      ],
      "execution_count": 0,
      "outputs": []
    },
    {
      "cell_type": "code",
      "metadata": {
        "id": "oGMuGqsOJVjf",
        "colab_type": "code",
        "outputId": "2ed37ce7-c176-4e6f-f31e-91b4f29ff841",
        "colab": {
          "base_uri": "https://localhost:8080/",
          "height": 34
        }
      },
      "source": [
        "image = [[36,0,18,9], [27,54,9,0], [81,63,72,45]]\n",
        "boxBlur(image)"
      ],
      "execution_count": 0,
      "outputs": [
        {
          "output_type": "execute_result",
          "data": {
            "text/plain": [
              "[[40, 30]]"
            ]
          },
          "metadata": {
            "tags": []
          },
          "execution_count": 28
        }
      ]
    },
    {
      "cell_type": "code",
      "metadata": {
        "id": "UL5mjQw859_R",
        "colab_type": "code",
        "colab": {}
      },
      "source": [
        "# dr_md\n",
        "def boxBlur(image):\n",
        "    return [[sum(sum(x[i:i+3]) for x in image[j:j+3])//9 \n",
        "                                   for i in range(len(image[0])-2)] \n",
        "                                   for j in range(len(image)-2)]\n",
        "\n"
      ],
      "execution_count": 0,
      "outputs": []
    },
    {
      "cell_type": "markdown",
      "metadata": {
        "id": "Mh_8mrMdgzj3",
        "colab_type": "text"
      },
      "source": [
        "#**[24] In the popular Minesweeper game you have a board with some mines and those cells that don't contain a mine have a number in it that indicates the total number of mines in the neighboring cells. Starting off with some arrangement of mines we want to create a Minesweeper game setup.**"
      ]
    },
    {
      "cell_type": "markdown",
      "metadata": {
        "id": "5dYisljQqTgp",
        "colab_type": "text"
      },
      "source": [
        "Input/Output\n",
        "\n",
        "[execution time limit] 4 seconds (py3)\n",
        "\n",
        "[input] array.array.boolean matrix\n",
        "\n",
        "A non-empty rectangular matrix consisting of boolean values - true if the corresponding cell contains a mine, false otherwise.\n",
        "\n",
        "Guaranteed constraints:\n",
        "2 ≤ matrix.length ≤ 100,\n",
        "2 ≤ matrix[0].length ≤ 100.\n",
        "\n",
        "[output] array.array.integer\n",
        "\n",
        "Rectangular matrix of the same size as matrix each cell of which contains an integer equal to the number of mines in the neighboring cells. Two cells are called neighboring if they share at least one corner."
      ]
    },
    {
      "cell_type": "code",
      "metadata": {
        "id": "u3HYIwtiuYif",
        "colab_type": "code",
        "colab": {}
      },
      "source": [
        "import numpy as np\n",
        "\n",
        "def minesweeper(matrix):\n",
        "    \n",
        "    row = len(matrix)\n",
        "    col = len(matrix[0])\n",
        "\n",
        "    ext_m = np.zeros((row+2, col+2), dtype=int)\n",
        "    res_m = np.zeros((row+2, col+2), dtype=int)\n",
        "\n",
        "    ext_m[1:row+1,1:col+1] = matrix\n",
        "\n",
        "    for i in range(row):\n",
        "        for j in range(col):\n",
        "            if(ext_m[i+1][j+1] == 1):\n",
        "                res_m[i:i+3, j:j+3] += 1\n",
        "                res_m[i+1][j+1] -= 1  \n",
        "\n",
        "    return res_m[1:row+1, 1:col+1]"
      ],
      "execution_count": 0,
      "outputs": []
    },
    {
      "cell_type": "code",
      "metadata": {
        "id": "AJV0BzYs1Btt",
        "colab_type": "code",
        "outputId": "05a63db3-c35d-4d53-9882-1232d00fc83f",
        "colab": {
          "base_uri": "https://localhost:8080/",
          "height": 70
        }
      },
      "source": [
        "matrix = [[True,False,False,True], \n",
        "          [False,False,True,False], \n",
        "          [True,True,False,True]]\n",
        "\n",
        "minesweeper(matrix)\n",
        "\n"
      ],
      "execution_count": 0,
      "outputs": [
        {
          "output_type": "execute_result",
          "data": {
            "text/plain": [
              "array([[0, 2, 2, 1],\n",
              "       [3, 4, 3, 3],\n",
              "       [1, 2, 3, 1]])"
            ]
          },
          "metadata": {
            "tags": []
          },
          "execution_count": 47
        }
      ]
    },
    {
      "cell_type": "code",
      "metadata": {
        "id": "TIAmw9iR_N4W",
        "colab_type": "code",
        "colab": {}
      },
      "source": [
        "# andrew_pudge\n",
        "def minesweeper(matrix):\n",
        "\n",
        "    r = []\n",
        "    \n",
        "    for i in range(len(matrix)):\n",
        "        r.append([])\n",
        "        for j in range(len(matrix[0])):\n",
        "            l = -matrix[i][j]\n",
        "            for x in [-1,0,1]:\n",
        "                for y in [-1,0,1]:\n",
        "                    if 0<=i+x<len(matrix) and 0<=j+y<len(matrix[0]):\n",
        "                        l += matrix[i+x][j+y]\n",
        "\n",
        "            r[i].append(l)\n",
        "    return r\n",
        "                    "
      ],
      "execution_count": 0,
      "outputs": []
    },
    {
      "cell_type": "markdown",
      "metadata": {
        "id": "_EG9mUKXF9eU",
        "colab_type": "text"
      },
      "source": [
        "#**[25] Given an array of integers, replace all the occurrences of elemToReplace with substitutionElem.**"
      ]
    },
    {
      "cell_type": "markdown",
      "metadata": {
        "id": "9QhRrEBZGww7",
        "colab_type": "text"
      },
      "source": [
        "Input/Output\n",
        "\n",
        "[execution time limit] 4 seconds (py3)\n",
        "\n",
        "[input] array.integer inputArray\n",
        "\n",
        "Guaranteed constraints:\n",
        "0 ≤ inputArray.length ≤ 104,\n",
        "0 ≤ inputArray[i] ≤ 109.\n",
        "\n",
        "[input] integer elemToReplace\n",
        "\n",
        "Guaranteed constraints:\n",
        "0 ≤ elemToReplace ≤ 109.\n",
        "\n",
        "[input] integer substitutionElem\n",
        "\n",
        "Guaranteed constraints:\n",
        "0 ≤ substitutionElem ≤ 109.\n",
        "\n",
        "[output] array.integer"
      ]
    },
    {
      "cell_type": "code",
      "metadata": {
        "id": "8J0N2buKVPLx",
        "colab_type": "code",
        "colab": {}
      },
      "source": [
        "def arrayReplace(inputArray, elemToReplace, substitutionElem):\n",
        "    for i, v in enumerate(inputArray):\n",
        "        if v == elemToReplace:\n",
        "            inputArray[i] = substitutionElem\n",
        "\n",
        "    return inputArray\n"
      ],
      "execution_count": 0,
      "outputs": []
    },
    {
      "cell_type": "code",
      "metadata": {
        "id": "COZTZDi6WP_w",
        "colab_type": "code",
        "outputId": "63ed4363-65be-4796-a5ed-ca6cc9e4f7ef",
        "colab": {
          "base_uri": "https://localhost:8080/",
          "height": 35
        }
      },
      "source": [
        "inputArray = [1, 2, 1, 2, 1]\n",
        "elemToReplace = 2\n",
        "substitutionElem = 3\n",
        "\n",
        "arrayReplace(inputArray, elemToReplace, substitutionElem)"
      ],
      "execution_count": 0,
      "outputs": [
        {
          "output_type": "execute_result",
          "data": {
            "text/plain": [
              "[1, 3, 1, 3, 1]"
            ]
          },
          "metadata": {
            "tags": []
          },
          "execution_count": 5
        }
      ]
    },
    {
      "cell_type": "code",
      "metadata": {
        "id": "KehTHTTvt555",
        "colab_type": "code",
        "colab": {}
      },
      "source": [
        "# smirnoval\n",
        "def arrayReplace(i, e, s):\n",
        "    return [x if x!=e else s for x in i]"
      ],
      "execution_count": 0,
      "outputs": []
    },
    {
      "cell_type": "markdown",
      "metadata": {
        "id": "lSkqlCNardMI",
        "colab_type": "text"
      },
      "source": [
        "#**[26] Check if all digits of the given integer are even.**\n"
      ]
    },
    {
      "cell_type": "markdown",
      "metadata": {
        "id": "VIqupVWFrlAH",
        "colab_type": "text"
      },
      "source": [
        "Input/Output\n",
        "\n",
        "[execution time limit] 4 seconds (py3)\n",
        "\n",
        "[input] integer n\n",
        "\n",
        "Guaranteed constraints:\n",
        "1 ≤ n ≤ 109.\n",
        "\n",
        "[output] boolean\n",
        "\n",
        "true if all digits of n are even, false otherwise.\n"
      ]
    },
    {
      "cell_type": "code",
      "metadata": {
        "id": "t3IJukZFsAlL",
        "colab_type": "code",
        "colab": {}
      },
      "source": [
        "# keeping_it_leal\n",
        "def evenDigitsOnly(n):\n",
        "    return all([int(i)%2==0 for i in str(n)])"
      ],
      "execution_count": 0,
      "outputs": []
    },
    {
      "cell_type": "code",
      "metadata": {
        "id": "2R-adsQRtcYJ",
        "colab_type": "code",
        "outputId": "7feb6c11-0c65-4dfb-e29b-40faff559869",
        "colab": {
          "base_uri": "https://localhost:8080/",
          "height": 35
        }
      },
      "source": [
        "n = 248622\n",
        "evenDigitsOnly(n)\n"
      ],
      "execution_count": 0,
      "outputs": [
        {
          "output_type": "execute_result",
          "data": {
            "text/plain": [
              "True"
            ]
          },
          "metadata": {
            "tags": []
          },
          "execution_count": 20
        }
      ]
    },
    {
      "cell_type": "markdown",
      "metadata": {
        "id": "0ukZSdhRrppl",
        "colab_type": "text"
      },
      "source": [
        "#**[27] Correct variable names consist only of English letters, digits and underscores and they can't start with a digit.**\n",
        "\n",
        "#**Check if the given string is a correct variable name.**"
      ]
    },
    {
      "cell_type": "markdown",
      "metadata": {
        "id": "8M4BLgtBrxak",
        "colab_type": "text"
      },
      "source": [
        "Input/Output\n",
        "\n",
        "[execution time limit] 4 seconds (py3)\n",
        "\n",
        "[input] string name\n",
        "\n",
        "Guaranteed constraints:\n",
        "1 ≤ name.length ≤ 10.\n",
        "\n",
        "[output] boolean\n",
        "\n",
        "true if name is a correct variable name, false otherwise."
      ]
    },
    {
      "cell_type": "code",
      "metadata": {
        "id": "Yct8XsXqshyE",
        "colab_type": "code",
        "colab": {}
      },
      "source": [
        "def variableName(name):\n",
        "    if name[0].isdigit():\n",
        "        return False\n",
        "    \n",
        "    return all([s.isdigit() or s == \"_\" or s.isalpha() for s in name])"
      ],
      "execution_count": 0,
      "outputs": []
    },
    {
      "cell_type": "code",
      "metadata": {
        "id": "zAegVQzPs309",
        "colab_type": "code",
        "outputId": "b5dc65f5-c6ec-4cb1-8e69-cfe52576405f",
        "colab": {
          "base_uri": "https://localhost:8080/",
          "height": 35
        }
      },
      "source": [
        "name = \"var_1__Int\"\n",
        "\n",
        "variableName(name)"
      ],
      "execution_count": 0,
      "outputs": [
        {
          "output_type": "execute_result",
          "data": {
            "text/plain": [
              "True"
            ]
          },
          "metadata": {
            "tags": []
          },
          "execution_count": 46
        }
      ]
    },
    {
      "cell_type": "code",
      "metadata": {
        "id": "yrzY5m29u8fB",
        "colab_type": "code",
        "colab": {}
      },
      "source": [
        "# banach\n",
        "def variableName(name):\n",
        "    return name.isidentifier()\n"
      ],
      "execution_count": 0,
      "outputs": []
    },
    {
      "cell_type": "markdown",
      "metadata": {
        "id": "Mmv34DjEYCMy",
        "colab_type": "text"
      },
      "source": [
        "#**[28] Given a string, your task is to replace each of its characters by the next one in the English alphabet; i.e. replace a with b, replace b with c, etc (z would be replaced by a).**\n",
        "\n"
      ]
    },
    {
      "cell_type": "markdown",
      "metadata": {
        "id": "xs8wgDIyYmO5",
        "colab_type": "text"
      },
      "source": [
        "Input/Output\n",
        "\n",
        "[execution time limit] 4 seconds (py3)\n",
        "\n",
        "[input] string inputString\n",
        "\n",
        "A non-empty string consisting of lowercase English characters.\n",
        "\n",
        "Guaranteed constraints:\n",
        "1 ≤ inputString.length ≤ 1000.\n",
        "\n",
        "[output] string\n",
        "\n",
        "The resulting string after replacing each of its characters."
      ]
    },
    {
      "cell_type": "code",
      "metadata": {
        "id": "p5hV2eP6Y0T4",
        "colab_type": "code",
        "colab": {}
      },
      "source": [
        "# keeping_it_leal\n",
        "def alphabeticShift(s):\n",
        "    return \"\".join(chr((ord(i)-96)%26+97) for i in s)"
      ],
      "execution_count": 0,
      "outputs": []
    },
    {
      "cell_type": "code",
      "metadata": {
        "id": "uoNRpp40Y4s2",
        "colab_type": "code",
        "outputId": "251d81b8-8e63-4585-a254-82e82c88365f",
        "colab": {
          "base_uri": "https://localhost:8080/",
          "height": 35
        }
      },
      "source": [
        "inputString = \"aaaabbbccd\"\n",
        "alphabeticShift(inputString)"
      ],
      "execution_count": 0,
      "outputs": [
        {
          "output_type": "execute_result",
          "data": {
            "text/plain": [
              "'bbbbcccdde'"
            ]
          },
          "metadata": {
            "tags": []
          },
          "execution_count": 7
        }
      ]
    },
    {
      "cell_type": "markdown",
      "metadata": {
        "id": "r8ZTyAMvReVl",
        "colab_type": "text"
      },
      "source": [
        "#**[29] Given two cells on the standard chess board, determine whether they have the same color or not.**"
      ]
    },
    {
      "cell_type": "markdown",
      "metadata": {
        "id": "w5OL17-mRjwj",
        "colab_type": "text"
      },
      "source": [
        "Input/Output\n",
        "\n",
        "[execution time limit] 4 seconds (py3)\n",
        "\n",
        "[input] string cell1\n",
        "\n",
        "Guaranteed constraints:\n",
        "cell1.length = 2,\n",
        "'A' ≤ cell1[0] ≤ 'H',\n",
        "1 ≤ cell1[1] ≤ 8.\n",
        "\n",
        "[input] string cell2\n",
        "\n",
        "Guaranteed constraints:\n",
        "cell2.length = 2,\n",
        "'A' ≤ cell2[0] ≤ 'H',\n",
        "1 ≤ cell2[1] ≤ 8.\n",
        "\n",
        "[output] boolean\n",
        "\n",
        "true if both cells have the same color, false otherwise."
      ]
    },
    {
      "cell_type": "code",
      "metadata": {
        "id": "AvtGAcyBRkVS",
        "colab_type": "code",
        "colab": {}
      },
      "source": [
        "def chessBoardCellColor(cell1, cell2):\n",
        "    Sum = 0\n",
        "\n",
        "    for i, j in cell1, cell2:\n",
        "        if ord(i)%2==0:\n",
        "            Sum += 1\n",
        "        if ord(j)%2==0:\n",
        "            Sum += 1\n",
        "    if Sum%2==0:\n",
        "        return True\n",
        "    return False"
      ],
      "execution_count": 0,
      "outputs": []
    },
    {
      "cell_type": "code",
      "metadata": {
        "id": "cUi-rcsqRnP-",
        "colab_type": "code",
        "outputId": "a1f12ccc-286d-4425-f748-e4d01df576ca",
        "colab": {
          "base_uri": "https://localhost:8080/",
          "height": 35
        }
      },
      "source": [
        "cell1 = \"A1\"\n",
        "cell2 = \"C3\"\n",
        "chessBoardCellColor(cell1, cell2)\n"
      ],
      "execution_count": 0,
      "outputs": [
        {
          "output_type": "execute_result",
          "data": {
            "text/plain": [
              "True"
            ]
          },
          "metadata": {
            "tags": []
          },
          "execution_count": 27
        }
      ]
    },
    {
      "cell_type": "code",
      "metadata": {
        "id": "3IvohAAIRuNp",
        "colab_type": "code",
        "colab": {}
      },
      "source": [
        "# andrew_pudge\n",
        "def chessBoardCellColor(cell1, cell2):\n",
        "    \n",
        "    return (ord(cell1[0])+int(cell1[1])+ord(cell2[0])+int(cell2[1]))%2==0"
      ],
      "execution_count": 0,
      "outputs": []
    },
    {
      "cell_type": "markdown",
      "metadata": {
        "id": "p4jq-npOAPWx",
        "colab_type": "text"
      },
      "source": [
        "#**[30] Consider integer numbers from 0 to n - 1 written down along the circle in such a way that the distance between any two neighboring numbers is equal (note that 0 and n - 1 are neighboring, too).**\n",
        "\n",
        "#**Given n and firstNumber, find the number which is written in the radially opposite position to firstNumber.**"
      ]
    },
    {
      "cell_type": "markdown",
      "metadata": {
        "id": "YnvMUzcAAY-t",
        "colab_type": "text"
      },
      "source": [
        "Input/Output\n",
        "\n",
        "[execution time limit] 4 seconds (py3)\n",
        "\n",
        "[input] integer n\n",
        "\n",
        "A positive even integer.\n",
        "\n",
        "Guaranteed constraints:\n",
        "4 ≤ n ≤ 20.\n",
        "\n",
        "[input] integer firstNumber\n",
        "\n",
        "Guaranteed constraints:\n",
        "0 ≤ firstNumber ≤ n - 1.\n",
        "\n",
        "[output] integer"
      ]
    },
    {
      "cell_type": "code",
      "metadata": {
        "id": "-ktTQFRjD4yt",
        "colab_type": "code",
        "colab": {}
      },
      "source": [
        "def circleOfNumbers(n, firstNumber):\n",
        "    firstNumber += n//2\n",
        "    num = firstNumber%n\n",
        "\n",
        "    return num\n"
      ],
      "execution_count": 0,
      "outputs": []
    },
    {
      "cell_type": "code",
      "metadata": {
        "id": "hp0fwkO5EBOW",
        "colab_type": "code",
        "colab": {
          "base_uri": "https://localhost:8080/",
          "height": 35
        },
        "outputId": "7c15da34-f28a-441f-9947-85905605db5b"
      },
      "source": [
        "n = 10\n",
        "firstNumber = 2\n",
        "circleOfNumbers(n, firstNumber)\n",
        "\n"
      ],
      "execution_count": 3,
      "outputs": [
        {
          "output_type": "execute_result",
          "data": {
            "text/plain": [
              "7"
            ]
          },
          "metadata": {
            "tags": []
          },
          "execution_count": 3
        }
      ]
    },
    {
      "cell_type": "code",
      "metadata": {
        "id": "aYpMEHtSEGI4",
        "colab_type": "code",
        "colab": {}
      },
      "source": [
        "# andrew_pudge\n",
        "def circleOfNumbers(n, firstNumber):\n",
        "\n",
        "    return (firstNumber + n/2)%n"
      ],
      "execution_count": 0,
      "outputs": []
    }
  ]
}