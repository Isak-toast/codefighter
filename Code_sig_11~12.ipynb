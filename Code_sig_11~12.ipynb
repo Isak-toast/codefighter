{
  "nbformat": 4,
  "nbformat_minor": 0,
  "metadata": {
    "colab": {
      "name": "Code_sig_11~12.ipynb",
      "provenance": [],
      "include_colab_link": true
    },
    "kernelspec": {
      "name": "python3",
      "display_name": "Python 3"
    }
  },
  "cells": [
    {
      "cell_type": "markdown",
      "metadata": {
        "id": "view-in-github",
        "colab_type": "text"
      },
      "source": [
        "<a href=\"https://colab.research.google.com/github/Isak-toast/codefighter/blob/master/Code_sig_11~12.ipynb\" target=\"_parent\"><img src=\"https://colab.research.google.com/assets/colab-badge.svg\" alt=\"Open In Colab\"/></a>"
      ]
    },
    {
      "cell_type": "markdown",
      "metadata": {
        "id": "9qhOD4FqtzxG",
        "colab_type": "text"
      },
      "source": [
        "#**[11] Ticket numbers usually consist of an even number of digits. A ticket number is considered lucky if the sum of the first half of the digits is equal to the sum of the second half.**"
      ]
    },
    {
      "cell_type": "markdown",
      "metadata": {
        "id": "egnLlgjKt6VV",
        "colab_type": "text"
      },
      "source": [
        "Input/Output\n",
        "\n",
        "[execution time limit] 4 seconds (py3)\n",
        "\n",
        "[input] integer n\n",
        "\n",
        "A ticket number represented as a positive integer with an even number of digits.\n",
        "\n",
        "Guaranteed constraints:\n",
        "10 ≤ n < 106.\n",
        "\n",
        "[output] boolean\n",
        "\n",
        "true if n is a lucky ticket number, false otherwise."
      ]
    },
    {
      "cell_type": "code",
      "metadata": {
        "id": "pfHq0mo7xLWC",
        "colab_type": "code",
        "colab": {}
      },
      "source": [
        "def isLucky(n):\n",
        "    a = list(str(n))\n",
        "    limit = int(len(a)//2)\n",
        "    b = a[:limit]\n",
        "    newlist = []\n",
        "    newhalflist = []\n",
        "    for i in a:\n",
        "         newlist.append(int(i))\n",
        "    for i in b:\n",
        "        newhalflist.append(int(i))\n",
        "    return sum(newlist) == (2*sum(newhalflist))\n"
      ],
      "execution_count": 0,
      "outputs": []
    },
    {
      "cell_type": "code",
      "metadata": {
        "id": "8DfggMPKupwG",
        "colab_type": "code",
        "outputId": "b58846a4-a9c6-4d63-a630-e8ac3c41717d",
        "colab": {
          "base_uri": "https://localhost:8080/",
          "height": 34
        }
      },
      "source": [
        "n = 1230\n",
        "isLucky(n)"
      ],
      "execution_count": 0,
      "outputs": [
        {
          "output_type": "execute_result",
          "data": {
            "text/plain": [
              "True"
            ]
          },
          "metadata": {
            "tags": []
          },
          "execution_count": 4
        }
      ]
    },
    {
      "cell_type": "code",
      "metadata": {
        "id": "9vLC-dHBusjx",
        "colab_type": "code",
        "outputId": "7643ca49-27c7-4bce-9d91-d154c1e108da",
        "colab": {
          "base_uri": "https://localhost:8080/",
          "height": 34
        }
      },
      "source": [
        "#andyman1337\n",
        "def isLucky(n):\n",
        "    s = str(n)\n",
        "    pivot = len(s)//2\n",
        "    left, right = s[:pivot], s[pivot:]\n",
        "    return sum(map(int, left)) == sum(map(int, right))\n"
      ],
      "execution_count": 0,
      "outputs": [
        {
          "output_type": "execute_result",
          "data": {
            "text/plain": [
              "6"
            ]
          },
          "metadata": {
            "tags": []
          },
          "execution_count": 20
        }
      ]
    },
    {
      "cell_type": "markdown",
      "metadata": {
        "id": "8tHqgj4JyldH",
        "colab_type": "text"
      },
      "source": [
        "#**[12] Some people are standing in a row in a park. There are trees between them which cannot be moved. Your task is to rearrange the people by their heights in a non-descending order without moving the trees. People can be very tall!**"
      ]
    },
    {
      "cell_type": "markdown",
      "metadata": {
        "id": "R32GkKScypq8",
        "colab_type": "text"
      },
      "source": [
        "Input/Output\n",
        "\n",
        "[execution time limit] 4 seconds (py3)\n",
        "\n",
        "[input] array.integer a\n",
        "\n",
        "If a[i] = -1, then the ith position is occupied by a tree. Otherwise a[i] is the height of a person standing in the ith position.\n",
        "\n",
        "Guaranteed constraints:\n",
        "1 ≤ a.length ≤ 1000,\n",
        "-1 ≤ a[i] ≤ 1000.\n",
        "\n",
        "[output] array.integer\n",
        "\n",
        "Sorted array a with all the trees untouched."
      ]
    },
    {
      "cell_type": "code",
      "metadata": {
        "id": "HDU0_PITyskU",
        "colab_type": "code",
        "colab": {}
      },
      "source": [
        "def sortByHeight(a):\n",
        "    idx_list = []\n",
        "    num_list = []\n",
        "    for idx, num in enumerate(a):\n",
        "        if -1 == num :\n",
        "            continue\n",
        "        else :\n",
        "            idx_list.append(idx)\n",
        "            num_list.append(num)\n",
        "\n",
        "    num_list = sorted(num_list)\n",
        "\n",
        "    for i in range(len(idx_list)):\n",
        "        a[idx_list[i]] = num_list[i]\n",
        "\n",
        "    return a"
      ],
      "execution_count": 0,
      "outputs": []
    },
    {
      "cell_type": "code",
      "metadata": {
        "id": "ohctSpgM5QQg",
        "colab_type": "code",
        "colab": {
          "base_uri": "https://localhost:8080/",
          "height": 34
        },
        "outputId": "b2343050-2770-4bcb-d138-acb275e80a28"
      },
      "source": [
        "a = [-1, 150, 190, 170, -1, -1, 160, 180]\n",
        "sortByHeight(a)"
      ],
      "execution_count": 24,
      "outputs": [
        {
          "output_type": "execute_result",
          "data": {
            "text/plain": [
              "[-1, 150, 160, 170, -1, -1, 180, 190]"
            ]
          },
          "metadata": {
            "tags": []
          },
          "execution_count": 24
        }
      ]
    },
    {
      "cell_type": "code",
      "metadata": {
        "id": "5SxLEmixzCax",
        "colab_type": "code",
        "colab": {}
      },
      "source": [
        "# andrew_pudge\n",
        "def sortByHeight(a):\n",
        "\n",
        "    l = sorted([i for i in a if i > 0])\n",
        "    for n,i in enumerate(a):\n",
        "        if i == -1:\n",
        "            l.insert(n,i)\n",
        "    return l\n",
        "        "
      ],
      "execution_count": 0,
      "outputs": []
    }
  ]
}