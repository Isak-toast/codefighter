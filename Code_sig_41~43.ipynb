{
  "nbformat": 4,
  "nbformat_minor": 0,
  "metadata": {
    "colab": {
      "name": "Code_sig_41~43",
      "provenance": [],
      "collapsed_sections": [],
      "authorship_tag": "ABX9TyOzoXX2mDZvcVCibG+nLIpW",
      "include_colab_link": true
    },
    "kernelspec": {
      "name": "python3",
      "display_name": "Python 3"
    },
    "accelerator": "GPU"
  },
  "cells": [
    {
      "cell_type": "markdown",
      "metadata": {
        "id": "view-in-github",
        "colab_type": "text"
      },
      "source": [
        "<a href=\"https://colab.research.google.com/github/Isak-toast/codefighter/blob/master/Code_sig_41~43.ipynb\" target=\"_parent\"><img src=\"https://colab.research.google.com/assets/colab-badge.svg\" alt=\"Open In Colab\"/></a>"
      ]
    },
    {
      "cell_type": "markdown",
      "metadata": {
        "id": "TajeZK9olwtg",
        "colab_type": "text"
      },
      "source": [
        "#**[41] Let's define digit degree of some positive integer as the number of times we need to replace this number with the sum of its digits until we get to a one digit number.**\n",
        "\n",
        "#**Given an integer, find its digit degree.**"
      ]
    },
    {
      "cell_type": "markdown",
      "metadata": {
        "id": "HuCqQ6fJl4VB",
        "colab_type": "text"
      },
      "source": [
        "Input/Output\n",
        "\n",
        "[execution time limit] 4 seconds (py3)\n",
        "\n",
        "[input] integer n\n",
        "\n",
        "Guaranteed constraints:\n",
        "5 ≤ n ≤ 109.\n",
        "\n",
        "[output] integer"
      ]
    },
    {
      "cell_type": "code",
      "metadata": {
        "id": "EgGGVKITl-nC",
        "colab_type": "code",
        "colab": {}
      },
      "source": [
        "def digitDegree(n):\n",
        "    cnt = 0\n",
        "    while(len(str(n)) is not 1):\n",
        "        cnt+=1\n",
        "        n = sum(int(i) for i in list(str(n)))\n",
        "        \n",
        "        if(len(str(n)) is 1):\n",
        "            return cnt\n",
        "    return 0"
      ],
      "execution_count": 0,
      "outputs": []
    },
    {
      "cell_type": "code",
      "metadata": {
        "id": "NSf34d9pC2Fo",
        "colab_type": "code",
        "outputId": "0f0cc048-6e30-4ed7-9346-49ba2bd4005b",
        "colab": {
          "base_uri": "https://localhost:8080/",
          "height": 35
        }
      },
      "source": [
        "n = 99\n",
        "digitDegree(n)"
      ],
      "execution_count": 0,
      "outputs": [
        {
          "output_type": "execute_result",
          "data": {
            "text/plain": [
              "2"
            ]
          },
          "metadata": {
            "tags": []
          },
          "execution_count": 34
        }
      ]
    },
    {
      "cell_type": "code",
      "metadata": {
        "id": "-Vp-2b2nD1Bs",
        "colab_type": "code",
        "colab": {}
      },
      "source": [
        "# scraphead\n",
        "def digitDegree(n):\n",
        "    \n",
        "    if n < 10:\n",
        "        return 0\n",
        "    sumOfDigits = sum([int(i) for i in str(n)])\n",
        "    \n",
        "    return digitDegree(sumOfDigits) + 1"
      ],
      "execution_count": 0,
      "outputs": []
    },
    {
      "cell_type": "markdown",
      "metadata": {
        "id": "m1p_qEtUYWtW",
        "colab_type": "text"
      },
      "source": [
        "#**[42] Given the positions of a white bishop and a black pawn on the standard chess board, determine whether the bishop can capture the pawn in one move.**\n",
        "\n",
        "#**The bishop has no restrictions in distance for each move, but is limited to diagonal movement. Check out the example below to see how it can move:**"
      ]
    },
    {
      "cell_type": "markdown",
      "metadata": {
        "id": "5alzUfX-YcFi",
        "colab_type": "text"
      },
      "source": [
        "Input/Output\n",
        "\n",
        "[execution time limit] 4 seconds (py3)\n",
        "\n",
        "[input] string bishop\n",
        "\n",
        "Coordinates of the white bishop in the chess notation.\n",
        "\n",
        "Guaranteed constraints:\n",
        "bishop.length = 2,\n",
        "'a' ≤ bishop[0] ≤ 'h',\n",
        "1 ≤ bishop[1] ≤ 8.\n",
        "\n",
        "[input] string pawn\n",
        "\n",
        "Coordinates of the black pawn in the same notation.\n",
        "\n",
        "Guaranteed constraints:\n",
        "pawn.length = 2,\n",
        "'a' ≤ pawn[0] ≤ 'h',\n",
        "1 ≤ pawn[1] ≤ 8.\n",
        "\n",
        "[output] boolean\n",
        "\n",
        "true if the bishop can capture the pawn, false otherwise."
      ]
    },
    {
      "cell_type": "code",
      "metadata": {
        "id": "WlqwKReIYhwR",
        "colab_type": "code",
        "colab": {}
      },
      "source": [
        "def bishopAndPawn(bishop, pawn):\n",
        "\n",
        "    return abs(ord(list(bishop)[0]) - ord(list(pawn)[0])) == abs(ord(list(bishop)[1]) - ord(list(pawn)[1]))\n"
      ],
      "execution_count": 0,
      "outputs": []
    },
    {
      "cell_type": "code",
      "metadata": {
        "id": "sXN6iJZ1aSqL",
        "colab_type": "code",
        "outputId": "11cfb72d-90e2-4be9-ac4b-c2382f736f06",
        "colab": {
          "base_uri": "https://localhost:8080/",
          "height": 34
        }
      },
      "source": [
        "bishop =  \"e3\"\n",
        "pawn = \"a7\"\n",
        "\n",
        "bishopAndPawn(bishop, pawn)"
      ],
      "execution_count": 0,
      "outputs": [
        {
          "output_type": "execute_result",
          "data": {
            "text/plain": [
              "True"
            ]
          },
          "metadata": {
            "tags": []
          },
          "execution_count": 18
        }
      ]
    },
    {
      "cell_type": "code",
      "metadata": {
        "id": "bCo57o87dUpj",
        "colab_type": "code",
        "colab": {}
      },
      "source": [
        "# bandorthild\n",
        "def bishopAndPawn(bishop, pawn):\n",
        "    return abs(ord(bishop[0])-ord(pawn[0]))==abs(int(pawn[1])-int(bishop[1]))\n"
      ],
      "execution_count": 0,
      "outputs": []
    },
    {
      "cell_type": "markdown",
      "metadata": {
        "id": "J9kQJkSzfKo2",
        "colab_type": "text"
      },
      "source": [
        "#**[43] A string is said to be beautiful if each letter in the string appears at most as many times as the previous letter in the alphabet within the string; ie: b occurs no more times than a; c occurs no more times than b; etc.**\n",
        "\n",
        "#**Given a string, check whether it is beautiful.**"
      ]
    },
    {
      "cell_type": "markdown",
      "metadata": {
        "id": "9d-WxAjRfT_u",
        "colab_type": "text"
      },
      "source": [
        "Input/Output\n",
        "\n",
        "[execution time limit] 4 seconds (py3)\n",
        "\n",
        "[input] string inputString\n",
        "\n",
        "A string of lowercase English letters.\n",
        "\n",
        "Guaranteed constraints:\n",
        "3 ≤ inputString.length ≤ 50.\n",
        "\n",
        "[output] boolean\n",
        "\n",
        "Return true if the string is beautiful, false otherwise."
      ]
    },
    {
      "cell_type": "code",
      "metadata": {
        "id": "T8iR8XdVfSmu",
        "colab_type": "code",
        "colab": {}
      },
      "source": [
        "def isBeautifulString(inputString):\n",
        "    pre_cnt = 100\n",
        "    cnt = 0\n",
        "    alpabet = 97\n",
        "    for i in sorted(inputString):\n",
        "        if ord(i) == alpabet:\n",
        "            cnt+=1\n",
        "        elif ord(i) != alpabet:\n",
        "            alpabet += 1\n",
        "            pre_cnt = cnt\n",
        "            if pre_cnt == 0:\n",
        "                return False\n",
        "            cnt = 0\n",
        "            if ord(i) == alpabet:\n",
        "                cnt += 1\n",
        "            else:\n",
        "                return False\n",
        "        if pre_cnt < cnt:\n",
        "            return False\n",
        "    return True"
      ],
      "execution_count": 0,
      "outputs": []
    },
    {
      "cell_type": "code",
      "metadata": {
        "id": "WGQBmW5dmSvO",
        "colab_type": "code",
        "outputId": "1658e748-4982-443a-e438-b7a7d6129b7b",
        "colab": {
          "base_uri": "https://localhost:8080/",
          "height": 35
        }
      },
      "source": [
        "inputString = \"abcdefghijklmnopqrstuvwxyzqwertuiopasdfghjklxcvbnm\"\n",
        "isBeautifulString(inputString)"
      ],
      "execution_count": 0,
      "outputs": [
        {
          "output_type": "execute_result",
          "data": {
            "text/plain": [
              "True"
            ]
          },
          "metadata": {
            "tags": []
          },
          "execution_count": 13
        }
      ]
    },
    {
      "cell_type": "code",
      "metadata": {
        "id": "qjz-b9ymvXQB",
        "colab_type": "code",
        "colab": {}
      },
      "source": [
        "# andrew_pudge\n",
        "def isBeautifulString(inputString):\n",
        "\n",
        "    r = [inputString.count(i) for i in string.ascii_lowercase]\n",
        "    \n",
        "    return r[::-1] == sorted(r)"
      ],
      "execution_count": 0,
      "outputs": []
    }
  ]
}