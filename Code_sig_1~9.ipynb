{
  "nbformat": 4,
  "nbformat_minor": 0,
  "metadata": {
    "colab": {
      "name": "Code_sig_1~9.ipynb",
      "provenance": [],
      "collapsed_sections": [],
      "toc_visible": true,
      "include_colab_link": true
    },
    "kernelspec": {
      "name": "python3",
      "display_name": "Python 3"
    },
    "accelerator": "GPU"
  },
  "cells": [
    {
      "cell_type": "markdown",
      "metadata": {
        "id": "view-in-github",
        "colab_type": "text"
      },
      "source": [
        "<a href=\"https://colab.research.google.com/github/Isak-toast/codefighter/blob/master/Code_sig_1~9.ipynb\" target=\"_parent\"><img src=\"https://colab.research.google.com/assets/colab-badge.svg\" alt=\"Open In Colab\"/></a>"
      ]
    },
    {
      "cell_type": "markdown",
      "metadata": {
        "id": "2tTy-RQ5ekz8",
        "colab_type": "text"
      },
      "source": [
        "#**[1] Write a function that returns the sum of two numbers.**\n",
        "\n"
      ]
    },
    {
      "cell_type": "markdown",
      "metadata": {
        "id": "U7mnpRM6hNpk",
        "colab_type": "text"
      },
      "source": [
        "**Input/Output**\n",
        "\n",
        "[execution time limit] 4 seconds (py3)\n",
        "\n",
        "[input] integer param1 // Guaranteed constraints: -1000 ≤ param1 ≤ 1000.\n",
        "\n",
        "[input] integer param2 // Guaranteed constraints: -1000 ≤ param2 ≤ 1000.\n",
        "\n",
        "[output] integer // The sum of the two inputs."
      ]
    },
    {
      "cell_type": "code",
      "metadata": {
        "id": "E8_iBW-GfSka",
        "colab_type": "code",
        "colab": {}
      },
      "source": [
        "def add(param1, param2):\n",
        "    return param1+param2"
      ],
      "execution_count": 0,
      "outputs": []
    },
    {
      "cell_type": "code",
      "metadata": {
        "id": "cSCiB86kgg4r",
        "colab_type": "code",
        "outputId": "04f089e6-a580-45c4-a92a-efffb4cf8e8f",
        "colab": {
          "base_uri": "https://localhost:8080/",
          "height": 35
        }
      },
      "source": [
        "add(2,1)"
      ],
      "execution_count": 0,
      "outputs": [
        {
          "output_type": "execute_result",
          "data": {
            "text/plain": [
              "3"
            ]
          },
          "metadata": {
            "tags": []
          },
          "execution_count": 2
        }
      ]
    },
    {
      "cell_type": "markdown",
      "metadata": {
        "id": "ABbg9uXhhGAs",
        "colab_type": "text"
      },
      "source": [
        "#**[2] Given a year, return the century it is in. The first century spans from the year 1 up to and including the year 100, the second - from the year 101 up to and including the year 200, etc.**"
      ]
    },
    {
      "cell_type": "markdown",
      "metadata": {
        "id": "LMaP9L2ziHSt",
        "colab_type": "text"
      },
      "source": [
        "**Input/Output**\n",
        "\n",
        "[execution time limit] 4 seconds (py3)\n",
        "\n",
        "[input] integer year // A positive integer, designating the year. //\n",
        "Guaranteed constraints:\n",
        "1 ≤ year ≤ 2005.\n",
        "\n",
        "[output] integer // The number of the century the year is in."
      ]
    },
    {
      "cell_type": "code",
      "metadata": {
        "id": "06Ua_YMshGJH",
        "colab_type": "code",
        "colab": {}
      },
      "source": [
        "import math\n",
        "def centuryFromYear(year):\n",
        "    return math.ceil(year/100)\n",
        "\n"
      ],
      "execution_count": 0,
      "outputs": []
    },
    {
      "cell_type": "code",
      "metadata": {
        "id": "XnrrNRIjicvA",
        "colab_type": "code",
        "outputId": "31fa1402-6d06-46ea-b031-4b2b1b940bd0",
        "colab": {
          "base_uri": "https://localhost:8080/",
          "height": 35
        }
      },
      "source": [
        "year = 1700\n",
        "centuryFromYear(year)"
      ],
      "execution_count": 0,
      "outputs": [
        {
          "output_type": "execute_result",
          "data": {
            "text/plain": [
              "17"
            ]
          },
          "metadata": {
            "tags": []
          },
          "execution_count": 6
        }
      ]
    },
    {
      "cell_type": "markdown",
      "metadata": {
        "id": "KT0CEhxpqzpU",
        "colab_type": "text"
      },
      "source": [
        "#**[3] Given the string, check if it is a palindrome.**"
      ]
    },
    {
      "cell_type": "markdown",
      "metadata": {
        "id": "aK95Fxj8s8RD",
        "colab_type": "text"
      },
      "source": [
        "**Input/Output**\n",
        "\n",
        "[execution time limit] 0.5 seconds (cpp)\n",
        "\n",
        "[input] string inputString // A non-empty string consisting of lowercase characters. Guaranteed constraints:\n",
        "1 ≤ inputString.length ≤ 105.\n",
        "\n",
        "[output] boolean // true if inputString is a palindrome, false otherwise."
      ]
    },
    {
      "cell_type": "code",
      "metadata": {
        "id": "UrMdYx_irf2b",
        "colab_type": "code",
        "colab": {}
      },
      "source": [
        "def checkPalindrome(inputString):\n",
        "    return reverse(inputString) == inputString\n",
        "    \n",
        "def reverse(s):\n",
        "    return s[::-1]\n"
      ],
      "execution_count": 0,
      "outputs": []
    },
    {
      "cell_type": "code",
      "metadata": {
        "id": "wN8daU3JsGvO",
        "colab_type": "code",
        "outputId": "60514471-aca7-4779-a6c2-ccd54d4c6fa7",
        "colab": {
          "base_uri": "https://localhost:8080/",
          "height": 52
        }
      },
      "source": [
        "checkPalindrome(\"aaabbdddkk\")"
      ],
      "execution_count": 0,
      "outputs": [
        {
          "output_type": "stream",
          "text": [
            "aaabbdddkk kkdddbbaaa\n"
          ],
          "name": "stdout"
        },
        {
          "output_type": "execute_result",
          "data": {
            "text/plain": [
              "False"
            ]
          },
          "metadata": {
            "tags": []
          },
          "execution_count": 5
        }
      ]
    },
    {
      "cell_type": "markdown",
      "metadata": {
        "id": "uzXbLzDCuqPx",
        "colab_type": "text"
      },
      "source": [
        "#**[4] Given an array of integers, find the pair of adjacent elements that has the largest product and return that product.**\n"
      ]
    },
    {
      "cell_type": "markdown",
      "metadata": {
        "id": "2iFD_3tIu5I9",
        "colab_type": "text"
      },
      "source": [
        "**Input/Output**\n",
        "\n",
        "[execution time limit] 4 seconds (py3)\n",
        "\n",
        "[input] array.integer inputArray\n",
        "\n",
        "An array of integers containing at least two elements.\n",
        "\n",
        "Guaranteed constraints:\n",
        "2 ≤ inputArray.length ≤ 10,\n",
        "-1000 ≤ inputArray[i] ≤ 1000.\n",
        "\n",
        "[output] integer\n",
        "\n",
        "The largest product of adjacent elements."
      ]
    },
    {
      "cell_type": "code",
      "metadata": {
        "id": "UTLy_qBEsLrX",
        "colab_type": "code",
        "colab": {}
      },
      "source": [
        "def adjacentElementsProduct(inputArray):\n",
        "    \n",
        "    length = len(inputArray) \n",
        "     \n",
        "    sum = []\n",
        "     \n",
        "    for i in range(length-1):\n",
        "        \n",
        "        sum.append(inputArray[i] * inputArray[i+1]) #append all the values of the product into the array\n",
        "        \n",
        "    return max(sum)\n",
        "\n"
      ],
      "execution_count": 0,
      "outputs": []
    },
    {
      "cell_type": "code",
      "metadata": {
        "id": "kf0jUZ8dxJo4",
        "colab_type": "code",
        "colab": {}
      },
      "source": [
        "# salevin code - for 반복을 뒤에서 진행\n",
        "def adjacentElementsProduct(inputArray):\n",
        "    return max([inputArray[i] * inputArray[i+1] for i in range(len(inputArray)-1)])\n"
      ],
      "execution_count": 0,
      "outputs": []
    },
    {
      "cell_type": "code",
      "metadata": {
        "id": "tths2qd9qj6h",
        "colab_type": "code",
        "outputId": "540b206f-b665-4eb6-c913-00d223d692f5",
        "colab": {
          "base_uri": "https://localhost:8080/",
          "height": 34
        }
      },
      "source": [
        "inputArray = [3, 6, -2, -5, 7, 3]\n",
        "adjacentElementsProduct(inputArray)"
      ],
      "execution_count": 0,
      "outputs": [
        {
          "output_type": "execute_result",
          "data": {
            "text/plain": [
              "21"
            ]
          },
          "metadata": {
            "tags": []
          },
          "execution_count": 22
        }
      ]
    },
    {
      "cell_type": "markdown",
      "metadata": {
        "id": "e5RljufMxo9M",
        "colab_type": "text"
      },
      "source": [
        "#**[5] Below we will define an n-interesting polygon. Your task is to find the area of a polygon for a given n.**\n",
        "\n",
        "**A 1-interesting polygon is just a square with a side of length 1. An n-interesting polygon is obtained by taking the n - 1-interesting polygon and appending 1-interesting polygons to its rim, side by side. You can see the 1-, 2-, 3- and 4-interesting polygons in the picture below.**\n",
        "\n"
      ]
    },
    {
      "cell_type": "markdown",
      "metadata": {
        "id": "HvdZVwqN0w29",
        "colab_type": "text"
      },
      "source": [
        "Input/Output\n",
        "\n",
        "[execution time limit] 4 seconds (py3)\n",
        "\n",
        "[input] integer n\n",
        "\n",
        "Guaranteed constraints:\n",
        "1 ≤ n < 104.\n",
        "\n",
        "[output] integer\n",
        "\n",
        "The area of the n-interesting polygon."
      ]
    },
    {
      "cell_type": "code",
      "metadata": {
        "id": "bxv2rSJixpsc",
        "colab_type": "code",
        "colab": {}
      },
      "source": [
        "def shapeArea(n):\n",
        "  ad = 4\n",
        "  area = 1\n",
        "  for i in range(2,n+1): # 등차수열 (arithmetic sequence)\n",
        "    area += ad\n",
        "    ad += 4\n",
        "\n",
        "  return area "
      ],
      "execution_count": 0,
      "outputs": []
    },
    {
      "cell_type": "code",
      "metadata": {
        "id": "OX2FZukIwTpa",
        "colab_type": "code",
        "outputId": "96e1daf4-7770-43fe-8fbc-82b2ef3a1d9a",
        "colab": {
          "base_uri": "https://localhost:8080/",
          "height": 34
        }
      },
      "source": [
        "shapeArea(1)"
      ],
      "execution_count": 0,
      "outputs": [
        {
          "output_type": "execute_result",
          "data": {
            "text/plain": [
              "1"
            ]
          },
          "metadata": {
            "tags": []
          },
          "execution_count": 5
        }
      ]
    },
    {
      "cell_type": "code",
      "metadata": {
        "id": "mClSNEw63P9T",
        "colab_type": "code",
        "colab": {}
      },
      "source": [
        "# dean_s7 ref\n",
        "def shapeArea(n):\n",
        "    return n**2 + (n-1)**2 # 제곱 (exponentiation)\n",
        "\n"
      ],
      "execution_count": 0,
      "outputs": []
    },
    {
      "cell_type": "markdown",
      "metadata": {
        "id": "7QG5V1Hb446O",
        "colab_type": "text"
      },
      "source": [
        "#**[6] Ratiorg got statues of different sizes as a present from CodeMaster for his birthday, each statue having an non-negative integer size. Since he likes to make things perfect, he wants to arrange them from smallest to largest so that each statue will be bigger than the previous one exactly by 1. He may need some additional statues to be able to accomplish that. Help him figure out the minimum number of additional statues needed.**"
      ]
    },
    {
      "cell_type": "markdown",
      "metadata": {
        "id": "9o9Tignt5L2y",
        "colab_type": "text"
      },
      "source": [
        "Input/Output\n",
        "\n",
        "[execution time limit] 4 seconds (py3)\n",
        "\n",
        "[input] array.integer statues\n",
        "\n",
        "An array of distinct non-negative integers.\n",
        "\n",
        "Guaranteed constraints:\n",
        "1 ≤ statues.length ≤ 10,\n",
        "0 ≤ statues[i] ≤ 20.\n",
        "\n",
        "[output] integer\n",
        "\n",
        "The minimal number of statues that need to be added to existing statues such that it contains every integer size from an interval [L, R] (for some L, R) and no other sizes."
      ]
    },
    {
      "cell_type": "code",
      "metadata": {
        "id": "gJKLKcHx5M2x",
        "colab_type": "code",
        "colab": {}
      },
      "source": [
        "def makeArrayConsecutive2(statues):\n",
        "    statues = sorted(statues) # statues.sort() -> Nonetype / sorted(statues) -> 그대로 list\n",
        "\n",
        "    cnt = 0\n",
        "    #print(type(statues))\n",
        "    min_list = statues[0]     # 첫번째 원소\n",
        "    max_list = statues[-1]    # 마지막 원소\n",
        "    #print(min_list, max_list)\n",
        "    for i in range(min_list, max_list+1):\n",
        "      if i not in statues:\n",
        "        cnt += 1\n",
        "    return cnt"
      ],
      "execution_count": 0,
      "outputs": []
    },
    {
      "cell_type": "code",
      "metadata": {
        "id": "ASZq4_2T5Npp",
        "colab_type": "code",
        "outputId": "842ab39b-7ce4-4d10-bf5a-c6a7cfaa9200",
        "colab": {
          "base_uri": "https://localhost:8080/",
          "height": 34
        }
      },
      "source": [
        "statues = [6, 2, 3, 8]\n",
        "makeArrayConsecutive2(statues)"
      ],
      "execution_count": 0,
      "outputs": [
        {
          "output_type": "execute_result",
          "data": {
            "text/plain": [
              "3"
            ]
          },
          "metadata": {
            "tags": []
          },
          "execution_count": 21
        }
      ]
    },
    {
      "cell_type": "code",
      "metadata": {
        "id": "1Gs8ibXPedt9",
        "colab_type": "code",
        "colab": {}
      },
      "source": [
        "# k_abydos ref\n",
        "def makeArrayConsecutive2(statues):\n",
        "    return max(statues) - min(statues) - len(statues) + 1\n"
      ],
      "execution_count": 0,
      "outputs": []
    },
    {
      "cell_type": "markdown",
      "metadata": {
        "id": "tVIkoxjlApnH",
        "colab_type": "text"
      },
      "source": [
        "#[7] Given a sequence of integers as an array, determine whether it is possible to obtain a strictly increasing sequence by removing no more than one element from the array.\n",
        "\n",
        "**Note: sequence a0, a1, ..., an is considered to be a strictly increasing if a0 < a1 < ... < an. Sequence containing only one element is also considered to be strictly increasing.**"
      ]
    },
    {
      "cell_type": "markdown",
      "metadata": {
        "id": "NDUpTJKSA7e9",
        "colab_type": "text"
      },
      "source": [
        "Input/Output\n",
        "\n",
        "[execution time limit] 4 seconds (py3)\n",
        "\n",
        "[input] array.integer sequence\n",
        "\n",
        "Guaranteed constraints:\n",
        "2 ≤ sequence.length ≤ 105,\n",
        "-105 ≤ sequence[i] ≤ 105.\n",
        "\n",
        "[output] boolean\n",
        "\n",
        "Return true if it is possible to remove one element from the array in order to get a strictly increasing sequence, otherwise return false."
      ]
    },
    {
      "cell_type": "code",
      "metadata": {
        "id": "kBsQLWY0EFKI",
        "colab_type": "code",
        "colab": {}
      },
      "source": [
        "# ref\n",
        "def first_bad_pair(sequence):\n",
        "    \"\"\"Return the first index of a pair of elements where the earlier\n",
        "    element is not less than the later elements. If no such pair\n",
        "    exists, return -1.\"\"\"\n",
        "    for i in range(len(sequence)-1):\n",
        "        if sequence[i] >= sequence[i+1]:\n",
        "            return i\n",
        "    return -1\n",
        "\n",
        "def almostIncreasingSequence(sequence):\n",
        "    \"\"\"Return whether it is possible to obtain a strictly increasing\n",
        "    sequence by removing no more than one element from the array.\"\"\"\n",
        "    j = first_bad_pair(sequence)\n",
        "    if j == -1:\n",
        "        return True  # List is increasing\n",
        "    if first_bad_pair(sequence[j-1:j] + sequence[j+1:]) == -1:\n",
        "        return True  # Deleting earlier element makes increasing\n",
        "    if first_bad_pair(sequence[j:j+1] + sequence[j+2:]) == -1:\n",
        "        return True  # Deleting later element makes increasing\n",
        "    return False  # Deleting either does not make increasing"
      ],
      "execution_count": 0,
      "outputs": []
    },
    {
      "cell_type": "code",
      "metadata": {
        "id": "upaVVXLl2BRc",
        "colab_type": "code",
        "outputId": "4ea3c434-86df-4f18-c3d1-6d5eb2025d65",
        "colab": {
          "base_uri": "https://localhost:8080/",
          "height": 34
        }
      },
      "source": [
        "sequence = [1, 3, 2, 1]\n",
        "almostIncreasingSequence(sequence)"
      ],
      "execution_count": 0,
      "outputs": [
        {
          "output_type": "execute_result",
          "data": {
            "text/plain": [
              "False"
            ]
          },
          "metadata": {
            "tags": []
          },
          "execution_count": 18
        }
      ]
    },
    {
      "cell_type": "markdown",
      "metadata": {
        "id": "XOycvBPUNoAo",
        "colab_type": "text"
      },
      "source": [
        "#**[8] After becoming famous, the CodeBots decided to move into a new building together. Each of the rooms has a different cost, and some of them are free, but there's a rumour that all the free rooms are haunted! Since the CodeBots are quite superstitious, they refuse to stay in any of the free rooms, or any of the rooms below any of the free rooms.**\n",
        "\n",
        "**Given matrix, a rectangular matrix of integers, where each value represents the cost of the room, your task is to return the total sum of all rooms that are suitable for the CodeBots (ie: add up all the values that don't appear below a 0).** "
      ]
    },
    {
      "cell_type": "markdown",
      "metadata": {
        "id": "DkoRLzswVe8N",
        "colab_type": "text"
      },
      "source": [
        "Input/Output\n",
        "\n",
        "[execution time limit] 4 seconds (py3)\n",
        "\n",
        "[input] array.array.integer matrix\n",
        "\n",
        "A 2-dimensional array of integers representing the cost of each room in the building. A value of 0 indicates that the room is haunted.\n",
        "\n",
        "Guaranteed constraints:\n",
        "1 ≤ matrix.length ≤ 5,\n",
        "1 ≤ matrix[i].length ≤ 5,\n",
        "0 ≤ matrix[i][j] ≤ 10.\n",
        "\n",
        "[output] integer\n",
        "\n",
        "The total price of all the rooms that are suitable for the CodeBots to live in."
      ]
    },
    {
      "cell_type": "code",
      "metadata": {
        "id": "oak3txQ8Wwje",
        "colab_type": "code",
        "colab": {}
      },
      "source": [
        "def matrixElementsSum(matrix):\n",
        "    total = 0\n",
        "    for i in range(len(matrix)): #행\n",
        "        for j in range(len(matrix[0])): #열\n",
        "            if matrix[i][j] == 0:\n",
        "                for k in range(i,len(matrix)):\n",
        "                    matrix[k][j] = 0 # 0부터 뒤는 0으로 원소 변경\n",
        "\n",
        "    for i in range(len(matrix)): #행\n",
        "        for j in range(len(matrix[0])): #열\n",
        "            total += matrix[i][j]\n",
        "\n",
        "    return total\n",
        "\n"
      ],
      "execution_count": 0,
      "outputs": []
    },
    {
      "cell_type": "code",
      "metadata": {
        "id": "G5iQRBrXdUiQ",
        "colab_type": "code",
        "outputId": "af2f1a07-f8b6-4c5d-c472-fa1bbd215e90",
        "colab": {
          "base_uri": "https://localhost:8080/",
          "height": 34
        }
      },
      "source": [
        "matrix =[[0,1,1,2], [0,5,0,0], [2,0,3,3]]\n",
        "\n",
        "matrixElementsSum(matrix)"
      ],
      "execution_count": 0,
      "outputs": [
        {
          "output_type": "execute_result",
          "data": {
            "text/plain": [
              "9"
            ]
          },
          "metadata": {
            "tags": []
          },
          "execution_count": 28
        }
      ]
    },
    {
      "cell_type": "code",
      "metadata": {
        "id": "R2VVl8S8etIB",
        "colab_type": "code",
        "colab": {}
      },
      "source": [
        "# keeping_it_leal\n",
        "def matrixElementsSum(m):\n",
        "    r = len(m)\n",
        "    c = len(m[0])\n",
        "    total=0\n",
        "    for j in range(c):\n",
        "        for i in range(r):\n",
        "            if m[i][j]!=0:\n",
        "                total+=m[i][j]\n",
        "            else:\n",
        "                break # 0이 나온 뒤에는 break가 걸려서 넘어감\n",
        "    return total"
      ],
      "execution_count": 0,
      "outputs": []
    },
    {
      "cell_type": "markdown",
      "metadata": {
        "id": "Z_A8nMboR8_X",
        "colab_type": "text"
      },
      "source": [
        "#**[9] Given an array of strings, return another array containing all of its longest strings.**"
      ]
    },
    {
      "cell_type": "markdown",
      "metadata": {
        "id": "lVPb0QIDSB-p",
        "colab_type": "text"
      },
      "source": [
        "Input/Output\n",
        "\n",
        "[execution time limit] 4 seconds (py3)\n",
        "\n",
        "[input] array.string inputArray\n",
        "\n",
        "A non-empty array.\n",
        "\n",
        "Guaranteed constraints:\n",
        "1 ≤ inputArray.length ≤ 10,\n",
        "1 ≤ inputArray[i].length ≤ 10.\n",
        "\n",
        "[output] array.string\n",
        "\n",
        "Array of the longest strings, stored in the same order as in the inputArray."
      ]
    },
    {
      "cell_type": "code",
      "metadata": {
        "id": "TrktrLG2SEfo",
        "colab_type": "code",
        "colab": {}
      },
      "source": [
        "def allLongestStrings(inputArray):\n",
        "    list = []\n",
        "    len_max = 0\n",
        "    for idx, val in enumerate(inputArray):\n",
        "        if(len(inputArray[idx])>len_max):\n",
        "            len_max = len(inputArray[idx])\n",
        "\n",
        "    for i in inputArray:\n",
        "        if(len(i)==len_max):\n",
        "            list.append(i)\n",
        "        \n",
        "    return list\n",
        "\n"
      ],
      "execution_count": 0,
      "outputs": []
    },
    {
      "cell_type": "code",
      "metadata": {
        "id": "9iY3YCoGZN0m",
        "colab_type": "code",
        "colab": {
          "base_uri": "https://localhost:8080/",
          "height": 34
        },
        "outputId": "3b757e7b-2980-4e7f-9238-6355ba3d97bf"
      },
      "source": [
        "inputArray = [\"aba\", \n",
        "               \"aa\", \n",
        "               \"ad\", \n",
        "               \"vcd\", \n",
        "               \"aba\"]\n",
        "\n",
        "allLongestStrings(inputArray)"
      ],
      "execution_count": 15,
      "outputs": [
        {
          "output_type": "execute_result",
          "data": {
            "text/plain": [
              "['aba', 'vcd', 'aba']"
            ]
          },
          "metadata": {
            "tags": []
          },
          "execution_count": 15
        }
      ]
    },
    {
      "cell_type": "code",
      "metadata": {
        "id": "PGSzCNePZl6Z",
        "colab_type": "code",
        "colab": {}
      },
      "source": [
        "# rosmuseing\n",
        "def allLongestStrings(inputArray):\n",
        "    m = max(len(i) for i in inputArray)\n",
        "    r = [i for i in inputArray if len(i) == m]\n",
        "    return r"
      ],
      "execution_count": 0,
      "outputs": []
    }
  ]
}