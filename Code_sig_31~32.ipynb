{
  "nbformat": 4,
  "nbformat_minor": 0,
  "metadata": {
    "colab": {
      "name": "Code_sig_31~32",
      "provenance": [],
      "collapsed_sections": [],
      "authorship_tag": "ABX9TyOsVIH3iRy2MfF5CQjYEUgd",
      "include_colab_link": true
    },
    "kernelspec": {
      "name": "python3",
      "display_name": "Python 3"
    }
  },
  "cells": [
    {
      "cell_type": "markdown",
      "metadata": {
        "id": "view-in-github",
        "colab_type": "text"
      },
      "source": [
        "<a href=\"https://colab.research.google.com/github/Isak-toast/codefighter/blob/master/Code_sig_31~32.ipynb\" target=\"_parent\"><img src=\"https://colab.research.google.com/assets/colab-badge.svg\" alt=\"Open In Colab\"/></a>"
      ]
    },
    {
      "cell_type": "markdown",
      "metadata": {
        "id": "HIQr033oadNM",
        "colab_type": "text"
      },
      "source": [
        "#**[31] You have deposited a specific amount of money into your bank account. Each year your balance increases at the same growth rate. With the assumption that you don't make any additional deposits, find out how long it would take for your balance to pass a specific threshold.**"
      ]
    },
    {
      "cell_type": "markdown",
      "metadata": {
        "id": "wErUSg21aozY",
        "colab_type": "text"
      },
      "source": [
        "Input/Output\n",
        "\n",
        "[execution time limit] 4 seconds (py3)\n",
        "\n",
        "[input] integer deposit\n",
        "\n",
        "The initial deposit, guaranteed to be a positive integer.\n",
        "\n",
        "Guaranteed constraints:\n",
        "1 ≤ deposit ≤ 100.\n",
        "\n",
        "[input] integer rate\n",
        "\n",
        "The rate of increase. Each year the balance increases by the rate percent of the current sum.\n",
        "\n",
        "Guaranteed constraints:\n",
        "1 ≤ rate ≤ 100.\n",
        "\n",
        "[input] integer threshold\n",
        "\n",
        "The target balance.\n",
        "\n",
        "Guaranteed constraints:\n",
        "deposit < threshold ≤ 200.\n",
        "\n",
        "[output] integer\n",
        "\n",
        "The number of years it would take to hit the threshold."
      ]
    },
    {
      "cell_type": "code",
      "metadata": {
        "id": "Mn9TUA1raoBq",
        "colab_type": "code",
        "colab": {}
      },
      "source": [
        "def depositProfit(deposit, rate, threshold):\n",
        "    year = 0\n",
        "    \n",
        "    while(True):\n",
        "        if(deposit >= threshold):\n",
        "            break\n",
        "        deposit = deposit * (1 + (rate / 100))\n",
        "        year += 1\n",
        "    \n",
        "    return year"
      ],
      "execution_count": 0,
      "outputs": []
    },
    {
      "cell_type": "code",
      "metadata": {
        "id": "zLLB9MSMchat",
        "colab_type": "code",
        "colab": {}
      },
      "source": [
        "deposit = 100\n",
        "rate = 1\n",
        "threshold = 101\n",
        "#depositProfit(deposit, rate, threshold)\n"
      ],
      "execution_count": 0,
      "outputs": []
    },
    {
      "cell_type": "code",
      "metadata": {
        "id": "9e_9BZnJclK6",
        "colab_type": "code",
        "colab": {}
      },
      "source": [
        "# andrew_pudge\n",
        "def depositProfit(deposit, rate, threshold):\n",
        "\n",
        "    return math.ceil(math.log(threshold/deposit, 1+rate/100))"
      ],
      "execution_count": 0,
      "outputs": []
    },
    {
      "cell_type": "markdown",
      "metadata": {
        "id": "9yYwnvA73A9n",
        "colab_type": "text"
      },
      "source": [
        "#**[32] Given a sorted array of integers a, your task is to determine which element of a is closest to all other values of a. In other words, find the element x in a, which minimizes the following sum:**\n",
        "\n",
        "#**abs(a[0] - x) + abs(a[1] - x) + ... + abs(a[a.length - 1] - x)**\n",
        "**(where abs denotes the absolute value)**\n",
        "\n",
        "#**If there are several possible answers, output the smallest one.**"
      ]
    },
    {
      "cell_type": "markdown",
      "metadata": {
        "id": "SvvImDmh3EMu",
        "colab_type": "text"
      },
      "source": [
        "Input/Output\n",
        "\n",
        "[execution time limit] 4 seconds (py3)\n",
        "\n",
        "[input] array.integer a\n",
        "\n",
        "A non-empty array of integers, sorted in ascending order.\n",
        "\n",
        "Guaranteed constraints:\n",
        "1 ≤ a.length ≤ 1000,\n",
        "-106 ≤ a[i] ≤ 106.\n",
        "\n",
        "[output] integer\n",
        "\n",
        "An integer representing the element from a that minimizes the sum of its absolute differences with all other elements."
      ]
    },
    {
      "cell_type": "code",
      "metadata": {
        "id": "NUYuX-2R3itQ",
        "colab_type": "code",
        "colab": {}
      },
      "source": [
        "def absoluteValuesSumMinimization(a):\n",
        "    abs_list = []\n",
        "    tot_list = []\n",
        "    \n",
        "    for x in a:\n",
        "        for y in a:\n",
        "            abs_list.append(abs(y-x))\n",
        "        tot_list.append(sum(abs_list))\n",
        "        abs_list = []\n",
        "\n",
        "    return a[tot_list.index(min(tot_list))]\n",
        "\n"
      ],
      "execution_count": 0,
      "outputs": []
    },
    {
      "cell_type": "code",
      "metadata": {
        "id": "qjXPjlkq5BNi",
        "colab_type": "code",
        "colab": {
          "base_uri": "https://localhost:8080/",
          "height": 35
        },
        "outputId": "941eb9b7-fb75-413c-bdf1-1e68dd2a79f2"
      },
      "source": [
        "a = [-10, -10, -10, -10, -10, -9, -9, -9, -8, -8, -7, -6, -5, -4, -3, -2, -1, 0, 0, 0, 0, 1, 2, 3, 4, 5, 6, 7, 8, 9, 10, 11, 12, 13, 14, 15, 16, 17, 18, 19, 20, 21, 22, 23, 24, 25, 26, 27, 28, 29, 30, 31, 32, 33, 34, 35, 36, 37, 38, 39, 40, 41, 42, 43, 44, 45, 46, 47, 48, 49, 50]\n",
        "absoluteValuesSumMinimization(a)\n"
      ],
      "execution_count": 29,
      "outputs": [
        {
          "output_type": "execute_result",
          "data": {
            "text/plain": [
              "71"
            ]
          },
          "metadata": {
            "tags": []
          },
          "execution_count": 29
        }
      ]
    },
    {
      "cell_type": "code",
      "metadata": {
        "id": "VE5zbK7T8SiX",
        "colab_type": "code",
        "colab": {}
      },
      "source": [
        "# andrew_pudge\n",
        "def absoluteValuesSumMinimization(A):\n",
        "    return A[(len(A)-1)//2]\n"
      ],
      "execution_count": 0,
      "outputs": []
    }
  ]
}