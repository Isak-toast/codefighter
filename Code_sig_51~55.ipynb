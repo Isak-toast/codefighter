{
  "nbformat": 4,
  "nbformat_minor": 0,
  "metadata": {
    "colab": {
      "name": "Code_sig_51~55",
      "provenance": [],
      "collapsed_sections": [],
      "authorship_tag": "ABX9TyO2o0nVtNhSfzcyfuw8+LZ8",
      "include_colab_link": true
    },
    "kernelspec": {
      "name": "python3",
      "display_name": "Python 3"
    },
    "accelerator": "GPU"
  },
  "cells": [
    {
      "cell_type": "markdown",
      "metadata": {
        "id": "view-in-github",
        "colab_type": "text"
      },
      "source": [
        "<a href=\"https://colab.research.google.com/github/Isak-toast/codefighter/blob/master/Code_sig_51~55.ipynb\" target=\"_parent\"><img src=\"https://colab.research.google.com/assets/colab-badge.svg\" alt=\"Open In Colab\"/></a>"
      ]
    },
    {
      "cell_type": "markdown",
      "metadata": {
        "id": "TICLwKqpdIFf",
        "colab_type": "text"
      },
      "source": [
        "#**[51] Given some integer, find the maximal number you can obtain by deleting exactly one digit of the given number.**"
      ]
    },
    {
      "cell_type": "markdown",
      "metadata": {
        "id": "P-D02mOQdQD5",
        "colab_type": "text"
      },
      "source": [
        "Input/Output\n",
        "\n",
        "[execution time limit] 4 seconds (py3)\n",
        "\n",
        "[input] integer n\n",
        "\n",
        "Guaranteed constraints:\n",
        "10 ≤ n ≤ 106.\n",
        "\n",
        "[output] integer"
      ]
    },
    {
      "cell_type": "code",
      "metadata": {
        "id": "wAa0VK9ydSeR",
        "colab_type": "code",
        "colab": {}
      },
      "source": [
        "def deleteDigit(n):\n",
        "    sn = list(set(str(n)))\n",
        "    s = []\n",
        "    \n",
        "    for i in sn:\n",
        "        ln = list(str(n))    \n",
        "        ln.remove(i)\n",
        "        s.append(int(\"\".join([str(j) for j in ln])))\n",
        "\n",
        "    return max(s)\n"
      ],
      "execution_count": 0,
      "outputs": []
    },
    {
      "cell_type": "code",
      "metadata": {
        "id": "RMW3kX2KdjQn",
        "colab_type": "code",
        "outputId": "5f30582c-dd95-4e5f-f4ad-4bd6f280a2d6",
        "colab": {
          "base_uri": "https://localhost:8080/",
          "height": 35
        }
      },
      "source": [
        "n = 222250\n",
        "deleteDigit(n)"
      ],
      "execution_count": 0,
      "outputs": [
        {
          "output_type": "execute_result",
          "data": {
            "text/plain": [
              "22250"
            ]
          },
          "metadata": {
            "tags": []
          },
          "execution_count": 29
        }
      ]
    },
    {
      "cell_type": "code",
      "metadata": {
        "id": "f0hp9U6liE67",
        "colab_type": "code",
        "colab": {}
      },
      "source": [
        "# lucky-seven\n",
        "def deleteDigit(n):\n",
        "    n = str(n)\n",
        "    return max(int(''.join(n[:i]+n[i+1:])) for i in range(len(n)))"
      ],
      "execution_count": 0,
      "outputs": []
    },
    {
      "cell_type": "markdown",
      "metadata": {
        "id": "Hd6PI8NBgYYp",
        "colab_type": "text"
      },
      "source": [
        "#**[52] Define a word as a sequence of consecutive English letters. Find the longest word from the given string.**"
      ]
    },
    {
      "cell_type": "markdown",
      "metadata": {
        "id": "EfZDDLmahbh3",
        "colab_type": "text"
      },
      "source": [
        "Input/Output\n",
        "\n",
        "[execution time limit] 4 seconds (py3)\n",
        "\n",
        "[input] string text\n",
        "\n",
        "Guaranteed constraints:\n",
        "4 ≤ text.length ≤ 50.\n",
        "\n",
        "[output] string\n",
        "\n",
        "The longest word from text. It's guaranteed that there is a unique output."
      ]
    },
    {
      "cell_type": "code",
      "metadata": {
        "id": "YIs615oJM0lm",
        "colab_type": "code",
        "colab": {}
      },
      "source": [
        "# incorrect\n",
        "def longestWord(text):\n",
        "    t = re.split('[, ]', text)\n",
        "    ts = [re.sub(r\"[![]\",\"\",i) for i in t]\n",
        "    tm = max(len(i) for i in ts)\n",
        "\n",
        "    for i in ts:\n",
        "        if len(i) == tm:\n",
        "            return i\n"
      ],
      "execution_count": 0,
      "outputs": []
    },
    {
      "cell_type": "code",
      "metadata": {
        "id": "WZjERYlnNdal",
        "colab_type": "code",
        "outputId": "4d30bc28-5fd6-4239-ba7d-8c8b51f25007",
        "colab": {
          "base_uri": "https://localhost:8080/",
          "height": 35
        }
      },
      "source": [
        "text = \"To be or not to be\"\n",
        "longestWord(text)\n"
      ],
      "execution_count": 0,
      "outputs": [
        {
          "output_type": "execute_result",
          "data": {
            "text/plain": [
              "'not'"
            ]
          },
          "metadata": {
            "tags": []
          },
          "execution_count": 42
        }
      ]
    },
    {
      "cell_type": "code",
      "metadata": {
        "id": "SivQlTu7RXYm",
        "colab_type": "code",
        "colab": {}
      },
      "source": [
        "# dnl-blkv\n",
        "def longestWord(text):\n",
        "    return max(re.split('[^a-zA-Z]', text), key=len)\n"
      ],
      "execution_count": 0,
      "outputs": []
    },
    {
      "cell_type": "markdown",
      "metadata": {
        "id": "str0XQp_xDLu",
        "colab_type": "text"
      },
      "source": [
        "#**[53] Check if the given string is a correct time representation of the 24-hour clock.**\n",
        "\n"
      ]
    },
    {
      "cell_type": "markdown",
      "metadata": {
        "id": "w05__P1wxG4N",
        "colab_type": "text"
      },
      "source": [
        "Input/Output\n",
        "\n",
        "[execution time limit] 4 seconds (py3)\n",
        "\n",
        "[input] string time\n",
        "\n",
        "A string representing time in HH:MM format. It is guaranteed that the first two characters, as well as the last two characters, are digits.\n",
        "\n",
        "[output] boolean\n",
        "\n",
        "true if the given representation is correct, false otherwise."
      ]
    },
    {
      "cell_type": "code",
      "metadata": {
        "id": "EUmGcovjxKD_",
        "colab_type": "code",
        "colab": {}
      },
      "source": [
        "def validTime(time):\n",
        "    ts = time.split(':')\n",
        "    return 0 <= int(ts[0]) and 23 >= int(ts[0]) and 0 <= int(ts[1]) and 59 >= int(ts[1])\n"
      ],
      "execution_count": 0,
      "outputs": []
    },
    {
      "cell_type": "code",
      "metadata": {
        "id": "OYyLzrxkZi7I",
        "colab_type": "code",
        "outputId": "303a873b-7363-4208-9fed-4e0b399b7875",
        "colab": {
          "base_uri": "https://localhost:8080/",
          "height": 35
        }
      },
      "source": [
        "time = \"13:58\"\n",
        "validTime(time)"
      ],
      "execution_count": 0,
      "outputs": [
        {
          "output_type": "execute_result",
          "data": {
            "text/plain": [
              "True"
            ]
          },
          "metadata": {
            "tags": []
          },
          "execution_count": 10
        }
      ]
    },
    {
      "cell_type": "code",
      "metadata": {
        "id": "UJPV49H3y1TZ",
        "colab_type": "code",
        "colab": {}
      },
      "source": [
        "def validTime(time):\n",
        "    h,m=map(int,time.split(\":\"))\n",
        "    return 0<=h<24 and 0<=m<60"
      ],
      "execution_count": 0,
      "outputs": []
    },
    {
      "cell_type": "markdown",
      "metadata": {
        "id": "WFkUSsoFaELt",
        "colab_type": "text"
      },
      "source": [
        "#**[54] CodeMaster has just returned from shopping. He scanned the check of the items he bought and gave the resulting string to Ratiorg to figure out the total number of purchased items. Since Ratiorg is a bot he is definitely going to automate it, so he needs a program that sums up all the numbers which appear in the given input.**\n",
        "\n",
        "#**Help Ratiorg by writing a function that returns the sum of numbers that appear in the given inputString.**"
      ]
    },
    {
      "cell_type": "markdown",
      "metadata": {
        "id": "IuJvVIMSaKlr",
        "colab_type": "text"
      },
      "source": [
        "Input/Output\n",
        "\n",
        "[execution time limit] 4 seconds (py3)\n",
        "\n",
        "[input] string inputString\n",
        "\n",
        "Guaranteed constraints:\n",
        "0 ≤ inputString.length ≤ 105.\n",
        "\n",
        "[output] integer"
      ]
    },
    {
      "cell_type": "code",
      "metadata": {
        "id": "_NW-FhvjaOp-",
        "colab_type": "code",
        "colab": {}
      },
      "source": [
        "def sumUpNumbers(inputString):\n",
        "    return sum(map(int,re.findall(r\"\\d+\", inputString)))    \n"
      ],
      "execution_count": 0,
      "outputs": []
    },
    {
      "cell_type": "code",
      "metadata": {
        "id": "xvQRBjL3aNkK",
        "colab_type": "code",
        "outputId": "3181fa69-20fb-48e0-beec-0102e8f13b84",
        "colab": {
          "base_uri": "https://localhost:8080/",
          "height": 35
        }
      },
      "source": [
        "inputString = \"2 apples, 12 oranges\"\n",
        "sumUpNumbers(inputString)"
      ],
      "execution_count": 0,
      "outputs": [
        {
          "output_type": "execute_result",
          "data": {
            "text/plain": [
              "14"
            ]
          },
          "metadata": {
            "tags": []
          },
          "execution_count": 21
        }
      ]
    },
    {
      "cell_type": "code",
      "metadata": {
        "id": "X1AO6C_BbvJ7",
        "colab_type": "code",
        "colab": {}
      },
      "source": [
        "# bandorthild\n",
        "def sumUpNumbers(s):\n",
        "    return sum(map(int,\"\".join([i if i.isdigit() else \" \" for i in s]).split()))"
      ],
      "execution_count": 0,
      "outputs": []
    },
    {
      "cell_type": "markdown",
      "metadata": {
        "id": "ezyFpfInXMpg",
        "colab_type": "text"
      },
      "source": [
        "#**[55] Given a rectangular matrix containing only digits, calculate the number of different 2 × 2 squares in it.**"
      ]
    },
    {
      "cell_type": "markdown",
      "metadata": {
        "id": "wAhNwVYyXrmB",
        "colab_type": "text"
      },
      "source": [
        "Input/Output\n",
        "\n",
        "[execution time limit] 4 seconds (py3)\n",
        "\n",
        "[input] array.array.integer matrix\n",
        "\n",
        "Guaranteed constraints:\n",
        "1 ≤ matrix.length ≤ 100,\n",
        "1 ≤ matrix[i].length ≤ 100,\n",
        "0 ≤ matrix[i][j] ≤ 9.\n",
        "\n",
        "[output] integer\n",
        "\n",
        "The number of different 2 × 2 squares in matrix."
      ]
    },
    {
      "cell_type": "code",
      "metadata": {
        "id": "2mbkhMfvXqbB",
        "colab_type": "code",
        "colab": {}
      },
      "source": [
        "import numpy \n",
        "def differentSquares(matrix):\n",
        "    # array 변환을 해야 matrix를 추출 가능\n",
        "    m = numpy.array(matrix)\n",
        "    marr = []\n",
        "\n",
        "    # matrix 추출\n",
        "    for i in range(len(m)-1):\n",
        "        for j in range(len(m[0])-1):\n",
        "            marr.append(m[i:i+2, j:j+2])\n",
        "\n",
        "    # set하기 위한 tuple 변환\n",
        "    mx = [tuple(i.flatten()) for i in marr]\n",
        "\n",
        "    return len(set(mx)) # 중복 matrix 생략\n"
      ],
      "execution_count": 0,
      "outputs": []
    },
    {
      "cell_type": "code",
      "metadata": {
        "id": "9JXOHCUbZzYO",
        "colab_type": "code",
        "colab": {
          "base_uri": "https://localhost:8080/",
          "height": 35
        },
        "outputId": "2c2a0d86-c96d-4800-8bed-f00e395ba608"
      },
      "source": [
        "matrix = [[1,2,1], [2,2,2], [2,2,2], [1,2,3], [2,2,1]]\n",
        "differentSquares(matrix)"
      ],
      "execution_count": 90,
      "outputs": [
        {
          "output_type": "execute_result",
          "data": {
            "text/plain": [
              "6"
            ]
          },
          "metadata": {
            "tags": []
          },
          "execution_count": 90
        }
      ]
    },
    {
      "cell_type": "code",
      "metadata": {
        "id": "RmfFefr9jW99",
        "colab_type": "code",
        "colab": {}
      },
      "source": [
        "# bandorthild\n",
        "def differentSquares(matrix):\n",
        "    s = set()\n",
        "    for i in range(len(matrix) - 1):\n",
        "        for j in range(len(matrix[i]) - 1):\n",
        "                s.add((matrix[i][j], matrix[i][j+1], matrix[i+1][j], matrix[i+1][j+1]))\n",
        "    return len(s)"
      ],
      "execution_count": 0,
      "outputs": []
    }
  ]
}