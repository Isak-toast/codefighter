{
  "nbformat": 4,
  "nbformat_minor": 0,
  "metadata": {
    "colab": {
      "name": "Code_sig_11~14.ipynb",
      "provenance": [],
      "collapsed_sections": [],
      "include_colab_link": true
    },
    "kernelspec": {
      "name": "python3",
      "display_name": "Python 3"
    },
    "accelerator": "GPU"
  },
  "cells": [
    {
      "cell_type": "markdown",
      "metadata": {
        "id": "view-in-github",
        "colab_type": "text"
      },
      "source": [
        "<a href=\"https://colab.research.google.com/github/Isak-toast/codefighter/blob/master/Code_sig_11~14.ipynb\" target=\"_parent\"><img src=\"https://colab.research.google.com/assets/colab-badge.svg\" alt=\"Open In Colab\"/></a>"
      ]
    },
    {
      "cell_type": "markdown",
      "metadata": {
        "id": "9qhOD4FqtzxG",
        "colab_type": "text"
      },
      "source": [
        "#**[11] Ticket numbers usually consist of an even number of digits. A ticket number is considered lucky if the sum of the first half of the digits is equal to the sum of the second half.**"
      ]
    },
    {
      "cell_type": "markdown",
      "metadata": {
        "id": "egnLlgjKt6VV",
        "colab_type": "text"
      },
      "source": [
        "Input/Output\n",
        "\n",
        "[execution time limit] 4 seconds (py3)\n",
        "\n",
        "[input] integer n\n",
        "\n",
        "A ticket number represented as a positive integer with an even number of digits.\n",
        "\n",
        "Guaranteed constraints:\n",
        "10 ≤ n < 106.\n",
        "\n",
        "[output] boolean\n",
        "\n",
        "true if n is a lucky ticket number, false otherwise."
      ]
    },
    {
      "cell_type": "code",
      "metadata": {
        "id": "pfHq0mo7xLWC",
        "colab_type": "code",
        "colab": {}
      },
      "source": [
        "def isLucky(n):\n",
        "    a = list(str(n))\n",
        "    limit = int(len(a)//2)\n",
        "    b = a[:limit]\n",
        "    newlist = []\n",
        "    newhalflist = []\n",
        "    for i in a:\n",
        "         newlist.append(int(i))\n",
        "    for i in b:\n",
        "        newhalflist.append(int(i))\n",
        "    return sum(newlist) == (2*sum(newhalflist))\n"
      ],
      "execution_count": 0,
      "outputs": []
    },
    {
      "cell_type": "code",
      "metadata": {
        "id": "8DfggMPKupwG",
        "colab_type": "code",
        "outputId": "b58846a4-a9c6-4d63-a630-e8ac3c41717d",
        "colab": {
          "base_uri": "https://localhost:8080/",
          "height": 34
        }
      },
      "source": [
        "n = 1230\n",
        "isLucky(n)"
      ],
      "execution_count": 0,
      "outputs": [
        {
          "output_type": "execute_result",
          "data": {
            "text/plain": [
              "True"
            ]
          },
          "metadata": {
            "tags": []
          },
          "execution_count": 4
        }
      ]
    },
    {
      "cell_type": "code",
      "metadata": {
        "id": "9vLC-dHBusjx",
        "colab_type": "code",
        "outputId": "7643ca49-27c7-4bce-9d91-d154c1e108da",
        "colab": {
          "base_uri": "https://localhost:8080/",
          "height": 34
        }
      },
      "source": [
        "#andyman1337\n",
        "def isLucky(n):\n",
        "    s = str(n)\n",
        "    pivot = len(s)//2\n",
        "    left, right = s[:pivot], s[pivot:]\n",
        "    return sum(map(int, left)) == sum(map(int, right))\n"
      ],
      "execution_count": 0,
      "outputs": [
        {
          "output_type": "execute_result",
          "data": {
            "text/plain": [
              "6"
            ]
          },
          "metadata": {
            "tags": []
          },
          "execution_count": 20
        }
      ]
    },
    {
      "cell_type": "markdown",
      "metadata": {
        "id": "8tHqgj4JyldH",
        "colab_type": "text"
      },
      "source": [
        "#**[12] Some people are standing in a row in a park. There are trees between them which cannot be moved. Your task is to rearrange the people by their heights in a non-descending order without moving the trees. People can be very tall!**"
      ]
    },
    {
      "cell_type": "markdown",
      "metadata": {
        "id": "R32GkKScypq8",
        "colab_type": "text"
      },
      "source": [
        "Input/Output\n",
        "\n",
        "[execution time limit] 4 seconds (py3)\n",
        "\n",
        "[input] array.integer a\n",
        "\n",
        "If a[i] = -1, then the ith position is occupied by a tree. Otherwise a[i] is the height of a person standing in the ith position.\n",
        "\n",
        "Guaranteed constraints:\n",
        "1 ≤ a.length ≤ 1000,\n",
        "-1 ≤ a[i] ≤ 1000.\n",
        "\n",
        "[output] array.integer\n",
        "\n",
        "Sorted array a with all the trees untouched."
      ]
    },
    {
      "cell_type": "code",
      "metadata": {
        "id": "HDU0_PITyskU",
        "colab_type": "code",
        "colab": {}
      },
      "source": [
        "def sortByHeight(a):\n",
        "    idx_list = []\n",
        "    num_list = []\n",
        "    for idx, num in enumerate(a):\n",
        "        if -1 == num :\n",
        "            continue\n",
        "        else :\n",
        "            idx_list.append(idx)\n",
        "            num_list.append(num)\n",
        "\n",
        "    num_list = sorted(num_list)\n",
        "\n",
        "    for i in range(len(idx_list)):\n",
        "        a[idx_list[i]] = num_list[i]\n",
        "\n",
        "    return a"
      ],
      "execution_count": 0,
      "outputs": []
    },
    {
      "cell_type": "code",
      "metadata": {
        "id": "ohctSpgM5QQg",
        "colab_type": "code",
        "outputId": "76176cf7-205d-464d-871a-94d696e9be84",
        "colab": {
          "base_uri": "https://localhost:8080/",
          "height": 34
        }
      },
      "source": [
        "a = [-1, 150, 190, 170, -1, -1, 160, 180]\n",
        "sortByHeight(a)"
      ],
      "execution_count": 0,
      "outputs": [
        {
          "output_type": "execute_result",
          "data": {
            "text/plain": [
              "[-1, 150, 160, 170, -1, -1, 180, 190]"
            ]
          },
          "metadata": {
            "tags": []
          },
          "execution_count": 9
        }
      ]
    },
    {
      "cell_type": "code",
      "metadata": {
        "id": "5SxLEmixzCax",
        "colab_type": "code",
        "colab": {}
      },
      "source": [
        "# andrew_pudge\n",
        "def sortByHeight(a):\n",
        "    sorted_list = sorted([i for i in a if i > 0])\n",
        "    for idx, val in enumerate(a):\n",
        "        if val==-1:\n",
        "            sorted_list.insert(idx, val)\n",
        "    return sorted_list\n",
        "        "
      ],
      "execution_count": 0,
      "outputs": []
    },
    {
      "cell_type": "markdown",
      "metadata": {
        "id": "2hlKiRefQgFw",
        "colab_type": "text"
      },
      "source": [
        "#**[13] Write a function that reverses characters in (possibly nested) parentheses in the input string.**\n",
        "\n",
        "**Input strings will always be well-formed with matching ()s.**"
      ]
    },
    {
      "cell_type": "markdown",
      "metadata": {
        "id": "8lHJ35T9QgQB",
        "colab_type": "text"
      },
      "source": [
        "Input/Output\n",
        "\n",
        "[execution time limit] 4 seconds (py3)\n",
        "\n",
        "[input] string inputString\n",
        "\n",
        "A string consisting of lowercase English letters and the characters ( and ). It is guaranteed that all parentheses in inputString form a regular bracket sequence.\n",
        "\n",
        "Guaranteed constraints:\n",
        "0 ≤ inputString.length ≤ 50.\n",
        "\n",
        "[output] string\n",
        "\n",
        "Return inputString, with all the characters that were in parentheses reversed."
      ]
    },
    {
      "cell_type": "code",
      "metadata": {
        "id": "uHyeGa5oQv7O",
        "colab_type": "code",
        "colab": {}
      },
      "source": [
        "#실패 \n",
        "def reverseInParentheses(inputString):\n",
        "    for idx, ch in enumerate(inputString):\n",
        "        if ch == '(' :\n",
        "            start = idx\n",
        "            print(start)\n",
        "        elif ch == ')':\n",
        "            end = idx\n",
        "            inputString = inputString.replace(inputString[start:end+1], inputString[end-1:start:-1])    \n",
        "    return inputString"
      ],
      "execution_count": 0,
      "outputs": []
    },
    {
      "cell_type": "code",
      "metadata": {
        "id": "5KcTNngjRaWu",
        "colab_type": "code",
        "outputId": "3c261fcf-15fb-4c66-8448-2df82b6234d2",
        "colab": {
          "base_uri": "https://localhost:8080/",
          "height": 34
        }
      },
      "source": [
        "inputString = \"(bar)\"\n",
        "reverseInParentheses(inputString)"
      ],
      "execution_count": 0,
      "outputs": [
        {
          "output_type": "execute_result",
          "data": {
            "text/plain": [
              "'rab'"
            ]
          },
          "metadata": {
            "tags": []
          },
          "execution_count": 141
        }
      ]
    },
    {
      "cell_type": "code",
      "metadata": {
        "id": "NKA26cvvcwoJ",
        "colab_type": "code",
        "colab": {}
      },
      "source": [
        "# props to vanpet90 for his genious idea to use eval in the previous version of this task\n",
        "def reverseInParentheses(s):\n",
        "    return eval('\"' + s.replace('(', '\"+(\"').replace(')', '\")[::-1]+\"') + '\"') # s = \"asdfd\"+(\"bar\")[::-1]+\"asdfasfd\"\n",
        "\n",
        "    "
      ],
      "execution_count": 0,
      "outputs": []
    },
    {
      "cell_type": "code",
      "metadata": {
        "id": "il_ra-VCofSx",
        "colab_type": "code",
        "colab": {}
      },
      "source": [
        "#dubrov\n",
        "def reverseInParentheses(s):\n",
        "    for i in range(len(s)):\n",
        "        if s[i] == \"(\":\n",
        "            start = i\n",
        "        if s[i] == \")\":\n",
        "            end = i\n",
        "            return reverseInParentheses(s[:start] + s[start+1:end][::-1] + s[end+1:])\n",
        "    return s\n"
      ],
      "execution_count": 0,
      "outputs": []
    },
    {
      "cell_type": "markdown",
      "metadata": {
        "id": "WAysvdjYLGK8",
        "colab_type": "text"
      },
      "source": [
        "#**[14] Several people are standing in a row and need to be divided into two teams. The first person goes into team 1, the second goes into team 2, the third goes into team 1 again, the fourth into team 2, and so on.**\n",
        "\n",
        "**You are given an array of positive integers - the weights of the people. Return an array of two integers, where the first element is the total weight of team 1, and the second element is the total weight of team 2 after the division is complete.**"
      ]
    },
    {
      "cell_type": "markdown",
      "metadata": {
        "id": "jaK2jZW9LGaD",
        "colab_type": "text"
      },
      "source": [
        "Input/Output\n",
        "\n",
        "[execution time limit] 4 seconds (py3)\n",
        "\n",
        "[input] array.integer a\n",
        "\n",
        "Guaranteed constraints:\n",
        "1 ≤ a.length ≤ 105,\n",
        "45 ≤ a[i] ≤ 100.\n",
        "\n",
        "[output] array.integer"
      ]
    },
    {
      "cell_type": "code",
      "metadata": {
        "id": "3C8te8PzcjP7",
        "colab_type": "code",
        "colab": {}
      },
      "source": [
        "def alternatingSums(a):\n",
        "    t_list = []; t1 = 0; t2 = 0\n",
        "    for idx, num in enumerate(a):\n",
        "        if idx % 2 == 0:\n",
        "            t1 += num\n",
        "        else:\n",
        "            t2 += num\n",
        "\n",
        "    t_list.append(t1); t_list.append(t2)\n",
        "\n",
        "    return t_list\n"
      ],
      "execution_count": 0,
      "outputs": []
    },
    {
      "cell_type": "code",
      "metadata": {
        "id": "WPmc6UVRgka9",
        "colab_type": "code",
        "colab": {
          "base_uri": "https://localhost:8080/",
          "height": 34
        },
        "outputId": "51b9bcd6-500a-433d-df5e-8ab9a2536538"
      },
      "source": [
        "a = [50, 60, 60, 45, 70]\n",
        "alternatingSums(a)"
      ],
      "execution_count": 38,
      "outputs": [
        {
          "output_type": "execute_result",
          "data": {
            "text/plain": [
              "[180, 105]"
            ]
          },
          "metadata": {
            "tags": []
          },
          "execution_count": 38
        }
      ]
    },
    {
      "cell_type": "code",
      "metadata": {
        "id": "q3bXasvwgsRJ",
        "colab_type": "code",
        "colab": {}
      },
      "source": [
        "# andrew_pudge\n",
        "def alternatingSums(a):\n",
        "    return [sum(a[::2]),sum(a[1::2])]"
      ],
      "execution_count": 0,
      "outputs": []
    },
    {
      "cell_type": "code",
      "metadata": {
        "id": "svD_X6hih1KR",
        "colab_type": "code",
        "colab": {}
      },
      "source": [
        ""
      ],
      "execution_count": 0,
      "outputs": []
    }
  ]
}