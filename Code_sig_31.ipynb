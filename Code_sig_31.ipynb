{
  "nbformat": 4,
  "nbformat_minor": 0,
  "metadata": {
    "colab": {
      "name": "Code_sig_31",
      "provenance": [],
      "collapsed_sections": [],
      "authorship_tag": "ABX9TyODnse7DvQlRNvkQOsIDjTF",
      "include_colab_link": true
    },
    "kernelspec": {
      "name": "python3",
      "display_name": "Python 3"
    }
  },
  "cells": [
    {
      "cell_type": "markdown",
      "metadata": {
        "id": "view-in-github",
        "colab_type": "text"
      },
      "source": [
        "<a href=\"https://colab.research.google.com/github/Isak-toast/codefighter/blob/master/Code_sig_31.ipynb\" target=\"_parent\"><img src=\"https://colab.research.google.com/assets/colab-badge.svg\" alt=\"Open In Colab\"/></a>"
      ]
    },
    {
      "cell_type": "markdown",
      "metadata": {
        "id": "HIQr033oadNM",
        "colab_type": "text"
      },
      "source": [
        "#**[31] You have deposited a specific amount of money into your bank account. Each year your balance increases at the same growth rate. With the assumption that you don't make any additional deposits, find out how long it would take for your balance to pass a specific threshold."
      ]
    },
    {
      "cell_type": "markdown",
      "metadata": {
        "id": "wErUSg21aozY",
        "colab_type": "text"
      },
      "source": [
        "Input/Output\n",
        "\n",
        "[execution time limit] 4 seconds (py3)\n",
        "\n",
        "[input] integer deposit\n",
        "\n",
        "The initial deposit, guaranteed to be a positive integer.\n",
        "\n",
        "Guaranteed constraints:\n",
        "1 ≤ deposit ≤ 100.\n",
        "\n",
        "[input] integer rate\n",
        "\n",
        "The rate of increase. Each year the balance increases by the rate percent of the current sum.\n",
        "\n",
        "Guaranteed constraints:\n",
        "1 ≤ rate ≤ 100.\n",
        "\n",
        "[input] integer threshold\n",
        "\n",
        "The target balance.\n",
        "\n",
        "Guaranteed constraints:\n",
        "deposit < threshold ≤ 200.\n",
        "\n",
        "[output] integer\n",
        "\n",
        "The number of years it would take to hit the threshold."
      ]
    },
    {
      "cell_type": "code",
      "metadata": {
        "id": "Mn9TUA1raoBq",
        "colab_type": "code",
        "colab": {}
      },
      "source": [
        "def depositProfit(deposit, rate, threshold):\n",
        "    year = 0\n",
        "    \n",
        "    while(True):\n",
        "        if(deposit >= threshold):\n",
        "            break\n",
        "        deposit = deposit * (1 + (rate / 100))\n",
        "        year += 1\n",
        "    \n",
        "    return year"
      ],
      "execution_count": 0,
      "outputs": []
    },
    {
      "cell_type": "code",
      "metadata": {
        "id": "zLLB9MSMchat",
        "colab_type": "code",
        "colab": {
          "base_uri": "https://localhost:8080/",
          "height": 35
        },
        "outputId": "a630324a-dd0d-44a0-a922-505efaa32e1f"
      },
      "source": [
        "deposit = 100\n",
        "rate = 1\n",
        "threshold = 101\n",
        "depositProfit(deposit, rate, threshold)\n"
      ],
      "execution_count": 2,
      "outputs": [
        {
          "output_type": "execute_result",
          "data": {
            "text/plain": [
              "1"
            ]
          },
          "metadata": {
            "tags": []
          },
          "execution_count": 2
        }
      ]
    },
    {
      "cell_type": "code",
      "metadata": {
        "id": "9e_9BZnJclK6",
        "colab_type": "code",
        "colab": {}
      },
      "source": [
        "# andrew_pudge\n",
        "def depositProfit(deposit, rate, threshold):\n",
        "\n",
        "    return math.ceil(math.log(threshold/deposit, 1+rate/100))"
      ],
      "execution_count": 0,
      "outputs": []
    }
  ]
}